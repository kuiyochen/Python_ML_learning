{
 "cells": [
  {
   "cell_type": "code",
   "execution_count": 1,
   "metadata": {},
   "outputs": [],
   "source": [
    "%matplotlib inline\n",
    "# %env KERAS_BACKEND=tensorflow\n",
    "import numpy as np\n",
    "import pandas as pd\n",
    "import matplotlib.pyplot as plt\n",
    "import matplotlib as mpl\n",
    "from ipywidgets import interact, IntSlider, Button\n",
    "from ipywidgets import interact_manual\n",
    "# import sympy as sym\n",
    "# from sympy import S,N\n",
    "# import locale # 資料處理 轉換數字格式\n",
    "\n",
    "# from sklearn.linear_model import LinearRegression\n",
    "# from keras.utils import np_utils #one hot encoding\n",
    "# from keras.models import Sequential #神經網路的框架keras.models\n",
    "# from keras.layers import Dense, Activation, Embedding\n",
    "# from keras.layers import Flatten # 將資料展平\n",
    "# from keras.layers import Conv2D, MaxPool2D, MaxPooling2D\n",
    "# from keras.optimizers import SGD, Adadelta\n",
    "# from keras.models import model_from_json\n",
    "# from keras.datasets import mnist # mnist內 包含手寫測試資料\n",
    "# from keras.datasets import imdb # imdb內 包含電影評論資料\n",
    "# from keras.preprocessing import sequence # 用來同整不同長度的電影評論，多的擷掉，少的補 0\n",
    "# from sklearn.model_selection import train_test_split\n",
    "\n",
    "# #for Functional API\n",
    "# from keras.models import Model\n",
    "# from keras.layers import Input\n",
    "# from keras.layers import concatenate, add\n",
    "# #for Functional API transfer learning\n",
    "# from keras.layers.core import Lambda\n",
    "# from keras import backend as K\n",
    "\n",
    "# from keras.preprocessing.image import ImageDataGenerator\n",
    "# from keras.layers import Dropout\n",
    "\n",
    "# import matplotlib.image as mpimg #import image file"
   ]
  },
  {
   "cell_type": "code",
   "execution_count": 3,
   "metadata": {},
   "outputs": [
    {
     "name": "stdout",
     "output_type": "stream",
     "text": [
      "<zip object at 0x000001B448AB78C8>\n",
      "[]\n",
      "<zip object at 0x000001B448AC96C8>\n",
      "{(3, 'three'), (2, 'two'), (1, 'one')}\n"
     ]
    }
   ],
   "source": [
    "numberList = [1, 2, 3]\n",
    "strList = ['one', 'two', 'three']\n",
    "\n",
    "# No iterables are passed\n",
    "result = zip()\n",
    "print(result)\n",
    "\n",
    "# Converting itertor to list\n",
    "resultList = list(result)\n",
    "print(resultList)\n",
    "\n",
    "# Two iterables are passed\n",
    "result = zip(numberList, strList)\n",
    "print(result)\n",
    "\n",
    "# Converting itertor to set\n",
    "resultSet = set(result)\n",
    "print(resultSet)"
   ]
  },
  {
   "cell_type": "code",
   "execution_count": 4,
   "metadata": {},
   "outputs": [
    {
     "name": "stdout",
     "output_type": "stream",
     "text": [
      "[(1, 2, 3), ('one', 'two', 'three')]\n"
     ]
    }
   ],
   "source": [
    "result = zip(numberList, strList)\n",
    "\n",
    "aa=zip(*result)\n",
    "print(list(aa))"
   ]
  },
  {
   "cell_type": "code",
   "execution_count": 4,
   "metadata": {},
   "outputs": [],
   "source": [
    "X=np.array([1,2,3,4,5])"
   ]
  },
  {
   "cell_type": "code",
   "execution_count": 8,
   "metadata": {},
   "outputs": [],
   "source": [
    "s=np.arange(5)\n",
    "s=np.random.permutation(s)"
   ]
  },
  {
   "cell_type": "code",
   "execution_count": 9,
   "metadata": {},
   "outputs": [],
   "source": [
    "X=X[s]"
   ]
  },
  {
   "cell_type": "code",
   "execution_count": 10,
   "metadata": {},
   "outputs": [
    {
     "name": "stdout",
     "output_type": "stream",
     "text": [
      "[1 5 2 3 4]\n"
     ]
    }
   ],
   "source": [
    "print(X)"
   ]
  },
  {
   "cell_type": "code",
   "execution_count": 5,
   "metadata": {},
   "outputs": [
    {
     "name": "stdout",
     "output_type": "stream",
     "text": [
      "777\n",
      "\n",
      "777\n",
      "\n"
     ]
    }
   ],
   "source": [
    "a=777\n",
    "print(f\"{a}\\n\")\n",
    "print(\"{}\\n\".format(a))"
   ]
  },
  {
   "cell_type": "code",
   "execution_count": 106,
   "metadata": {},
   "outputs": [
    {
     "data": {
      "text/plain": [
       "(1+1j)"
      ]
     },
     "execution_count": 106,
     "metadata": {},
     "output_type": "execute_result"
    }
   ],
   "source": [
    "1+1j"
   ]
  },
  {
   "cell_type": "code",
   "execution_count": 107,
   "metadata": {},
   "outputs": [
    {
     "data": {
      "text/plain": [
       "(-1+5j)"
      ]
     },
     "execution_count": 107,
     "metadata": {},
     "output_type": "execute_result"
    }
   ],
   "source": [
    "(1+1j)*(2+3j)"
   ]
  },
  {
   "cell_type": "code",
   "execution_count": 28,
   "metadata": {},
   "outputs": [],
   "source": [
    "layer_sizes=[2,3,4,5]\n",
    "weight_shapes=[(a,b) for a,b in zip(layer_sizes[:-1],layer_sizes[1:])]\n",
    "weights=[np.random.standard_normal(s)/s[0]**.5 for s in weight_shapes]\n",
    "biases=[np.zeros((s,1)) for s in layer_sizes[1:]]\n",
    "neurals_outputs=[np.zeros((s,1)) for s in layer_sizes[0:]]"
   ]
  },
  {
   "cell_type": "code",
   "execution_count": 133,
   "metadata": {},
   "outputs": [
    {
     "data": {
      "text/plain": [
       "[(2, 3), (3, 4), (4, 5)]"
      ]
     },
     "execution_count": 133,
     "metadata": {},
     "output_type": "execute_result"
    }
   ],
   "source": [
    "weight_shapes"
   ]
  },
  {
   "cell_type": "code",
   "execution_count": 29,
   "metadata": {},
   "outputs": [
    {
     "data": {
      "text/plain": [
       "[array([[ 0.58551536, -0.73224492,  0.01158558],\n",
       "        [ 1.13354609,  0.35818887,  0.47743818]]),\n",
       " array([[ 1.23904384, -0.35505757, -0.56657495,  0.34855201],\n",
       "        [ 1.04171585, -0.40168592,  0.75692632, -0.09791432],\n",
       "        [ 0.09713811, -0.23545934,  1.47199594,  0.83778739]]),\n",
       " array([[-0.39707627,  0.48939351,  0.27729745, -0.18447112, -0.12593471],\n",
       "        [ 0.60972889,  0.39114768,  0.29611014,  0.22379605, -0.44514727],\n",
       "        [ 0.2171658 ,  0.23104076, -0.12191543, -0.17856241, -0.6448353 ],\n",
       "        [-0.39771126,  0.25176202,  0.64634667,  0.08932379,  0.21677208]])]"
      ]
     },
     "execution_count": 29,
     "metadata": {},
     "output_type": "execute_result"
    }
   ],
   "source": [
    "weights"
   ]
  },
  {
   "cell_type": "code",
   "execution_count": 135,
   "metadata": {},
   "outputs": [
    {
     "data": {
      "text/plain": [
       "[array([[0.],\n",
       "        [0.],\n",
       "        [0.]]), array([[0.],\n",
       "        [0.],\n",
       "        [0.],\n",
       "        [0.]]), array([[0.],\n",
       "        [0.],\n",
       "        [0.],\n",
       "        [0.],\n",
       "        [0.]])]"
      ]
     },
     "execution_count": 135,
     "metadata": {},
     "output_type": "execute_result"
    }
   ],
   "source": [
    "biases"
   ]
  },
  {
   "cell_type": "code",
   "execution_count": 30,
   "metadata": {},
   "outputs": [
    {
     "data": {
      "text/plain": [
       "[array([[0.],\n",
       "        [0.]]), array([[0.],\n",
       "        [0.],\n",
       "        [0.]]), array([[0.],\n",
       "        [0.],\n",
       "        [0.],\n",
       "        [0.]]), array([[0.],\n",
       "        [0.],\n",
       "        [0.],\n",
       "        [0.],\n",
       "        [0.]])]"
      ]
     },
     "execution_count": 30,
     "metadata": {},
     "output_type": "execute_result"
    }
   ],
   "source": [
    "neurals_outputs"
   ]
  },
  {
   "cell_type": "code",
   "execution_count": 2,
   "metadata": {},
   "outputs": [],
   "source": [
    "def activation_function(x):\n",
    "    return x if x>0 else 0\n",
    "def activation_function_derivation(x):\n",
    "    return x if 1 else 0"
   ]
  },
  {
   "cell_type": "code",
   "execution_count": 45,
   "metadata": {},
   "outputs": [],
   "source": [
    "def single_neural(layer_index, index):\n",
    "    if layer_index<=0:\n",
    "        return neurals_outputs[layer_index][index]\n",
    "    else:\n",
    "        return activation_function(weights[layer_index-1].T[index]\n",
    "                                   @ neurals_outputs[layer_index-1].ravel()\n",
    "                                   + biases[layer_index][index])"
   ]
  },
  {
   "cell_type": "code",
   "execution_count": 19,
   "metadata": {},
   "outputs": [
    {
     "data": {
      "text/plain": [
       "0.9993197"
      ]
     },
     "execution_count": 19,
     "metadata": {},
     "output_type": "execute_result"
    }
   ],
   "source": [
    "K=np.array([[ 1.17820575,  0.9993197 ,  0.01211692],\n",
    "        [ 0.55105871, -0.06608075, -0.56188732]])\n",
    "K[0][1]"
   ]
  },
  {
   "cell_type": "code",
   "execution_count": 32,
   "metadata": {},
   "outputs": [
    {
     "data": {
      "text/plain": [
       "array([0., 0.])"
      ]
     },
     "execution_count": 32,
     "metadata": {},
     "output_type": "execute_result"
    }
   ],
   "source": [
    "weights[0].T[0] * neurals_outputs[0][0]"
   ]
  },
  {
   "cell_type": "code",
   "execution_count": 33,
   "metadata": {},
   "outputs": [
    {
     "data": {
      "text/plain": [
       "array([0.58551536, 1.13354609])"
      ]
     },
     "execution_count": 33,
     "metadata": {},
     "output_type": "execute_result"
    }
   ],
   "source": [
    "weights[0].T[0]"
   ]
  },
  {
   "cell_type": "code",
   "execution_count": 40,
   "metadata": {},
   "outputs": [
    {
     "data": {
      "text/plain": [
       "0.0"
      ]
     },
     "execution_count": 40,
     "metadata": {},
     "output_type": "execute_result"
    }
   ],
   "source": [
    "weights[0].T[0] @ neurals_outputs[0].ravel()"
   ]
  },
  {
   "cell_type": "code",
   "execution_count": 47,
   "metadata": {},
   "outputs": [
    {
     "data": {
      "text/plain": [
       "0"
      ]
     },
     "execution_count": 47,
     "metadata": {},
     "output_type": "execute_result"
    }
   ],
   "source": [
    "single_neural(1,2)"
   ]
  },
  {
   "cell_type": "code",
   "execution_count": 87,
   "metadata": {},
   "outputs": [
    {
     "data": {
      "text/plain": [
       "array([ 6, 10,  2])"
      ]
     },
     "execution_count": 87,
     "metadata": {},
     "output_type": "execute_result"
    }
   ],
   "source": [
    "zz=np.array([[1,2],[3,4],[0,-1]]).T\n",
    "zz1=np.array([5,6])\n",
    "def addddd(x,y,z=0):\n",
    "    return x+y+z\n",
    "\n",
    "addddd(*zz,z=3)\n",
    "#addddd(*zip(*zz))\n",
    "#list(zip(*zz))"
   ]
  },
  {
   "cell_type": "code",
   "execution_count": 32,
   "metadata": {},
   "outputs": [
    {
     "name": "stdout",
     "output_type": "stream",
     "text": [
      "[5, 7, 3, 4] type= <class 'list'> len= 4\n",
      "5 type= <class 'int'>\n"
     ]
    }
   ],
   "source": [
    "list1=[5,7,3,4]\n",
    "print(list1,'type=',type(list1),'len=',len(list1))\n",
    "print(list1[0],'type=',type(list1[0]))"
   ]
  },
  {
   "cell_type": "code",
   "execution_count": 33,
   "metadata": {},
   "outputs": [
    {
     "name": "stdout",
     "output_type": "stream",
     "text": [
      "[5, 38, 7, 3, 4]\n",
      "None\n",
      "[5, 38, 7, 3, 4]\n"
     ]
    }
   ],
   "source": [
    "list2=list1.insert(1,38) #list1依然會\n",
    "print(list1)\n",
    "print(list2)\n",
    "list2=list1.copy()\n",
    "print(list2)"
   ]
  },
  {
   "cell_type": "code",
   "execution_count": 34,
   "metadata": {},
   "outputs": [
    {
     "name": "stdout",
     "output_type": "stream",
     "text": [
      "[5, 7, 3, [33, 34], 4] len= 5\n",
      "[5 7 3 list([33, 34]) 4]\n",
      "[5, 7, 3, [33, 34], 4] len= 5\n",
      "[5, 7, 3, 4, 33, 34] len= 6\n"
     ]
    }
   ],
   "source": [
    "list1=[5,7,3,4]\n",
    "list2=[33,34]\n",
    "list1.insert(3,list2)\n",
    "print(list1,'len=',len(list1))\n",
    "print(np.array(list1))\n",
    "list1=list(np.array(list1).ravel())\n",
    "print(list1,'len=',len(list1))\n",
    "list1=[5,7,3,4]\n",
    "list1.extend(list2)\n",
    "print(list1,'len=',len(list1))"
   ]
  },
  {
   "cell_type": "code",
   "execution_count": 35,
   "metadata": {},
   "outputs": [
    {
     "name": "stdout",
     "output_type": "stream",
     "text": [
      "[5, 7, 3, 7, 4, 33, 34]\n"
     ]
    },
    {
     "data": {
      "text/plain": [
       "1"
      ]
     },
     "execution_count": 35,
     "metadata": {},
     "output_type": "execute_result"
    }
   ],
   "source": [
    "list1.insert(3,7)\n",
    "print(list1)\n",
    "list1.index(7) #尋找元素"
   ]
  },
  {
   "cell_type": "code",
   "execution_count": 5,
   "metadata": {
    "scrolled": true
   },
   "outputs": [
    {
     "name": "stdout",
     "output_type": "stream",
     "text": [
      "{3, 4, 5, 7}\n",
      "[3, 4, 5, 7]\n"
     ]
    }
   ],
   "source": [
    "list1=[5,7,7,3,4]\n",
    "print(set(list1))\n",
    "print(list(set(list1)))"
   ]
  },
  {
   "cell_type": "code",
   "execution_count": 7,
   "metadata": {
    "scrolled": true
   },
   "outputs": [
    {
     "name": "stdout",
     "output_type": "stream",
     "text": [
      "True\n",
      "False\n"
     ]
    }
   ],
   "source": [
    "print({2,2,4}<={3,4,5,6,7,7,2,4,7})#inclusion in set\n",
    "print({2,2,1}<={3,4,5,6,7,7,2,4,7})"
   ]
  },
  {
   "cell_type": "code",
   "execution_count": 4,
   "metadata": {
    "scrolled": true
   },
   "outputs": [
    {
     "data": {
      "text/plain": [
       "matrix([[ 1,  9],\n",
       "        [ 3, 19]])"
      ]
     },
     "execution_count": 4,
     "metadata": {},
     "output_type": "execute_result"
    }
   ],
   "source": [
    "np.mat('1 2;3 4')*np.mat('1 1;0 4')"
   ]
  },
  {
   "cell_type": "code",
   "execution_count": 50,
   "metadata": {},
   "outputs": [
    {
     "name": "stdout",
     "output_type": "stream",
     "text": [
      "[1 2 2]\n",
      "[      1.  2324908.        2.5]\n",
      "[      2.  2324909.        3.5]\n"
     ]
    }
   ],
   "source": [
    "np.set_printoptions(suppress=True)#使float不以科學記號表示，suppress=ˇ3表示flaot顯示小數點後3位\n",
    "x=np.array([1, 2, 2.5])\n",
    "y=[\"1\", \"2,324,908\", \"2.5\"]\n",
    "y=list(map(lambda z:z.replace(',',''),y))\n",
    "print(x.astype(int))\n",
    "print(np.array(y).astype(float))\n",
    "y=np.array(y).astype(float)\n",
    "print(y+1)"
   ]
  },
  {
   "cell_type": "code",
   "execution_count": null,
   "metadata": {},
   "outputs": [],
   "source": [
    "#C:\\\\Windows\\\\Fonts\\\\kaiu.ttf"
   ]
  },
  {
   "cell_type": "code",
   "execution_count": 52,
   "metadata": {},
   "outputs": [
    {
     "name": "stdout",
     "output_type": "stream",
     "text": [
      "c:\\users\\奎佑\\appdata\\local\\programs\\python\\python36\\lib\\site-packages\\matplotlib\\__init__.py\n"
     ]
    }
   ],
   "source": [
    "print(mpl.__file__)"
   ]
  },
  {
   "cell_type": "code",
   "execution_count": 36,
   "metadata": {},
   "outputs": [
    {
     "data": {
      "text/plain": [
       "array(<_io.TextIOWrapper name='bmp.bmp' mode='r' encoding='cp950'>,\n",
       "      dtype=object)"
      ]
     },
     "execution_count": 36,
     "metadata": {},
     "output_type": "execute_result"
    }
   ],
   "source": [
    "f = open('bmp.bmp', 'r')\n",
    "# jpgdata = f.read()\n",
    "# plt.imshow(f,cmap='Greys')\n",
    "# f.close()"
   ]
  },
  {
   "cell_type": "code",
   "execution_count": 21,
   "metadata": {},
   "outputs": [
    {
     "ename": "OSError",
     "evalue": "[Errno 22] Invalid argument: 'https://img.purch.com/w/660/aHR0cDovL3d3dy5saXZlc2NpZW5jZS5jb20vaW1hZ2VzL2kvMDAwLzEwNC84MTkvb3JpZ2luYWwvY3V0ZS1raXR0ZW4uanBn'",
     "output_type": "error",
     "traceback": [
      "\u001b[1;31m---------------------------------------------------------------------------\u001b[0m",
      "\u001b[1;31mOSError\u001b[0m                                   Traceback (most recent call last)",
      "\u001b[1;32m<ipython-input-21-2cb85e4ca231>\u001b[0m in \u001b[0;36m<module>\u001b[1;34m\u001b[0m\n\u001b[0;32m      1\u001b[0m \u001b[0murl\u001b[0m\u001b[1;33m=\u001b[0m\u001b[1;34m\"https://img.purch.com/w/660/aHR0cDovL3d3dy5saXZlc2NpZW5jZS5jb20vaW1hZ2VzL2kvMDAwLzEwNC84MTkvb3JpZ2luYWwvY3V0ZS1raXR0ZW4uanBn\"\u001b[0m\u001b[1;33m\u001b[0m\u001b[1;33m\u001b[0m\u001b[0m\n\u001b[1;32m----> 2\u001b[1;33m \u001b[0mopen\u001b[0m\u001b[1;33m(\u001b[0m\u001b[0murl\u001b[0m\u001b[1;33m)\u001b[0m\u001b[1;33m\u001b[0m\u001b[1;33m\u001b[0m\u001b[0m\n\u001b[0m",
      "\u001b[1;31mOSError\u001b[0m: [Errno 22] Invalid argument: 'https://img.purch.com/w/660/aHR0cDovL3d3dy5saXZlc2NpZW5jZS5jb20vaW1hZ2VzL2kvMDAwLzEwNC84MTkvb3JpZ2luYWwvY3V0ZS1raXR0ZW4uanBn'"
     ]
    }
   ],
   "source": [
    "url=\"https://img.purch.com/w/660/aHR0cDovL3d3dy5saXZlc2NpZW5jZS5jb20vaW1hZ2VzL2kvMDAwLzEwNC84MTkvb3JpZ2luYWwvY3V0ZS1raXR0ZW4uanBn\"\n"
   ]
  },
  {
   "cell_type": "code",
   "execution_count": 5,
   "metadata": {},
   "outputs": [
    {
     "name": "stdout",
     "output_type": "stream",
     "text": [
      "(650, 1000, 4)\n"
     ]
    },
    {
     "data": {
      "text/plain": [
       "array([[[0.92941177, 0.10980392, 0.14117648, 1.        ],\n",
       "        [1.        , 0.49803922, 0.15294118, 1.        ],\n",
       "        [1.        , 0.9490196 , 0.        , 1.        ],\n",
       "        ...,\n",
       "        [0.        , 0.        , 0.        , 1.        ],\n",
       "        [0.        , 0.        , 0.        , 1.        ],\n",
       "        [0.        , 0.        , 0.        , 1.        ]],\n",
       "\n",
       "       [[0.        , 0.        , 0.        , 1.        ],\n",
       "        [0.        , 0.        , 0.        , 1.        ],\n",
       "        [0.        , 0.        , 0.        , 1.        ],\n",
       "        ...,\n",
       "        [0.        , 0.        , 0.        , 1.        ],\n",
       "        [0.        , 0.        , 0.        , 1.        ],\n",
       "        [0.        , 0.        , 0.        , 1.        ]],\n",
       "\n",
       "       [[0.        , 0.        , 0.        , 1.        ],\n",
       "        [0.        , 0.        , 0.        , 1.        ],\n",
       "        [0.        , 0.        , 0.        , 1.        ],\n",
       "        ...,\n",
       "        [0.        , 0.        , 0.        , 1.        ],\n",
       "        [0.        , 0.        , 0.        , 1.        ],\n",
       "        [0.        , 0.        , 0.        , 1.        ]],\n",
       "\n",
       "       ...,\n",
       "\n",
       "       [[0.        , 0.        , 0.        , 1.        ],\n",
       "        [0.        , 0.        , 0.        , 1.        ],\n",
       "        [0.        , 0.        , 0.        , 1.        ],\n",
       "        ...,\n",
       "        [0.        , 0.        , 0.        , 1.        ],\n",
       "        [0.        , 0.        , 0.        , 1.        ],\n",
       "        [0.        , 0.        , 0.        , 1.        ]],\n",
       "\n",
       "       [[0.        , 0.        , 0.        , 1.        ],\n",
       "        [0.        , 0.        , 0.        , 1.        ],\n",
       "        [0.        , 0.        , 0.        , 1.        ],\n",
       "        ...,\n",
       "        [0.        , 0.        , 0.        , 1.        ],\n",
       "        [0.        , 0.        , 0.        , 1.        ],\n",
       "        [0.        , 0.        , 0.        , 1.        ]],\n",
       "\n",
       "       [[0.        , 0.        , 0.        , 1.        ],\n",
       "        [0.        , 0.        , 0.        , 1.        ],\n",
       "        [0.        , 0.        , 0.        , 1.        ],\n",
       "        ...,\n",
       "        [0.        , 0.63529414, 0.9098039 , 1.        ],\n",
       "        [0.24705882, 0.28235295, 0.8       , 1.        ],\n",
       "        [0.6392157 , 0.28627452, 0.6431373 , 1.        ]]], dtype=float32)"
      ]
     },
     "execution_count": 5,
     "metadata": {},
     "output_type": "execute_result"
    },
    {
     "data": {
      "image/png": "[encoded data removed]",
      "text/plain": [
       "<Figure size 432x288 with 1 Axes>"
      ]
     },
     "metadata": {
      "needs_background": "light"
     },
     "output_type": "display_data"
    }
   ],
   "source": [
    "import matplotlib.image as mpimg\n",
    "# img=mpimg.imread('stinkbug.png')\n",
    "img_png=mpimg.imread(\"image_test/png.png\")# , format=\"PNG\")\n",
    "plt.imshow(img_png)\n",
    "print(img_png.shape)\n",
    "img_png\n",
    "# img_jpg=mpimg.imread(\"jpg.jpg\")\n",
    "# plt.imshow(img_jpg)\n",
    "# img_bmp=mpimg.imread(\"bmp.bmp\")\n",
    "# plt.imshow(img_bmp)"
   ]
  },
  {
   "cell_type": "code",
   "execution_count": 3,
   "metadata": {},
   "outputs": [
    {
     "data": {
      "text/plain": [
       "array([[[ 0.0657488 ,  0.37803936,  0.28316284, -1.59739349,\n",
       "          1.13354684],\n",
       "        [-2.16136941,  0.86623663, -2.12294901, -2.02054144,\n",
       "         -1.51185831],\n",
       "        [-0.37314444,  1.61573054, -2.10104984, -1.03596607,\n",
       "         -0.86609627],\n",
       "        [ 1.26905804, -0.59257849, -0.51974761, -0.63615731,\n",
       "         -1.28322268],\n",
       "        [-0.73703189,  2.40939073, -1.48214427, -1.47697942,\n",
       "         -0.72938259],\n",
       "        [-0.18641221, -0.37990971,  1.14855785,  1.19138716,\n",
       "         -0.9152463 ]],\n",
       "\n",
       "       [[-0.63750553, -0.96021392,  0.68568165,  1.02601155,\n",
       "          1.4505447 ],\n",
       "        [-1.14846178, -1.3395144 , -1.39485932,  0.83259235,\n",
       "          1.03328024],\n",
       "        [ 1.10424513, -0.24891086,  0.37939315,  0.19563757,\n",
       "          1.11725058],\n",
       "        [ 0.20760184, -1.78243418, -0.67106357,  0.13920393,\n",
       "          0.64794725],\n",
       "        [ 1.4151336 ,  1.32346247,  0.09739665,  0.38769569,\n",
       "          0.84338035],\n",
       "        [-0.27093947, -0.96121134,  0.77725915, -0.54620816,\n",
       "          0.14544693]],\n",
       "\n",
       "       [[-0.71466054, -0.73735512,  0.51137891, -1.48772409,\n",
       "          0.49106072],\n",
       "        [ 0.07188894, -0.32191593,  0.41887064, -0.19234847,\n",
       "          0.96531254],\n",
       "        [ 1.54897943, -1.49796441, -0.0865442 , -0.61539854,\n",
       "          0.20131834],\n",
       "        [-0.02506031, -1.05672509, -1.60029887,  0.24036905,\n",
       "          1.09810877],\n",
       "        [-0.11527542,  0.84559282,  0.46531314,  0.84330471,\n",
       "         -0.59276537],\n",
       "        [ 0.72007276,  3.24267514,  0.50524311, -0.64248552,\n",
       "          0.53680982]],\n",
       "\n",
       "       [[ 1.07271921, -1.52159203,  0.06370599,  1.63922203,\n",
       "          1.37064808],\n",
       "        [ 0.6270822 ,  0.73876364, -1.07108357,  1.61960727,\n",
       "         -1.32567675],\n",
       "        [ 0.50952691,  0.6109567 ,  0.87892718,  0.24799877,\n",
       "         -0.75898557],\n",
       "        [-1.8032771 ,  0.18867574, -0.60427964,  0.37066064,\n",
       "          1.50155868],\n",
       "        [-0.72439724, -0.06353285, -0.38503284, -1.9672707 ,\n",
       "         -0.72371652],\n",
       "        [-0.383418  ,  0.35224699,  0.11243067,  1.16030359,\n",
       "          0.22470577]]])"
      ]
     },
     "execution_count": 3,
     "metadata": {},
     "output_type": "execute_result"
    }
   ],
   "source": [
    "reshape_testing_array=np.random.randn(4,6,5)\n",
    "reshape_testing_array"
   ]
  },
  {
   "cell_type": "code",
   "execution_count": 4,
   "metadata": {},
   "outputs": [
    {
     "data": {
      "text/plain": [
       "array([[[ 0.0657488 ,  0.37803936,  0.28316284, -1.59739349,\n",
       "          1.13354684],\n",
       "        [-2.16136941,  0.86623663, -2.12294901, -2.02054144,\n",
       "         -1.51185831],\n",
       "        [-0.37314444,  1.61573054, -2.10104984, -1.03596607,\n",
       "         -0.86609627],\n",
       "        [ 1.26905804, -0.59257849, -0.51974761, -0.63615731,\n",
       "         -1.28322268],\n",
       "        [-0.73703189,  2.40939073, -1.48214427, -1.47697942,\n",
       "         -0.72938259],\n",
       "        [-0.18641221, -0.37990971,  1.14855785,  1.19138716,\n",
       "         -0.9152463 ],\n",
       "        [-0.63750553, -0.96021392,  0.68568165,  1.02601155,\n",
       "          1.4505447 ],\n",
       "        [-1.14846178, -1.3395144 , -1.39485932,  0.83259235,\n",
       "          1.03328024],\n",
       "        [ 1.10424513, -0.24891086,  0.37939315,  0.19563757,\n",
       "          1.11725058],\n",
       "        [ 0.20760184, -1.78243418, -0.67106357,  0.13920393,\n",
       "          0.64794725],\n",
       "        [ 1.4151336 ,  1.32346247,  0.09739665,  0.38769569,\n",
       "          0.84338035],\n",
       "        [-0.27093947, -0.96121134,  0.77725915, -0.54620816,\n",
       "          0.14544693]],\n",
       "\n",
       "       [[-0.71466054, -0.73735512,  0.51137891, -1.48772409,\n",
       "          0.49106072],\n",
       "        [ 0.07188894, -0.32191593,  0.41887064, -0.19234847,\n",
       "          0.96531254],\n",
       "        [ 1.54897943, -1.49796441, -0.0865442 , -0.61539854,\n",
       "          0.20131834],\n",
       "        [-0.02506031, -1.05672509, -1.60029887,  0.24036905,\n",
       "          1.09810877],\n",
       "        [-0.11527542,  0.84559282,  0.46531314,  0.84330471,\n",
       "         -0.59276537],\n",
       "        [ 0.72007276,  3.24267514,  0.50524311, -0.64248552,\n",
       "          0.53680982],\n",
       "        [ 1.07271921, -1.52159203,  0.06370599,  1.63922203,\n",
       "          1.37064808],\n",
       "        [ 0.6270822 ,  0.73876364, -1.07108357,  1.61960727,\n",
       "         -1.32567675],\n",
       "        [ 0.50952691,  0.6109567 ,  0.87892718,  0.24799877,\n",
       "         -0.75898557],\n",
       "        [-1.8032771 ,  0.18867574, -0.60427964,  0.37066064,\n",
       "          1.50155868],\n",
       "        [-0.72439724, -0.06353285, -0.38503284, -1.9672707 ,\n",
       "         -0.72371652],\n",
       "        [-0.383418  ,  0.35224699,  0.11243067,  1.16030359,\n",
       "          0.22470577]]])"
      ]
     },
     "execution_count": 4,
     "metadata": {},
     "output_type": "execute_result"
    }
   ],
   "source": [
    "reshape_testing_array.shape=(2,-1,5)#效果等同(2,12,5)，-1會自動填上[(4*5*6)/(2*5)]這個數字\n",
    "reshape_testing_array"
   ]
  },
  {
   "cell_type": "code",
   "execution_count": 3,
   "metadata": {},
   "outputs": [
    {
     "data": {
      "text/plain": [
       "[90, 89, 78, 67, 0, 45, 34, 23]"
      ]
     },
     "execution_count": 3,
     "metadata": {},
     "output_type": "execute_result"
    }
   ],
   "source": [
    "x=[23,34,45,0,67,78,89,90]\n",
    "x[::-1]"
   ]
  },
  {
   "cell_type": "code",
   "execution_count": 2,
   "metadata": {},
   "outputs": [],
   "source": [
    "from sklearn.model_selection import train_test_split"
   ]
  },
  {
   "cell_type": "code",
   "execution_count": 24,
   "metadata": {},
   "outputs": [
    {
     "data": {
      "text/plain": [
       "array([[1., 0.],\n",
       "       [1., 0.],\n",
       "       [0., 1.],\n",
       "       [0., 1.],\n",
       "       [0., 1.]], dtype=float32)"
      ]
     },
     "execution_count": 24,
     "metadata": {},
     "output_type": "execute_result"
    }
   ],
   "source": [
    "from keras.utils import np_utils\n",
    "X=np.array([\n",
    "    [1,2],\n",
    "    [3,0],\n",
    "    [7,9],\n",
    "    [5,5],\n",
    "    [2,8]\n",
    "])\n",
    "Y=np.array([0,0,1,1,1])\n",
    "Y=np_utils.to_categorical(Y,2)\n",
    "Y"
   ]
  },
  {
   "cell_type": "code",
   "execution_count": 28,
   "metadata": {},
   "outputs": [
    {
     "name": "stdout",
     "output_type": "stream",
     "text": [
      "x_train=\n",
      "[[1 2]\n",
      " [5 5]\n",
      " [3 0]]\n",
      "\n",
      "x_test=\n",
      "[[2 8]\n",
      " [7 9]]\n",
      "\n",
      "y_train=\n",
      "[[1. 0.]\n",
      " [0. 1.]\n",
      " [1. 0.]]\n",
      "\n",
      "y_test=\n",
      "[[0. 1.]\n",
      " [0. 1.]]\n",
      "\n"
     ]
    }
   ],
   "source": [
    "x_train, x_test, y_train, y_test = train_test_split(X, Y, test_size=0.3)#, random_state=87)\n",
    "print(f\"x_train = \\n{x_train}\\n\")\n",
    "print(f\"x_test = \\n{x_test}\\n\")\n",
    "print(f\"y_train = \\n{y_train}\\n\")\n",
    "print(f\"y_test = \\n{y_test}\\n\")"
   ]
  },
  {
   "cell_type": "code",
   "execution_count": 38,
   "metadata": {},
   "outputs": [
    {
     "name": "stdout",
     "output_type": "stream",
     "text": [
      "(60, 59, 4)\n",
      "(60, 60, 4)\n"
     ]
    },
    {
     "data": {
      "text/plain": [
       "(60, 60, 3)"
      ]
     },
     "execution_count": 38,
     "metadata": {},
     "output_type": "execute_result"
    },
    {
     "data": {
      "image/png": "[encoded data removed]",
      "text/plain": [
       "<Figure size 432x288 with 1 Axes>"
      ]
     },
     "metadata": {
      "needs_background": "light"
     },
     "output_type": "display_data"
    }
   ],
   "source": [
    "import matplotlib.image as mpimg\n",
    "total_test_number=2\n",
    "img_png=np.zeros((60,60,3,total_test_number))\n",
    "for i in range(1,total_test_number+1):\n",
    "    img=mpimg.imread(f\"image_test/test ({i}).png\")\n",
    "    print(img.shape)\n",
    "    if img.shape[1]==59: # 修正調整圖片大小\n",
    "        img_add_col = np.zeros((60,60,4))\n",
    "        img_add_col[:,:-1,:] = img\n",
    "        img = img_add_col\n",
    "        img[:,59,:]=img[:,58,:]\n",
    "    img_png[:,:,:,i-1]=img[0:60,0:60,0:3] # 0:3是因為此處刪除 透明度channel，修正調整圖片大小\n",
    "\n",
    "plt.imshow(img_png[:,:,:,0])\n",
    "# plt.imshow(img_png[:,:,:,1])\n",
    "img_png[:,:,:,0].shape"
   ]
  },
  {
   "cell_type": "code",
   "execution_count": 6,
   "metadata": {},
   "outputs": [
    {
     "name": "stdout",
     "output_type": "stream",
     "text": [
      "(1, 2, 3, 4)\n",
      "(4, 1, 2, 3)\n"
     ]
    },
    {
     "data": {
      "text/plain": [
       "array([[[[ 0,  4,  8],\n",
       "         [12, 16, 20]]],\n",
       "\n",
       "\n",
       "       [[[ 1,  5,  9],\n",
       "         [13, 17, 21]]],\n",
       "\n",
       "\n",
       "       [[[ 2,  6, 10],\n",
       "         [14, 18, 22]]],\n",
       "\n",
       "\n",
       "       [[[ 3,  7, 11],\n",
       "         [15, 19, 23]]]])"
      ]
     },
     "execution_count": 6,
     "metadata": {},
     "output_type": "execute_result"
    }
   ],
   "source": [
    "aa = np.arange(24).reshape(1,2,3,4)\n",
    "print(aa.shape)\n",
    "bb = np.transpose(aa,(3,0,1,2))\n",
    "print(bb.shape)\n",
    "bb"
   ]
  },
  {
   "cell_type": "code",
   "execution_count": 47,
   "metadata": {},
   "outputs": [
    {
     "data": {
      "image/png": "[encoded data removed]",
      "text/plain": [
       "<Figure size 432x288 with 1 Axes>"
      ]
     },
     "metadata": {
      "needs_background": "light"
     },
     "output_type": "display_data"
    }
   ],
   "source": [
    "import matplotlib.image as mpimg\n",
    "import matplotlib.pyplot as plt\n",
    "import matplotlib.patches as patches\n",
    "\n",
    "def plot_with_rectangle(img, *rects):\n",
    "    # Create figure and axes\n",
    "    fig,ax = plt.subplots(1)\n",
    "\n",
    "    # Display the image\n",
    "    ax.imshow(img)\n",
    "\n",
    "    for rect in rects:\n",
    "        # x1 = rect[0]\n",
    "        # y1 = rect[1]\n",
    "        # LL = rect[2]\n",
    "        # CC = rect[3]\n",
    "        [x1, y1, LL, CC]=rect\n",
    "\n",
    "        # edgecolor = np.random.rand(3)\n",
    "        edgecolor = np.random.rand(4)\n",
    "        edgecolor[3] = (edgecolor[3]+1)/2\n",
    "\n",
    "        # Create a Rectangle patch\n",
    "        rect = patches.Rectangle((x1, y1), LL, CC, linewidth = 5, edgecolor = edgecolor, facecolor = 'none')\n",
    "        # edgecolor = '#FFFFFF'\n",
    "        # edgecolor = 'b'\n",
    "        # edgecolor = (0.1, 0.2, 0.5) # RGB\n",
    "        # edgecolor = (0.1, 0.2, 0.5, 0.7) # RGBA\n",
    "\n",
    "        # Add the patch to the Axes\n",
    "        ax.add_patch(rect)\n",
    "\n",
    "# img_png=mpimg.imread(\"image_test/png.png\")\n",
    "plot_with_rectangle(mpimg.imread(\"image_test/png.png\"), (50, 100, 200, 300), (600, 200, 300, 400))"
   ]
  },
  {
   "cell_type": "code",
   "execution_count": 2,
   "metadata": {},
   "outputs": [
    {
     "data": {
      "application/vnd.jupyter.widget-view+json": {
       "model_id": "94501d7429914f6e943f7b4bc548448e",
       "version_major": 2,
       "version_minor": 0
      },
      "text/plain": [
       "interactive(children=(Dropdown(description='obj', options={0: [1, 1], 1: [2, 2]}, value=[1, 1]), Output()), _d…"
      ]
     },
     "metadata": {},
     "output_type": "display_data"
    }
   ],
   "source": [
    "x=[1,1]\n",
    "y=[2,2]\n",
    "def test(obj):\n",
    "    print(obj)\n",
    "interact(test, obj={0:x, 1:y});"
   ]
  },
  {
   "cell_type": "code",
   "execution_count": null,
   "metadata": {},
   "outputs": [],
   "source": []
  }
 ],
 "metadata": {
  "kernelspec": {
   "display_name": "Python 3",
   "language": "python",
   "name": "python3"
  },
  "language_info": {
   "codemirror_mode": {
    "name": "ipython",
    "version": 3
   },
   "file_extension": ".py",
   "mimetype": "text/x-python",
   "name": "python",
   "nbconvert_exporter": "python",
   "pygments_lexer": "ipython3",
   "version": "3.6.8"
  }
 },
 "nbformat": 4,
 "nbformat_minor": 2
}
