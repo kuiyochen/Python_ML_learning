{
 "cells": [
  {
   "cell_type": "code",
   "execution_count": 1,
   "metadata": {},
   "outputs": [
    {
     "name": "stdout",
     "output_type": "stream",
     "text": [
      "env: KERAS_BACKEND=tensorflow\n"
     ]
    },
    {
     "name": "stderr",
     "output_type": "stream",
     "text": [
      "Using TensorFlow backend.\n"
     ]
    }
   ],
   "source": [
    "%matplotlib inline\n",
    "%env KERAS_BACKEND=tensorflow\n",
    "import numpy as np\n",
    "import pandas as pd\n",
    "import matplotlib.pyplot as plt\n",
    "import matplotlib as mpl\n",
    "from ipywidgets import interact, IntSlider, Button, fixed\n",
    "from ipywidgets import interact_manual\n",
    "# import sympy as sym\n",
    "# from sympy import S,N\n",
    "# import locale\n",
    "# from sklearn.linear_model import LinearRegression\n",
    "from keras.utils import np_utils #one hot encoding\n",
    "# from keras.models import Sequential #神經網路的框架keras.models\n",
    "from keras.layers import Dense, Activation\n",
    "from keras.layers import Flatten # 將資料展平\n",
    "from keras.layers import Conv2D, MaxPool2D, MaxPooling2D\n",
    "from keras.optimizers import SGD, Adadelta\n",
    "from keras.models import model_from_json\n",
    "from keras.datasets import mnist # mnist內 包含手寫測試資料\n",
    "\n",
    "#for Functional API\n",
    "from keras.models import Model\n",
    "from keras.layers import Input\n",
    "from keras.layers import concatenate, add\n",
    "#for Functional API transfer learning\n",
    "\n",
    "from keras.layers.core import Lambda\n",
    "from keras import backend as K\n",
    "\n",
    "# from keras.preprocessing.image import ImageDataGenerator\n",
    "# from keras.layers import Dropout\n",
    "\n",
    "import matplotlib.image as mpimg #import image file\n",
    "# from sklearn.model_selection import train_test_split"
   ]
  },
  {
   "cell_type": "code",
   "execution_count": 2,
   "metadata": {},
   "outputs": [
    {
     "name": "stdout",
     "output_type": "stream",
     "text": [
      "There are 60000 training data with size 28 x 28\n",
      "There are 10000 testing  data with size 28 x 28\n",
      "x_train.max =  1.0 \n",
      "x_train.min =  0.0 \n",
      "y_test[0] =  [0. 0. 0. 0. 0. 0. 0. 1. 0. 0.]\n"
     ]
    }
   ],
   "source": [
    "(x_train0, y_train0), (x_test0, y_test0) = mnist.load_data()\n",
    "print(\"There are %d training data with size %d x %d\" %x_train0.shape)\n",
    "print(\"There are %d testing  data with size %d x %d\" %x_test0.shape)\n",
    "# y_test0.shape\n",
    "\n",
    "x_train = x_train0.reshape(x_train0.shape[0], 28, 28, 1)\n",
    "x_test = x_test0.reshape(x_test0.shape[0], 28, 28, 1)\n",
    "x_train -= x_train.min()\n",
    "x_train = x_train/x_train.max()\n",
    "y_train = np_utils.to_categorical(y_train0, 10)\n",
    "y_test = np_utils.to_categorical(y_test0, 10)\n",
    "\n",
    "print(\"x_train.max = \", x_train.max(), \"\\nx_train.min = \", x_train.min(), \"\\ny_test[0] = \", y_test[0])"
   ]
  },
  {
   "cell_type": "code",
   "execution_count": 3,
   "metadata": {},
   "outputs": [
    {
     "name": "stdout",
     "output_type": "stream",
     "text": [
      "x =  Tensor(\"input_1:0\", shape=(?, 28, 28, 1), dtype=float32)\n",
      "f_1 =  <keras.layers.convolutional.Conv2D object at 0x0000027C29C1F7F0>\n"
     ]
    }
   ],
   "source": [
    "x = Input(shape = (28, 28, 1))\n",
    "print(\"x = \", x)\n",
    "f_1 = Conv2D(4,(4,4), padding = 'same', activation = 'relu') # Number of filters: 4\n",
    "# f_1.trainable = False\n",
    "pool1 = MaxPool2D(pool_size = (2, 2))\n",
    "f_2 = Conv2D(8,(4,4), padding = 'same', activation = 'relu') # Number of filters: 8\n",
    "pool2 = MaxPool2D(pool_size = (2, 2))\n",
    "f_3 = Conv2D(16,(4,4), padding = 'same', activation = 'relu') # Number of filters: 16\n",
    "pool3 = MaxPool2D(pool_size = (2, 2))\n",
    "f_4 = Dense(80, activation='relu')\n",
    "f_5 = Dense(10, activation='softmax')\n",
    "print(\"f_1 = \", f_1) # keras.layers.core.Dense object"
   ]
  },
  {
   "cell_type": "code",
   "execution_count": 4,
   "metadata": {},
   "outputs": [
    {
     "name": "stdout",
     "output_type": "stream",
     "text": [
      "WARNING:tensorflow:From c:\\users\\奎佑\\appdata\\local\\programs\\python\\python36\\lib\\site-packages\\tensorflow\\python\\framework\\op_def_library.py:263: colocate_with (from tensorflow.python.framework.ops) is deprecated and will be removed in a future version.\n",
      "Instructions for updating:\n",
      "Colocations handled automatically by placer.\n",
      "h_1 =  Tensor(\"max_pooling2d_1/MaxPool:0\", shape=(?, 14, 14, 4), dtype=float32)\n"
     ]
    }
   ],
   "source": [
    "h_1 = pool1(f_1(x))\n",
    "h_2 = pool2(f_2(h_1))\n",
    "h_3 = pool3(f_3(h_2))\n",
    "h_4 = Flatten() (h_3)\n",
    "h_5 = f_4(h_4)\n",
    "y = f_5(h_5)\n",
    "print(\"h_1 = \", h_1)"
   ]
  },
  {
   "cell_type": "code",
   "execution_count": 5,
   "metadata": {},
   "outputs": [
    {
     "name": "stdout",
     "output_type": "stream",
     "text": [
      "_________________________________________________________________\n",
      "Layer (type)                 Output Shape              Param #   \n",
      "=================================================================\n",
      "input_1 (InputLayer)         (None, 28, 28, 1)         0         \n",
      "_________________________________________________________________\n",
      "conv2d_1 (Conv2D)            (None, 28, 28, 4)         68        \n",
      "_________________________________________________________________\n",
      "max_pooling2d_1 (MaxPooling2 (None, 14, 14, 4)         0         \n",
      "_________________________________________________________________\n",
      "conv2d_2 (Conv2D)            (None, 14, 14, 8)         520       \n",
      "_________________________________________________________________\n",
      "max_pooling2d_2 (MaxPooling2 (None, 7, 7, 8)           0         \n",
      "_________________________________________________________________\n",
      "conv2d_3 (Conv2D)            (None, 7, 7, 16)          2064      \n",
      "_________________________________________________________________\n",
      "max_pooling2d_3 (MaxPooling2 (None, 3, 3, 16)          0         \n",
      "_________________________________________________________________\n",
      "flatten_1 (Flatten)          (None, 144)               0         \n",
      "_________________________________________________________________\n",
      "dense_1 (Dense)              (None, 80)                11600     \n",
      "_________________________________________________________________\n",
      "dense_2 (Dense)              (None, 10)                810       \n",
      "=================================================================\n",
      "Total params: 15,062\n",
      "Trainable params: 15,062\n",
      "Non-trainable params: 0\n",
      "_________________________________________________________________\n"
     ]
    }
   ],
   "source": [
    "model = Model(x, y)\n",
    "\n",
    "model.summary()\n",
    "# Trainable 的問題可以在定義f_i的時候加上 \" f_i.trainable = False \"\n",
    "\n",
    "model.compile(loss='categorical_crossentropy', optimizer=Adadelta(), metrics=['accuracy'])"
   ]
  },
  {
   "cell_type": "code",
   "execution_count": 6,
   "metadata": {},
   "outputs": [
    {
     "name": "stdout",
     "output_type": "stream",
     "text": [
      "WARNING:tensorflow:From c:\\users\\奎佑\\appdata\\local\\programs\\python\\python36\\lib\\site-packages\\tensorflow\\python\\ops\\math_ops.py:3066: to_int32 (from tensorflow.python.ops.math_ops) is deprecated and will be removed in a future version.\n",
      "Instructions for updating:\n",
      "Use tf.cast instead.\n",
      "Epoch 1/3\n",
      "60000/60000 [==============================] - 26s 431us/step - loss: 0.3120 - acc: 0.8994\n",
      "Epoch 2/3\n",
      "60000/60000 [==============================] - 18s 301us/step - loss: 0.0869 - acc: 0.9725\n",
      "Epoch 3/3\n",
      "60000/60000 [==============================] - 26s 441us/step - loss: 0.0664 - acc: 0.9790\n"
     ]
    },
    {
     "data": {
      "text/plain": [
       "<keras.callbacks.History at 0x27c29c04b00>"
      ]
     },
     "execution_count": 6,
     "metadata": {},
     "output_type": "execute_result"
    }
   ],
   "source": [
    "model.fit(x_train, y_train, batch_size=100, epochs=3)"
   ]
  },
  {
   "cell_type": "code",
   "execution_count": 7,
   "metadata": {},
   "outputs": [
    {
     "name": "stdout",
     "output_type": "stream",
     "text": [
      "10000/10000 [==============================] - 2s 216us/step\n",
      "Loss: 0.294454\n",
      "準確率: 98.159999\n"
     ]
    }
   ],
   "source": [
    "score = model.evaluate(x_test, y_test, batch_size=10000)\n",
    "print(\"Loss: %f\" %score[0])\n",
    "print(\"準確率: %f\" %(score[1]*100))"
   ]
  },
  {
   "cell_type": "code",
   "execution_count": 8,
   "metadata": {},
   "outputs": [
    {
     "data": {
      "application/vnd.jupyter.widget-view+json": {
       "model_id": "8469a234514b4ef780ffe19c4265ccca",
       "version_major": 2,
       "version_minor": 0
      },
      "text/plain": [
       "interactive(children=(Dropdown(description='layer', options={1: <keras.layers.convolutional.Conv2D object at 0…"
      ]
     },
     "metadata": {},
     "output_type": "display_data"
    }
   ],
   "source": [
    "# layer0 = f_1\n",
    "def show_filter_weight(index, layer):\n",
    "# def show_filter_weight(index):\n",
    "    filterweight = layer.get_weights()[0].transpose(3, 2, 0, 1)\n",
    "    filterweight = filterweight.reshape(-1,4,4)\n",
    "#     print(filterweight.shape)\n",
    "    ele = filterweight[index]\n",
    "#     print(ele.shape)\n",
    "    normal = ele-ele.reshape(-1).min()/ele.reshape(-1).max()\n",
    "    plt.imshow(normal.reshape(4,4), cmap='Greys')\n",
    "\n",
    "def show_interact(layer):\n",
    "    interact(show_filter_weight, \n",
    "         index = (0, layer.get_weights()[0].transpose(3, 2, 0, 1).reshape(-1,4,4).shape[0]-1), \n",
    "         layer = fixed(layer)\n",
    "         )\n",
    "interact(show_interact, layer = {1:f_1, 2:f_2, 3:f_3});\n",
    "\n",
    "# interact(show_filter_weight, \n",
    "#     index = (0, layer0.get_weights()[0].transpose(3, 2, 0, 1).reshape(-1,4,4).shape[0]-1)\n",
    "#     );"
   ]
  },
  {
   "cell_type": "code",
   "execution_count": 9,
   "metadata": {},
   "outputs": [],
   "source": [
    "# model_json = model.to_json() # 將神經網路變成json格式\n",
    "# open('json_h5/Functional_API.json','w').write(model_json)\n",
    "# model.save_weights('json_h5/Functional_API.h5') # 將整個model存起來"
   ]
  },
  {
   "cell_type": "markdown",
   "metadata": {},
   "source": [
    "## 讀入"
   ]
  },
  {
   "cell_type": "code",
   "execution_count": 10,
   "metadata": {},
   "outputs": [],
   "source": [
    "# new_model = model_from_json(open('json_h5/Functional_API.json').read())\n",
    "# new_model.load_weights('json_h5/Functional_API.h5')\n",
    "# new_model.compile(loss='categorical_crossentropy', optimizer=Adadelta(), metrics=['accuracy'])"
   ]
  },
  {
   "cell_type": "code",
   "execution_count": 11,
   "metadata": {},
   "outputs": [],
   "source": [
    "# score = new_model.evaluate(x_test, y_test, batch_size=10000)\n",
    "# print(\"Loss: %f\" %score[0])\n",
    "# print(\"準確率: %f\" %(score[1]*100))"
   ]
  },
  {
   "cell_type": "code",
   "execution_count": null,
   "metadata": {},
   "outputs": [],
   "source": []
  }
 ],
 "metadata": {
  "kernelspec": {
   "display_name": "Python 3",
   "language": "python",
   "name": "python3"
  },
  "language_info": {
   "codemirror_mode": {
    "name": "ipython",
    "version": 3
   },
   "file_extension": ".py",
   "mimetype": "text/x-python",
   "name": "python",
   "nbconvert_exporter": "python",
   "pygments_lexer": "ipython3",
   "version": "3.6.8"
  }
 },
 "nbformat": 4,
 "nbformat_minor": 2
}
