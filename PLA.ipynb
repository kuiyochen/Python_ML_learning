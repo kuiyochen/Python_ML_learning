{
 "cells": [
  {
   "cell_type": "code",
   "execution_count": 1,
   "metadata": {},
   "outputs": [],
   "source": [
    "%matplotlib inline\n",
    "# %matplotlib widget # 跟圖互動，可以用點選圖片中的某位置觸發程式\n",
    "# %env KERAS_BACKEND=tensorflow\n",
    "import numpy as np\n",
    "# import pandas as pd\n",
    "import matplotlib.pyplot as plt\n",
    "import matplotlib as mpl\n",
    "from ipywidgets import interact, IntSlider, Button\n",
    "from ipywidgets import interact_manual"
   ]
  },
  {
   "cell_type": "code",
   "execution_count": 2,
   "metadata": {},
   "outputs": [],
   "source": [
    "# generate data\n",
    "def generate_data(len_of_data, dim = 2):\n",
    "    xs = 2*(np.random.rand(1) + 1)*(np.random.rand(len_of_data, dim)-1) + np.random.randint(10, size=(dim,))-5\n",
    "\n",
    "    means = np.mean(xs, axis=0)\n",
    "    normal_vector = np.tan((np.random.rand(dim)-0.5)*np.pi)\n",
    "    if dim == 2:\n",
    "        if round(normal_vector[1],2) == 0.:\n",
    "            normal_vector[1]=0.1\n",
    "    bias = np.dot(normal_vector, means)\n",
    "    labels = np.sign(np.matmul(xs, normal_vector) - bias)\n",
    "\n",
    "    if dim == 2:\n",
    "        print(\"data:\")\n",
    "        plt.scatter(xs[:, 0], xs[:, 1], c=labels) #, cmap=\"Set2\")\n",
    "        x = np.linspace(min(xs[:, 0])-0.1, max(xs[:, 0])+0.1, 2)\n",
    "        plt.plot(x, (-1 * x * normal_vector[0] + bias)/normal_vector[1])\n",
    "        # plt.colorbar()\n",
    "        plt.show()\n",
    "    return (xs, labels)"
   ]
  },
  {
   "cell_type": "code",
   "execution_count": 3,
   "metadata": {},
   "outputs": [],
   "source": [
    "def PLA(xs,labels, history_draw = True, epochs = 10000):\n",
    "    len_of_data, dim = xs.shape\n",
    "    w = np.random.randint(5, size=(dim+1,)).astype(float)\n",
    "\n",
    "    # xls means x with label\n",
    "    xls = np.zeros((len_of_data, xs.shape[1]+1))\n",
    "    xls[:, 1:] = xs.copy()\n",
    "    xls[:, 0] = labels.copy()\n",
    "\n",
    "    stop = False\n",
    "    for epoch in range(epochs):\n",
    "    #     for idx in [idx1 for idx1 in range(len_of_data) if np.sign(np.dot(xls[idx1], w)) != xls[idx1,0]]:\n",
    "    #         idx\n",
    "    #         break\n",
    "        shuffle = np.arange(len_of_data)\n",
    "        np.random.shuffle(shuffle)\n",
    "        for idx in range(len_of_data):\n",
    "            sidx = shuffle[idx]\n",
    "            if np.sign(np.dot(xls[sidx,1:], w[1:]) + w[0]) != xls[sidx,0]:\n",
    "                w[1:] = w[1:] + xls[sidx,0] * xls[sidx,1:]\n",
    "                w[0] += xls[sidx,0]\n",
    "                if dim == 2 and history_draw and epoch%(int(epochs/10))==0:\n",
    "                    print(\"epoch = \", epoch)\n",
    "                    print(w)\n",
    "                    plt.scatter(xls[:, 1], xls[:, 2], c=xls[:,0])\n",
    "                    x = np.linspace(min(xls[:, 1])-0.1, max(xls[:, 1])+0.1, 2)\n",
    "                    # plt.plot(x, (-1 * x * normal_vector[0] + bias)/normal_vector[1])\n",
    "                    if round(w[2],2) == 0.:\n",
    "                        plt.plot(x, -1 * (x * w[1] + w[0])/0.1)\n",
    "                    else:\n",
    "                        plt.plot(x, -1 * (x * w[1] + w[0])/w[2])\n",
    "                    # plt.colorbar()\n",
    "                    plt.show()\n",
    "                break\n",
    "            if idx == len_of_data-1:\n",
    "                stop = True\n",
    "        if stop:\n",
    "            break\n",
    "\n",
    "    print(\"\\nFinal  , epoch = \", epoch-1)\n",
    "    if dim == 2 and history_draw:\n",
    "        plt.scatter(xls[:, 1], xls[:, 2], c=xls[:,0])\n",
    "        x = np.linspace(min(xls[:, 1])-0.1, max(xls[:, 1])+0.1, 2)\n",
    "        # plt.plot(x, (-1 * x * normal_vector[0] + bias)/normal_vector[1])\n",
    "        if round(w[2],2) == 0.:\n",
    "            plt.plot(x, -1 * (x * w[1] + w[0])/0.1)\n",
    "        else:\n",
    "            plt.plot(x, -1 * (x * w[1] + w[0])/w[2])\n",
    "        # plt.colorbar()\n",
    "        plt.show()\n",
    "    return w"
   ]
  },
  {
   "cell_type": "code",
   "execution_count": 4,
   "metadata": {},
   "outputs": [
    {
     "name": "stdout",
     "output_type": "stream",
     "text": [
      "data:\n"
     ]
    },
    {
     "data": {
      "image/png": "[encoded data removed]",
      "text/plain": [
       "<Figure size 432x288 with 1 Axes>"
      ]
     },
     "metadata": {
      "needs_background": "light"
     },
     "output_type": "display_data"
    },
    {
     "name": "stdout",
     "output_type": "stream",
     "text": [
      "epoch =  0\n",
      "[2.         0.20074186 8.01401332]\n"
     ]
    },
    {
     "data": {
      "image/png": "[encoded data removed]",
      "text/plain": [
       "<Figure size 432x288 with 1 Axes>"
      ]
     },
     "metadata": {
      "needs_background": "light"
     },
     "output_type": "display_data"
    },
    {
     "name": "stdout",
     "output_type": "stream",
     "text": [
      "\n",
      "Final  , epoch =  13\n"
     ]
    },
    {
     "data": {
      "image/png": "[encoded data removed]",
      "text/plain": [
       "<Figure size 432x288 with 1 Axes>"
      ]
     },
     "metadata": {
      "needs_background": "light"
     },
     "output_type": "display_data"
    }
   ],
   "source": [
    "xs, labels = generate_data(10)\n",
    "w = PLA(xs, labels)"
   ]
  },
  {
   "cell_type": "code",
   "execution_count": 5,
   "metadata": {},
   "outputs": [
    {
     "name": "stdout",
     "output_type": "stream",
     "text": [
      "\n",
      "Final  , epoch =  600\n",
      "0 False\n",
      "1 False\n",
      "2 False\n",
      "3 False\n",
      "4 False\n",
      "5 False\n",
      "6 False\n",
      "7 False\n",
      "8 False\n",
      "9 False\n"
     ]
    }
   ],
   "source": [
    "xs_0, labels_0 = generate_data(10, dim=3)\n",
    "w_0 = PLA(xs_0, labels_0)\n",
    "len_of_data, dim = xs_0.shape\n",
    "for idx in range(len_of_data):\n",
    "    print(idx, np.sign(np.dot(xs_0[idx], w_0[1:]) + w_0[0]) != labels_0[idx])"
   ]
  },
  {
   "cell_type": "code",
   "execution_count": null,
   "metadata": {},
   "outputs": [],
   "source": []
  }
 ],
 "metadata": {
  "kernelspec": {
   "display_name": "Python 3",
   "language": "python",
   "name": "python3"
  },
  "language_info": {
   "codemirror_mode": {
    "name": "ipython",
    "version": 3
   },
   "file_extension": ".py",
   "mimetype": "text/x-python",
   "name": "python",
   "nbconvert_exporter": "python",
   "pygments_lexer": "ipython3",
   "version": "3.6.8"
  }
 },
 "nbformat": 4,
 "nbformat_minor": 2
}
