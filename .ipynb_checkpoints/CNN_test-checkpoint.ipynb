{
 "cells": [
  {
   "cell_type": "code",
   "execution_count": 1,
   "metadata": {},
   "outputs": [
    {
     "name": "stdout",
     "output_type": "stream",
     "text": [
      "env: KERAS_BACKEND=tensorflow\n"
     ]
    },
    {
     "name": "stderr",
     "output_type": "stream",
     "text": [
      "Using TensorFlow backend.\n"
     ]
    }
   ],
   "source": [
    "%matplotlib inline\n",
    "%env KERAS_BACKEND=tensorflow\n",
    "import numpy as np\n",
    "import pandas as pd\n",
    "import matplotlib.pyplot as plt\n",
    "import matplotlib as mpl\n",
    "# from ipywidgets import interact\n",
    "from ipywidgets import interact_manual\n",
    "\n",
    "# import sympy as sym\n",
    "# from sympy import S,N\n",
    "# import locale\n",
    "# from sklearn.linear_model import LinearRegression\n",
    "\n",
    "from keras.utils import np_utils #one hot encoding\n",
    "from keras.models import Sequential #神經網路的框架keras.models\n",
    "from keras.layers import Dense, Activation\n",
    "from keras.layers import Flatten # 將資料展平\n",
    "from keras.layers import Conv2D, MaxPool2D, MaxPooling2D\n",
    "from keras.optimizers import SGD, Adadelta\n",
    "from keras.models import model_from_json\n",
    "from keras.datasets import mnist # mnist內 包含手寫測試資料\n",
    "\n",
    "# from keras.preprocessing.image import ImageDataGenerator\n",
    "# from keras.layers import Dropout\n",
    "\n",
    "# import matplotlib.image as mpimg #import image file\n",
    "from sklearn.model_selection import train_test_split"
   ]
  },
  {
   "cell_type": "code",
   "execution_count": 2,
   "metadata": {},
   "outputs": [],
   "source": [
    "(x_train_0, y_train_0),(x_test_0, y_test_0)=mnist.load_data() #output lenght: len(x_train)=60000, len(x_test)=10000"
   ]
  },
  {
   "cell_type": "markdown",
   "metadata": {},
   "source": [
    "## 有標準化(將數值調到0~1之間)CNN會較穩定!!"
   ]
  },
  {
   "cell_type": "code",
   "execution_count": 3,
   "metadata": {},
   "outputs": [],
   "source": [
    "# CNN要的shape不是(28,28)，而是(28,28,channel)\n",
    "# 這裡因為是\"灰階\"，所以channel=1\n",
    "# 如果是\"RGB\"，channel=3\n",
    "x_train = x_train_0.reshape(60000,28,28,1)/255 # /255為標準化\n",
    "x_test = x_test_0.reshape(10000,28,28,1)/255\n",
    "\n",
    "y_train = np_utils.to_categorical(y_train_0,10)\n",
    "y_test = np_utils.to_categorical(y_test_0,10) #one hot encoding"
   ]
  },
  {
   "cell_type": "code",
   "execution_count": 4,
   "metadata": {},
   "outputs": [
    {
     "name": "stdout",
     "output_type": "stream",
     "text": [
      "WARNING:tensorflow:From c:\\users\\奎佑\\appdata\\local\\programs\\python\\python36\\lib\\site-packages\\tensorflow\\python\\framework\\op_def_library.py:263: colocate_with (from tensorflow.python.framework.ops) is deprecated and will be removed in a future version.\n",
      "Instructions for updating:\n",
      "Colocations handled automatically by placer.\n"
     ]
    }
   ],
   "source": [
    "model=Sequential()\n",
    "\n",
    "model.add(Conv2D(4, (7, 7), padding = 'same', input_shape = (28, 28, 1)))\n",
    "# Conv2D(filter個數, (filter大小), padding='same', input_shape=(圖片大小, channel數))\n",
    "# padding='same'意思是~預先填充邊界，讓經過filter後，圖片大小保持一致\n",
    "model.add(Activation('relu'))\n",
    "model.add(MaxPool2D(pool_size = (2, 2))) # 每個2*2格子取出最大值\n",
    "\n",
    "model.add(Conv2D(8, (7, 7), padding = 'same')) # 4*8*49 + 8\n",
    "model.add(Activation('relu'))\n",
    "model.add(MaxPool2D(pool_size = (2, 2)))\n",
    "\n",
    "model.add(Conv2D(16, (7, 7), padding = 'same')) # 8*16*49 + 16\n",
    "model.add(Activation('relu'))\n",
    "# model.add(MaxPool2D(pool_size = (2, 2), dim_ordering=\"th\"))\n",
    "model.add(MaxPool2D(pool_size = (2, 2)))\n",
    "\n",
    "model.add(Flatten())\n",
    "\n",
    "model.add(Dense(50))\n",
    "model.add(Activation('relu'))\n",
    "\n",
    "model.add(Dense(10))\n",
    "model.add(Activation('softmax'))\n",
    "\n",
    "# model.compile(loss='mse', optimizer=SGD(lr=0.087), metrics=['accuracy'])\n",
    "model.compile(loss='categorical_crossentropy', optimizer=Adadelta(), metrics=['accuracy'])"
   ]
  },
  {
   "cell_type": "code",
   "execution_count": 5,
   "metadata": {
    "scrolled": true
   },
   "outputs": [
    {
     "name": "stdout",
     "output_type": "stream",
     "text": [
      "_________________________________________________________________\n",
      "Layer (type)                 Output Shape              Param #   \n",
      "=================================================================\n",
      "conv2d_1 (Conv2D)            (None, 28, 28, 4)         200       \n",
      "_________________________________________________________________\n",
      "activation_1 (Activation)    (None, 28, 28, 4)         0         \n",
      "_________________________________________________________________\n",
      "max_pooling2d_1 (MaxPooling2 (None, 14, 14, 4)         0         \n",
      "_________________________________________________________________\n",
      "conv2d_2 (Conv2D)            (None, 14, 14, 8)         1576      \n",
      "_________________________________________________________________\n",
      "activation_2 (Activation)    (None, 14, 14, 8)         0         \n",
      "_________________________________________________________________\n",
      "max_pooling2d_2 (MaxPooling2 (None, 7, 7, 8)           0         \n",
      "_________________________________________________________________\n",
      "conv2d_3 (Conv2D)            (None, 7, 7, 16)          6288      \n",
      "_________________________________________________________________\n",
      "activation_3 (Activation)    (None, 7, 7, 16)          0         \n",
      "_________________________________________________________________\n",
      "max_pooling2d_3 (MaxPooling2 (None, 3, 3, 16)          0         \n",
      "_________________________________________________________________\n",
      "flatten_1 (Flatten)          (None, 144)               0         \n",
      "_________________________________________________________________\n",
      "dense_1 (Dense)              (None, 50)                7250      \n",
      "_________________________________________________________________\n",
      "activation_4 (Activation)    (None, 50)                0         \n",
      "_________________________________________________________________\n",
      "dense_2 (Dense)              (None, 10)                510       \n",
      "_________________________________________________________________\n",
      "activation_5 (Activation)    (None, 10)                0         \n",
      "=================================================================\n",
      "Total params: 15,824\n",
      "Trainable params: 15,824\n",
      "Non-trainable params: 0\n",
      "_________________________________________________________________\n"
     ]
    }
   ],
   "source": [
    "model.summary()"
   ]
  },
  {
   "cell_type": "code",
   "execution_count": 6,
   "metadata": {},
   "outputs": [
    {
     "name": "stdout",
     "output_type": "stream",
     "text": [
      "WARNING:tensorflow:From c:\\users\\奎佑\\appdata\\local\\programs\\python\\python36\\lib\\site-packages\\tensorflow\\python\\ops\\math_ops.py:3066: to_int32 (from tensorflow.python.ops.math_ops) is deprecated and will be removed in a future version.\n",
      "Instructions for updating:\n",
      "Use tf.cast instead.\n",
      "Epoch 1/10\n",
      "60000/60000 [==============================] - 33s 558us/step - loss: 0.2803 - acc: 0.9101\n",
      "Epoch 2/10\n",
      "60000/60000 [==============================] - 35s 580us/step - loss: 0.0749 - acc: 0.9769\n",
      "Epoch 3/10\n",
      "60000/60000 [==============================] - 36s 607us/step - loss: 0.0561 - acc: 0.9824\n",
      "Epoch 4/10\n",
      "60000/60000 [==============================] - 39s 650us/step - loss: 0.0469 - acc: 0.9853\n",
      "Epoch 5/10\n",
      "60000/60000 [==============================] - 42s 695us/step - loss: 0.0394 - acc: 0.9871\n",
      "Epoch 6/10\n",
      "60000/60000 [==============================] - 42s 701us/step - loss: 0.0343 - acc: 0.9890\n",
      "Epoch 7/10\n",
      "60000/60000 [==============================] - 44s 726us/step - loss: 0.0295 - acc: 0.9906\n",
      "Epoch 8/10\n",
      "60000/60000 [==============================] - 44s 740us/step - loss: 0.0261 - acc: 0.9916\n",
      "Epoch 9/10\n",
      "60000/60000 [==============================] - 44s 734us/step - loss: 0.0235 - acc: 0.9926\n",
      "Epoch 10/10\n",
      "60000/60000 [==============================] - 43s 725us/step - loss: 0.0204 - acc: 0.9934\n"
     ]
    },
    {
     "data": {
      "text/plain": [
       "<keras.callbacks.History at 0x281312e12e8>"
      ]
     },
     "execution_count": 6,
     "metadata": {},
     "output_type": "execute_result"
    }
   ],
   "source": [
    "model.fit(x_train, y_train, batch_size=100, epochs=10)"
   ]
  },
  {
   "cell_type": "code",
   "execution_count": 12,
   "metadata": {},
   "outputs": [
    {
     "data": {
      "text/plain": [
       "array([7, 2, 1, ..., 4, 5, 6], dtype=int64)"
      ]
     },
     "execution_count": 12,
     "metadata": {},
     "output_type": "execute_result"
    }
   ],
   "source": [
    "predict=model.predict_classes(x_test)\n",
    "predict"
   ]
  },
  {
   "cell_type": "code",
   "execution_count": 14,
   "metadata": {},
   "outputs": [
    {
     "data": {
      "application/vnd.jupyter.widget-view+json": {
       "model_id": "d351636c9cff44819be3fb57c7963222",
       "version_major": 2,
       "version_minor": 0
      },
      "text/plain": [
       "interactive(children=(IntSlider(value=4999, description='index', max=9999), Button(description='Run Interact',…"
      ]
     },
     "metadata": {},
     "output_type": "display_data"
    }
   ],
   "source": [
    "def show_predict(index):\n",
    "    print(predict[index])\n",
    "    plt.imshow(x_test[index].reshape(28,28),cmap='Greys')\n",
    "interact_manual(show_predict,index=(0,10000-1));"
   ]
  },
  {
   "cell_type": "code",
   "execution_count": 15,
   "metadata": {},
   "outputs": [
    {
     "name": "stdout",
     "output_type": "stream",
     "text": [
      "10000/10000 [==============================] - 3s 307us/step\n",
      "loss: 0.03839485884058231\n",
      "正確率 0.9888\n"
     ]
    }
   ],
   "source": [
    "score = model.evaluate(x_test, y_test)\n",
    "print('loss:', score[0])\n",
    "print('正確率', score[1])"
   ]
  },
  {
   "cell_type": "markdown",
   "metadata": {},
   "source": [
    "## 存起來!!"
   ]
  },
  {
   "cell_type": "code",
   "execution_count": 63,
   "metadata": {},
   "outputs": [],
   "source": [
    "model_json = model.to_json() # 將神經網路變成json格式\n",
    "open('CNN_test.json','w').write(model_json)\n",
    "model.save_weights('CNN_test.h5') # 將整個model存起來"
   ]
  },
  {
   "cell_type": "markdown",
   "metadata": {},
   "source": [
    "## 讀進來!!"
   ]
  },
  {
   "cell_type": "code",
   "execution_count": 2,
   "metadata": {},
   "outputs": [
    {
     "name": "stdout",
     "output_type": "stream",
     "text": [
      "WARNING:tensorflow:From c:\\users\\奎佑\\appdata\\local\\programs\\python\\python36\\lib\\site-packages\\tensorflow\\python\\framework\\op_def_library.py:263: colocate_with (from tensorflow.python.framework.ops) is deprecated and will be removed in a future version.\n",
      "Instructions for updating:\n",
      "Colocations handled automatically by placer.\n"
     ]
    }
   ],
   "source": [
    "new_model=model_from_json(open('CNN_test.json').read())\n",
    "new_model.load_weights('CNN_test.h5')\n",
    "# new_model.compile(loss='mse', optimizer=SGD(lr=0.087))\n",
    "new_model.compile(loss='categorical_crossentropy', optimizer=Adadelta())"
   ]
  },
  {
   "cell_type": "markdown",
   "metadata": {},
   "source": [
    "## 拿自己截圖的資料來測試"
   ]
  },
  {
   "cell_type": "code",
   "execution_count": 12,
   "metadata": {},
   "outputs": [
    {
     "name": "stdout",
     "output_type": "stream",
     "text": [
      "model predict as [0]\n"
     ]
    },
    {
     "data": {
      "image/png": "[encoded data removed]",
      "text/plain": [
       "<Figure size 432x288 with 1 Axes>"
      ]
     },
     "metadata": {
      "needs_background": "light"
     },
     "output_type": "display_data"
    }
   ],
   "source": [
    "import matplotlib.image as mpimg\n",
    "img_png = mpimg.imread(\"image_test/test (3).png\")[0:28, 0:28, 0:3]\n",
    "plt.imshow(img_png)\n",
    "\n",
    "# normalize\n",
    "img_png = np.average(img_png, axis=2)\n",
    "# img_png = np.sum(img_png, axis=2)\n",
    "# img_png = img_png/3\n",
    "img_png = 1-img_png\n",
    "img_png = img_png/img_png.max().max()\n",
    "\n",
    "# print(img_png)\n",
    "\n",
    "# plt.imshow(img_png, cmap = 'Greys')\n",
    "print(f\"model predict as {new_model.predict_classes(img_png.reshape(1,28,28,1))}\")\n"
   ]
  },
  {
   "cell_type": "code",
   "execution_count": 15,
   "metadata": {},
   "outputs": [
    {
     "name": "stdout",
     "output_type": "stream",
     "text": [
      "model predict as [3]\n"
     ]
    },
    {
     "data": {
      "image/png": "[encoded data removed]",
      "text/plain": [
       "<Figure size 432x288 with 1 Axes>"
      ]
     },
     "metadata": {
      "needs_background": "light"
     },
     "output_type": "display_data"
    }
   ],
   "source": [
    "import matplotlib.image as mpimg\n",
    "img_png = mpimg.imread(\"image_test/test (4).png\")[0:28, 0:28, 0:3]\n",
    "\n",
    "# normalize\n",
    "img_png = np.average(img_png, axis=2)\n",
    "img_png = 1-img_png\n",
    "img_png = img_png/img_png.max().max()\n",
    "\n",
    "plt.imshow(img_png, cmap = 'Greys')\n",
    "print(f\"model predict as {new_model.predict_classes(img_png.reshape(1,28,28,1))}\")\n",
    "# 可能太淡了，儘管normalize，還是太淡"
   ]
  },
  {
   "cell_type": "code",
   "execution_count": 17,
   "metadata": {},
   "outputs": [
    {
     "name": "stdout",
     "output_type": "stream",
     "text": [
      "model predict as [3]\n"
     ]
    },
    {
     "data": {
      "image/png": "[encoded data removed]",
      "text/plain": [
       "<Figure size 432x288 with 1 Axes>"
      ]
     },
     "metadata": {
      "needs_background": "light"
     },
     "output_type": "display_data"
    }
   ],
   "source": [
    "import matplotlib.image as mpimg\n",
    "img_png = mpimg.imread(\"image_test/test (5).png\")[0:28, 0:28, 0:3]\n",
    "plt.imshow(img_png)\n",
    "\n",
    "# normalize\n",
    "img_png = np.average(img_png, axis=2)\n",
    "img_png = 1-img_png\n",
    "img_png = img_png/img_png.max().max()\n",
    "\n",
    "print(f\"model predict as {new_model.predict_classes(img_png.reshape(1,28,28,1))}\")"
   ]
  },
  {
   "cell_type": "code",
   "execution_count": 3,
   "metadata": {},
   "outputs": [
    {
     "name": "stdout",
     "output_type": "stream",
     "text": [
      "model predict as [4]\n"
     ]
    },
    {
     "data": {
      "image/png": "[encoded data removed]",
      "text/plain": [
       "<Figure size 432x288 with 1 Axes>"
      ]
     },
     "metadata": {
      "needs_background": "light"
     },
     "output_type": "display_data"
    }
   ],
   "source": [
    "import matplotlib.image as mpimg\n",
    "img_png = mpimg.imread(\"image_test/test (6).png\")[0:28, 0:28, 0:3]\n",
    "plt.imshow(img_png)\n",
    "\n",
    "# normalize\n",
    "img_png = np.average(img_png, axis=2)\n",
    "img_png = 1-img_png\n",
    "img_png = img_png/img_png.max().max()\n",
    "\n",
    "print(f\"model predict as {new_model.predict_classes(img_png.reshape(1,28,28,1))}\")"
   ]
  },
  {
   "cell_type": "code",
   "execution_count": null,
   "metadata": {},
   "outputs": [],
   "source": []
  }
 ],
 "metadata": {
  "kernelspec": {
   "display_name": "Python 3",
   "language": "python",
   "name": "python3"
  },
  "language_info": {
   "codemirror_mode": {
    "name": "ipython",
    "version": 3
   },
   "file_extension": ".py",
   "mimetype": "text/x-python",
   "name": "python",
   "nbconvert_exporter": "python",
   "pygments_lexer": "ipython3",
   "version": "3.6.8"
  }
 },
 "nbformat": 4,
 "nbformat_minor": 2
}
