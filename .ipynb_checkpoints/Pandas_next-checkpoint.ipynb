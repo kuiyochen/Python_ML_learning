{
 "cells": [
  {
   "cell_type": "markdown",
   "metadata": {},
   "source": [
    "# Pandas 資料分析\n",
    "\n",
    "Pandas表格除錯問題請看前一份Pandas.ipynb"
   ]
  },
  {
   "cell_type": "code",
   "execution_count": 1,
   "metadata": {},
   "outputs": [],
   "source": [
    "%matplotlib inline\n",
    "\n",
    "import numpy as np\n",
    "import pandas as pd\n",
    "import matplotlib.pyplot as plt\n",
    "import matplotlib as mpl\n",
    "import sympy as sym\n",
    "from sympy import S,N"
   ]
  },
  {
   "cell_type": "code",
   "execution_count": 2,
   "metadata": {},
   "outputs": [],
   "source": [
    "import locale\n",
    "plt.rcParams['font.sans-serif'] = ['Noto Sans CJK TC']\n",
    "plt.rcParams['axes.unicode_minus']=False"
   ]
  },
  {
   "cell_type": "code",
   "execution_count": 3,
   "metadata": {},
   "outputs": [],
   "source": [
    "df=pd.read_csv('C:\\\\Users\\\\奎佑\\\\Desktop\\\\jupyter_notebook\\\\107_student.csv') #Google \"open data taiwan\"\n",
    "colnames=df.loc[1].values #.values會給出numpy array格式\n",
    "df.columns=colnames\n",
    "df=df[2:]\n",
    "df = df.reset_index(drop=True)\n",
    "#df.head()"
   ]
  },
  {
   "cell_type": "code",
   "execution_count": 4,
   "metadata": {},
   "outputs": [],
   "source": [
    "undergraduate=df[(df[\"日間∕進修別\"]==\"D 日\")&(df.等級別==\"B 學士\")].copy()\n",
    "undergraduate=undergraduate.drop([\"日間∕進修別\",\"等級別\"],axis=1)#去掉 日間∕進修別&等級別\n",
    "undergraduate=undergraduate.reset_index(drop=True)\n",
    "#undergraduate.head()"
   ]
  },
  {
   "cell_type": "code",
   "execution_count": 46,
   "metadata": {},
   "outputs": [],
   "source": [
    "男女計=undergraduate.loc[:,\"學校名稱\":\"女生計\"].copy()#重令使用copy\n",
    "locale.setlocale(locale.LC_NUMERIC,\"\")\n",
    "男女計.男生計=男女計.男生計.apply(locale.atof)# atof-->to float, atoi-->to int\n",
    "男女計.女生計=男女計.女生計.apply(locale.atof)#一種技巧將逗號去除，另外可以參考\"astype\"\n",
    "男女計[\"男女比\"]=男女計.男生計/男女計.女生計\n",
    "#男女計.head()"
   ]
  },
  {
   "cell_type": "code",
   "execution_count": 47,
   "metadata": {},
   "outputs": [
    {
     "data": {
      "image/png": "[encoded data removed]",
      "text/plain": [
       "<Figure size 576x360 with 1 Axes>"
      ]
     },
     "metadata": {
      "needs_background": "light"
     },
     "output_type": "display_data"
    }
   ],
   "source": [
    "sort_男女計=男女計.sort_values(by=['男女比'],ascending=False).copy() #by=['男女比',男生計]表示排序的優先後\n",
    "sort_男女計[0:5].plot.bar(x=\"學校名稱\",y=\"男女比\",figsize=(8, 5),fontsize=20);"
   ]
  },
  {
   "cell_type": "markdown",
   "metadata": {},
   "source": [
    "## read_html示範"
   ]
  },
  {
   "cell_type": "code",
   "execution_count": 7,
   "metadata": {},
   "outputs": [
    {
     "data": {
      "text/plain": [
       "2"
      ]
     },
     "execution_count": 7,
     "metadata": {},
     "output_type": "execute_result"
    }
   ],
   "source": [
    "table_list=pd.read_html(\"https://browser.geekbench.com/mac-benchmarks\")#列出網頁中的table\n",
    "len(table_list)"
   ]
  },
  {
   "cell_type": "code",
   "execution_count": 8,
   "metadata": {},
   "outputs": [
    {
     "data": {
      "text/html": [
       "<div>\n",
       "<style scoped>\n",
       "    .dataframe tbody tr th:only-of-type {\n",
       "        vertical-align: middle;\n",
       "    }\n",
       "\n",
       "    .dataframe tbody tr th {\n",
       "        vertical-align: top;\n",
       "    }\n",
       "\n",
       "    .dataframe thead th {\n",
       "        text-align: right;\n",
       "    }\n",
       "</style>\n",
       "<table border=\"1\" class=\"dataframe\">\n",
       "  <thead>\n",
       "    <tr style=\"text-align: right;\">\n",
       "      <th></th>\n",
       "      <th>Mac</th>\n",
       "      <th>Score</th>\n",
       "    </tr>\n",
       "  </thead>\n",
       "  <tbody>\n",
       "    <tr>\n",
       "      <th>0</th>\n",
       "      <td>iMac (27-inch Retina Early 2019) Intel Core i9...</td>\n",
       "      <td>6170</td>\n",
       "    </tr>\n",
       "    <tr>\n",
       "      <th>1</th>\n",
       "      <td>iMac (21.5-inch Retina Early 2019) Intel Core ...</td>\n",
       "      <td>5885</td>\n",
       "    </tr>\n",
       "    <tr>\n",
       "      <th>2</th>\n",
       "      <td>iMac (27-inch Retina Early 2019) Intel Core i5...</td>\n",
       "      <td>5781</td>\n",
       "    </tr>\n",
       "    <tr>\n",
       "      <th>3</th>\n",
       "      <td>iMac (27-inch Retina Mid 2017) Intel Core i7-7...</td>\n",
       "      <td>5686</td>\n",
       "    </tr>\n",
       "    <tr>\n",
       "      <th>4</th>\n",
       "      <td>Mac mini (Late 2018) Intel Core i7-8700B @ 3.2...</td>\n",
       "      <td>5661</td>\n",
       "    </tr>\n",
       "  </tbody>\n",
       "</table>\n",
       "</div>"
      ],
      "text/plain": [
       "                                                 Mac  Score\n",
       "0  iMac (27-inch Retina Early 2019) Intel Core i9...   6170\n",
       "1  iMac (21.5-inch Retina Early 2019) Intel Core ...   5885\n",
       "2  iMac (27-inch Retina Early 2019) Intel Core i5...   5781\n",
       "3  iMac (27-inch Retina Mid 2017) Intel Core i7-7...   5686\n",
       "4  Mac mini (Late 2018) Intel Core i7-8700B @ 3.2...   5661"
      ]
     },
     "execution_count": 8,
     "metadata": {},
     "output_type": "execute_result"
    }
   ],
   "source": [
    "mac=table_list[0]\n",
    "mac=mac.drop(\"Unnamed: 2\",axis=1)\n",
    "mac.head()"
   ]
  },
  {
   "cell_type": "code",
   "execution_count": 9,
   "metadata": {},
   "outputs": [
    {
     "data": {
      "text/html": [
       "<div>\n",
       "<style scoped>\n",
       "    .dataframe tbody tr th:only-of-type {\n",
       "        vertical-align: middle;\n",
       "    }\n",
       "\n",
       "    .dataframe tbody tr th {\n",
       "        vertical-align: top;\n",
       "    }\n",
       "\n",
       "    .dataframe thead th {\n",
       "        text-align: right;\n",
       "    }\n",
       "</style>\n",
       "<table border=\"1\" class=\"dataframe\">\n",
       "  <thead>\n",
       "    <tr style=\"text-align: right;\">\n",
       "      <th></th>\n",
       "      <th>Mac</th>\n",
       "      <th>Score</th>\n",
       "    </tr>\n",
       "  </thead>\n",
       "  <tbody>\n",
       "    <tr>\n",
       "      <th>4</th>\n",
       "      <td>Mac mini (Late 2018) Intel Core i7-8700B @ 3.2...</td>\n",
       "      <td>5661</td>\n",
       "    </tr>\n",
       "    <tr>\n",
       "      <th>6</th>\n",
       "      <td>MacBook Pro (15-inch Mid 2018) Intel Core i9-8...</td>\n",
       "      <td>5347</td>\n",
       "    </tr>\n",
       "    <tr>\n",
       "      <th>15</th>\n",
       "      <td>Mac mini (Late 2018) Intel Core i5-8500B @ 3.0...</td>\n",
       "      <td>5155</td>\n",
       "    </tr>\n",
       "    <tr>\n",
       "      <th>16</th>\n",
       "      <td>MacBook Pro (13-inch Mid 2018) Intel Core i7-8...</td>\n",
       "      <td>5140</td>\n",
       "    </tr>\n",
       "    <tr>\n",
       "      <th>19</th>\n",
       "      <td>MacBook Pro (15-inch Mid 2018) Intel Core i7-8...</td>\n",
       "      <td>5054</td>\n",
       "    </tr>\n",
       "  </tbody>\n",
       "</table>\n",
       "</div>"
      ],
      "text/plain": [
       "                                                  Mac  Score\n",
       "4   Mac mini (Late 2018) Intel Core i7-8700B @ 3.2...   5661\n",
       "6   MacBook Pro (15-inch Mid 2018) Intel Core i9-8...   5347\n",
       "15  Mac mini (Late 2018) Intel Core i5-8500B @ 3.0...   5155\n",
       "16  MacBook Pro (13-inch Mid 2018) Intel Core i7-8...   5140\n",
       "19  MacBook Pro (15-inch Mid 2018) Intel Core i7-8...   5054"
      ]
     },
     "execution_count": 9,
     "metadata": {},
     "output_type": "execute_result"
    }
   ],
   "source": [
    "mac[mac.Mac.str.contains(\"2018\")].head()"
   ]
  },
  {
   "cell_type": "code",
   "execution_count": null,
   "metadata": {},
   "outputs": [],
   "source": [
    "lotto_table_list=pd.read_html(\"http://www.9800.com.tw/statistics.asp\")\n",
    "#len(lotto_table_list)\n",
    "lotto=lotto_table_list[3]\n",
    "colnames_lotto=lotto.loc[1].values\n",
    "lotto.columns=colnames_lotto\n",
    "lotto=lotto[2:]\n",
    "lotto=lotto.reset_index(drop=True)\n",
    "lotto=lotto.loc[:,\"期次\":\"首數和\"]\n",
    "lotto=lotto.fillna('')#將NaN補成空字串\n",
    "lotto.head()"
   ]
  },
  {
   "cell_type": "markdown",
   "metadata": {},
   "source": [
    "## drop"
   ]
  },
  {
   "cell_type": "code",
   "execution_count": 41,
   "metadata": {},
   "outputs": [
    {
     "data": {
      "text/html": [
       "<div>\n",
       "<style scoped>\n",
       "    .dataframe tbody tr th:only-of-type {\n",
       "        vertical-align: middle;\n",
       "    }\n",
       "\n",
       "    .dataframe tbody tr th {\n",
       "        vertical-align: top;\n",
       "    }\n",
       "\n",
       "    .dataframe thead th {\n",
       "        text-align: right;\n",
       "    }\n",
       "</style>\n",
       "<table border=\"1\" class=\"dataframe\">\n",
       "  <thead>\n",
       "    <tr style=\"text-align: right;\">\n",
       "      <th></th>\n",
       "      <th>學校名稱</th>\n",
       "      <th>總計</th>\n",
       "      <th>男生計</th>\n",
       "      <th>女生計</th>\n",
       "      <th>男女比</th>\n",
       "      <th>Yooo</th>\n",
       "    </tr>\n",
       "  </thead>\n",
       "  <tbody>\n",
       "    <tr>\n",
       "      <th>0</th>\n",
       "      <td>國立政治大學</td>\n",
       "      <td>9,630</td>\n",
       "      <td>3983.0</td>\n",
       "      <td>5647.0</td>\n",
       "      <td>0.705330</td>\n",
       "      <td>0</td>\n",
       "    </tr>\n",
       "    <tr>\n",
       "      <th>1</th>\n",
       "      <td>國立清華大學</td>\n",
       "      <td>8,689</td>\n",
       "      <td>4696.0</td>\n",
       "      <td>3993.0</td>\n",
       "      <td>1.176058</td>\n",
       "      <td>0</td>\n",
       "    </tr>\n",
       "    <tr>\n",
       "      <th>2</th>\n",
       "      <td>國立臺灣大學</td>\n",
       "      <td>16,604</td>\n",
       "      <td>9447.0</td>\n",
       "      <td>7157.0</td>\n",
       "      <td>1.319966</td>\n",
       "      <td>0</td>\n",
       "    </tr>\n",
       "    <tr>\n",
       "      <th>3</th>\n",
       "      <td>國立臺灣師範大學</td>\n",
       "      <td>8,079</td>\n",
       "      <td>3583.0</td>\n",
       "      <td>4496.0</td>\n",
       "      <td>0.796931</td>\n",
       "      <td>0</td>\n",
       "    </tr>\n",
       "    <tr>\n",
       "      <th>4</th>\n",
       "      <td>國立成功大學</td>\n",
       "      <td>11,390</td>\n",
       "      <td>7123.0</td>\n",
       "      <td>4267.0</td>\n",
       "      <td>1.669323</td>\n",
       "      <td>0</td>\n",
       "    </tr>\n",
       "  </tbody>\n",
       "</table>\n",
       "</div>"
      ],
      "text/plain": [
       "       學校名稱      總計     男生計     女生計       男女比  Yooo\n",
       "0    國立政治大學   9,630  3983.0  5647.0  0.705330     0\n",
       "1    國立清華大學   8,689  4696.0  3993.0  1.176058     0\n",
       "2    國立臺灣大學  16,604  9447.0  7157.0  1.319966     0\n",
       "3  國立臺灣師範大學   8,079  3583.0  4496.0  0.796931     0\n",
       "4    國立成功大學  11,390  7123.0  4267.0  1.669323     0"
      ]
     },
     "execution_count": 41,
     "metadata": {},
     "output_type": "execute_result"
    }
   ],
   "source": [
    "男女計[\"Yooo\"]=0\n",
    "男女計.head()"
   ]
  },
  {
   "cell_type": "code",
   "execution_count": 42,
   "metadata": {},
   "outputs": [
    {
     "data": {
      "text/html": [
       "<div>\n",
       "<style scoped>\n",
       "    .dataframe tbody tr th:only-of-type {\n",
       "        vertical-align: middle;\n",
       "    }\n",
       "\n",
       "    .dataframe tbody tr th {\n",
       "        vertical-align: top;\n",
       "    }\n",
       "\n",
       "    .dataframe thead th {\n",
       "        text-align: right;\n",
       "    }\n",
       "</style>\n",
       "<table border=\"1\" class=\"dataframe\">\n",
       "  <thead>\n",
       "    <tr style=\"text-align: right;\">\n",
       "      <th></th>\n",
       "      <th>學校名稱</th>\n",
       "      <th>總計</th>\n",
       "      <th>男生計</th>\n",
       "      <th>女生計</th>\n",
       "      <th>男女比</th>\n",
       "      <th>Yooo</th>\n",
       "    </tr>\n",
       "  </thead>\n",
       "  <tbody>\n",
       "    <tr>\n",
       "      <th>0</th>\n",
       "      <td>國立政治大學</td>\n",
       "      <td>9,630</td>\n",
       "      <td>3983.0</td>\n",
       "      <td>5647.0</td>\n",
       "      <td>0.705330</td>\n",
       "      <td>0</td>\n",
       "    </tr>\n",
       "    <tr>\n",
       "      <th>1</th>\n",
       "      <td>國立清華大學</td>\n",
       "      <td>8,689</td>\n",
       "      <td>4696.0</td>\n",
       "      <td>3993.0</td>\n",
       "      <td>1.176058</td>\n",
       "      <td>0</td>\n",
       "    </tr>\n",
       "    <tr>\n",
       "      <th>2</th>\n",
       "      <td>國立臺灣大學</td>\n",
       "      <td>16,604</td>\n",
       "      <td>9447.0</td>\n",
       "      <td>7157.0</td>\n",
       "      <td>1.319966</td>\n",
       "      <td>0</td>\n",
       "    </tr>\n",
       "    <tr>\n",
       "      <th>3</th>\n",
       "      <td>國立臺灣師範大學</td>\n",
       "      <td>8,079</td>\n",
       "      <td>3583.0</td>\n",
       "      <td>4496.0</td>\n",
       "      <td>0.796931</td>\n",
       "      <td>0</td>\n",
       "    </tr>\n",
       "    <tr>\n",
       "      <th>4</th>\n",
       "      <td>國立成功大學</td>\n",
       "      <td>11,390</td>\n",
       "      <td>7123.0</td>\n",
       "      <td>4267.0</td>\n",
       "      <td>1.669323</td>\n",
       "      <td>0</td>\n",
       "    </tr>\n",
       "  </tbody>\n",
       "</table>\n",
       "</div>"
      ],
      "text/plain": [
       "       學校名稱      總計     男生計     女生計       男女比  Yooo\n",
       "0    國立政治大學   9,630  3983.0  5647.0  0.705330     0\n",
       "1    國立清華大學   8,689  4696.0  3993.0  1.176058     0\n",
       "2    國立臺灣大學  16,604  9447.0  7157.0  1.319966     0\n",
       "3  國立臺灣師範大學   8,079  3583.0  4496.0  0.796931     0\n",
       "4    國立成功大學  11,390  7123.0  4267.0  1.669323     0"
      ]
     },
     "execution_count": 42,
     "metadata": {},
     "output_type": "execute_result"
    }
   ],
   "source": [
    "男女計.drop(\"Yooo\",axis=1)\n",
    "男女計.head()"
   ]
  },
  {
   "cell_type": "code",
   "execution_count": 43,
   "metadata": {},
   "outputs": [
    {
     "data": {
      "text/html": [
       "<div>\n",
       "<style scoped>\n",
       "    .dataframe tbody tr th:only-of-type {\n",
       "        vertical-align: middle;\n",
       "    }\n",
       "\n",
       "    .dataframe tbody tr th {\n",
       "        vertical-align: top;\n",
       "    }\n",
       "\n",
       "    .dataframe thead th {\n",
       "        text-align: right;\n",
       "    }\n",
       "</style>\n",
       "<table border=\"1\" class=\"dataframe\">\n",
       "  <thead>\n",
       "    <tr style=\"text-align: right;\">\n",
       "      <th></th>\n",
       "      <th>學校名稱</th>\n",
       "      <th>總計</th>\n",
       "      <th>男生計</th>\n",
       "      <th>女生計</th>\n",
       "      <th>男女比</th>\n",
       "    </tr>\n",
       "  </thead>\n",
       "  <tbody>\n",
       "    <tr>\n",
       "      <th>0</th>\n",
       "      <td>國立政治大學</td>\n",
       "      <td>9,630</td>\n",
       "      <td>3983.0</td>\n",
       "      <td>5647.0</td>\n",
       "      <td>0.705330</td>\n",
       "    </tr>\n",
       "    <tr>\n",
       "      <th>1</th>\n",
       "      <td>國立清華大學</td>\n",
       "      <td>8,689</td>\n",
       "      <td>4696.0</td>\n",
       "      <td>3993.0</td>\n",
       "      <td>1.176058</td>\n",
       "    </tr>\n",
       "    <tr>\n",
       "      <th>2</th>\n",
       "      <td>國立臺灣大學</td>\n",
       "      <td>16,604</td>\n",
       "      <td>9447.0</td>\n",
       "      <td>7157.0</td>\n",
       "      <td>1.319966</td>\n",
       "    </tr>\n",
       "    <tr>\n",
       "      <th>3</th>\n",
       "      <td>國立臺灣師範大學</td>\n",
       "      <td>8,079</td>\n",
       "      <td>3583.0</td>\n",
       "      <td>4496.0</td>\n",
       "      <td>0.796931</td>\n",
       "    </tr>\n",
       "    <tr>\n",
       "      <th>4</th>\n",
       "      <td>國立成功大學</td>\n",
       "      <td>11,390</td>\n",
       "      <td>7123.0</td>\n",
       "      <td>4267.0</td>\n",
       "      <td>1.669323</td>\n",
       "    </tr>\n",
       "  </tbody>\n",
       "</table>\n",
       "</div>"
      ],
      "text/plain": [
       "       學校名稱      總計     男生計     女生計       男女比\n",
       "0    國立政治大學   9,630  3983.0  5647.0  0.705330\n",
       "1    國立清華大學   8,689  4696.0  3993.0  1.176058\n",
       "2    國立臺灣大學  16,604  9447.0  7157.0  1.319966\n",
       "3  國立臺灣師範大學   8,079  3583.0  4496.0  0.796931\n",
       "4    國立成功大學  11,390  7123.0  4267.0  1.669323"
      ]
     },
     "execution_count": 43,
     "metadata": {},
     "output_type": "execute_result"
    }
   ],
   "source": [
    "男女計.drop(\"Yooo\",axis=1,inplace=True)#inplace=True會直接取代刪除原本的資料\n",
    "男女計.head()"
   ]
  },
  {
   "cell_type": "code",
   "execution_count": 57,
   "metadata": {},
   "outputs": [
    {
     "data": {
      "text/html": [
       "<div>\n",
       "<style scoped>\n",
       "    .dataframe tbody tr th:only-of-type {\n",
       "        vertical-align: middle;\n",
       "    }\n",
       "\n",
       "    .dataframe tbody tr th {\n",
       "        vertical-align: top;\n",
       "    }\n",
       "\n",
       "    .dataframe thead th {\n",
       "        text-align: right;\n",
       "    }\n",
       "</style>\n",
       "<table border=\"1\" class=\"dataframe\">\n",
       "  <thead>\n",
       "    <tr style=\"text-align: right;\">\n",
       "      <th></th>\n",
       "      <th>學校名稱</th>\n",
       "      <th>總計</th>\n",
       "      <th>男生計</th>\n",
       "      <th>女生計</th>\n",
       "      <th>男女比</th>\n",
       "    </tr>\n",
       "  </thead>\n",
       "  <tbody>\n",
       "    <tr>\n",
       "      <th>0</th>\n",
       "      <td>國立政治大學</td>\n",
       "      <td>9,630</td>\n",
       "      <td>3983.0</td>\n",
       "      <td>5647.0</td>\n",
       "      <td>0.705330</td>\n",
       "    </tr>\n",
       "    <tr>\n",
       "      <th>6</th>\n",
       "      <td>國立交通大學</td>\n",
       "      <td>5,398</td>\n",
       "      <td>3735.0</td>\n",
       "      <td>1663.0</td>\n",
       "      <td>2.245941</td>\n",
       "    </tr>\n",
       "    <tr>\n",
       "      <th>7</th>\n",
       "      <td>國立中央大學</td>\n",
       "      <td>6,057</td>\n",
       "      <td>3872.0</td>\n",
       "      <td>2185.0</td>\n",
       "      <td>1.772082</td>\n",
       "    </tr>\n",
       "    <tr>\n",
       "      <th>8</th>\n",
       "      <td>國立中山大學</td>\n",
       "      <td>4,726</td>\n",
       "      <td>2953.0</td>\n",
       "      <td>1773.0</td>\n",
       "      <td>1.665539</td>\n",
       "    </tr>\n",
       "    <tr>\n",
       "      <th>9</th>\n",
       "      <td>國立臺灣海洋大學</td>\n",
       "      <td>5,769</td>\n",
       "      <td>4002.0</td>\n",
       "      <td>1767.0</td>\n",
       "      <td>2.264856</td>\n",
       "    </tr>\n",
       "  </tbody>\n",
       "</table>\n",
       "</div>"
      ],
      "text/plain": [
       "       學校名稱     總計     男生計     女生計       男女比\n",
       "0    國立政治大學  9,630  3983.0  5647.0  0.705330\n",
       "6    國立交通大學  5,398  3735.0  1663.0  2.245941\n",
       "7    國立中央大學  6,057  3872.0  2185.0  1.772082\n",
       "8    國立中山大學  4,726  2953.0  1773.0  1.665539\n",
       "9  國立臺灣海洋大學  5,769  4002.0  1767.0  2.264856"
      ]
     },
     "execution_count": 57,
     "metadata": {},
     "output_type": "execute_result"
    }
   ],
   "source": [
    "男女計_drop_school=男女計.copy()\n",
    "男女計_drop_school.drop(1,inplace=True)#刪除列 1\n",
    "男女計_drop_school.drop([3,4],inplace=True)#刪除列 3 & 4\n",
    "男女計_drop_school.drop(男女計_drop_school[男女計_drop_school[\"學校名稱\"]==\"國立臺灣大學\"].index,inplace=True)#刪除列 國立臺灣大學\n",
    "男女計_drop_school=男女計_drop_school[男女計_drop_school[\"學校名稱\"]!=\"國立中興大學\"]#刪除列 國立中興大學\n",
    "男女計_drop_school.head()"
   ]
  },
  {
   "cell_type": "markdown",
   "metadata": {},
   "source": [
    "# 合併資料"
   ]
  },
  {
   "cell_type": "code",
   "execution_count": 72,
   "metadata": {},
   "outputs": [
    {
     "data": {
      "text/html": [
       "<div>\n",
       "<style scoped>\n",
       "    .dataframe tbody tr th:only-of-type {\n",
       "        vertical-align: middle;\n",
       "    }\n",
       "\n",
       "    .dataframe tbody tr th {\n",
       "        vertical-align: top;\n",
       "    }\n",
       "\n",
       "    .dataframe thead th {\n",
       "        text-align: right;\n",
       "    }\n",
       "</style>\n",
       "<table border=\"1\" class=\"dataframe\">\n",
       "  <thead>\n",
       "    <tr style=\"text-align: right;\">\n",
       "      <th></th>\n",
       "      <th>A</th>\n",
       "      <th>B</th>\n",
       "      <th>C</th>\n",
       "    </tr>\n",
       "  </thead>\n",
       "  <tbody>\n",
       "    <tr>\n",
       "      <th>0</th>\n",
       "      <td>0.480074</td>\n",
       "      <td>-0.384809</td>\n",
       "      <td>0.233047</td>\n",
       "    </tr>\n",
       "    <tr>\n",
       "      <th>1</th>\n",
       "      <td>1.131686</td>\n",
       "      <td>0.386204</td>\n",
       "      <td>0.904084</td>\n",
       "    </tr>\n",
       "    <tr>\n",
       "      <th>2</th>\n",
       "      <td>0.707479</td>\n",
       "      <td>-2.062509</td>\n",
       "      <td>-0.512260</td>\n",
       "    </tr>\n",
       "    <tr>\n",
       "      <th>3</th>\n",
       "      <td>-2.263925</td>\n",
       "      <td>2.649992</td>\n",
       "      <td>-0.748945</td>\n",
       "    </tr>\n",
       "  </tbody>\n",
       "</table>\n",
       "</div>"
      ],
      "text/plain": [
       "          A         B         C\n",
       "0  0.480074 -0.384809  0.233047\n",
       "1  1.131686  0.386204  0.904084\n",
       "2  0.707479 -2.062509 -0.512260\n",
       "3 -2.263925  2.649992 -0.748945"
      ]
     },
     "execution_count": 72,
     "metadata": {},
     "output_type": "execute_result"
    }
   ],
   "source": [
    "df1=pd.DataFrame(np.random.randn(4,3),columns=list(\"ABC\"))\n",
    "df2=pd.DataFrame(np.random.randn(5,3),columns=list(\"ABC\"))\n",
    "df1"
   ]
  },
  {
   "cell_type": "code",
   "execution_count": 73,
   "metadata": {},
   "outputs": [
    {
     "data": {
      "text/html": [
       "<div>\n",
       "<style scoped>\n",
       "    .dataframe tbody tr th:only-of-type {\n",
       "        vertical-align: middle;\n",
       "    }\n",
       "\n",
       "    .dataframe tbody tr th {\n",
       "        vertical-align: top;\n",
       "    }\n",
       "\n",
       "    .dataframe thead th {\n",
       "        text-align: right;\n",
       "    }\n",
       "</style>\n",
       "<table border=\"1\" class=\"dataframe\">\n",
       "  <thead>\n",
       "    <tr style=\"text-align: right;\">\n",
       "      <th></th>\n",
       "      <th>A</th>\n",
       "      <th>B</th>\n",
       "      <th>C</th>\n",
       "    </tr>\n",
       "  </thead>\n",
       "  <tbody>\n",
       "    <tr>\n",
       "      <th>1</th>\n",
       "      <td>0.480074</td>\n",
       "      <td>-0.384809</td>\n",
       "      <td>0.233047</td>\n",
       "    </tr>\n",
       "    <tr>\n",
       "      <th>2</th>\n",
       "      <td>1.131686</td>\n",
       "      <td>0.386204</td>\n",
       "      <td>0.904084</td>\n",
       "    </tr>\n",
       "    <tr>\n",
       "      <th>3</th>\n",
       "      <td>0.707479</td>\n",
       "      <td>-2.062509</td>\n",
       "      <td>-0.512260</td>\n",
       "    </tr>\n",
       "    <tr>\n",
       "      <th>4</th>\n",
       "      <td>-2.263925</td>\n",
       "      <td>2.649992</td>\n",
       "      <td>-0.748945</td>\n",
       "    </tr>\n",
       "    <tr>\n",
       "      <th>5</th>\n",
       "      <td>-1.242678</td>\n",
       "      <td>0.686546</td>\n",
       "      <td>-0.321697</td>\n",
       "    </tr>\n",
       "    <tr>\n",
       "      <th>6</th>\n",
       "      <td>1.501290</td>\n",
       "      <td>-1.230573</td>\n",
       "      <td>-1.250634</td>\n",
       "    </tr>\n",
       "    <tr>\n",
       "      <th>7</th>\n",
       "      <td>-0.495379</td>\n",
       "      <td>1.333422</td>\n",
       "      <td>0.797557</td>\n",
       "    </tr>\n",
       "    <tr>\n",
       "      <th>8</th>\n",
       "      <td>-0.133069</td>\n",
       "      <td>-0.638455</td>\n",
       "      <td>0.057737</td>\n",
       "    </tr>\n",
       "    <tr>\n",
       "      <th>9</th>\n",
       "      <td>0.044437</td>\n",
       "      <td>-0.045090</td>\n",
       "      <td>-0.145008</td>\n",
       "    </tr>\n",
       "  </tbody>\n",
       "</table>\n",
       "</div>"
      ],
      "text/plain": [
       "          A         B         C\n",
       "1  0.480074 -0.384809  0.233047\n",
       "2  1.131686  0.386204  0.904084\n",
       "3  0.707479 -2.062509 -0.512260\n",
       "4 -2.263925  2.649992 -0.748945\n",
       "5 -1.242678  0.686546 -0.321697\n",
       "6  1.501290 -1.230573 -1.250634\n",
       "7 -0.495379  1.333422  0.797557\n",
       "8 -0.133069 -0.638455  0.057737\n",
       "9  0.044437 -0.045090 -0.145008"
      ]
     },
     "execution_count": 73,
     "metadata": {},
     "output_type": "execute_result"
    }
   ],
   "source": [
    "df3=pd.concat([df1,df2],axis=0)\n",
    "df3.index=range(1,10)\n",
    "df3"
   ]
  },
  {
   "cell_type": "code",
   "execution_count": 106,
   "metadata": {},
   "outputs": [
    {
     "data": {
      "text/html": [
       "<div>\n",
       "<style scoped>\n",
       "    .dataframe tbody tr th:only-of-type {\n",
       "        vertical-align: middle;\n",
       "    }\n",
       "\n",
       "    .dataframe tbody tr th {\n",
       "        vertical-align: top;\n",
       "    }\n",
       "\n",
       "    .dataframe thead th {\n",
       "        text-align: right;\n",
       "    }\n",
       "</style>\n",
       "<table border=\"1\" class=\"dataframe\">\n",
       "  <thead>\n",
       "    <tr style=\"text-align: right;\">\n",
       "      <th></th>\n",
       "      <th>A</th>\n",
       "      <th>B</th>\n",
       "      <th>C</th>\n",
       "      <th>A</th>\n",
       "      <th>B</th>\n",
       "      <th>C</th>\n",
       "    </tr>\n",
       "  </thead>\n",
       "  <tbody>\n",
       "    <tr>\n",
       "      <th>0</th>\n",
       "      <td>0.480074</td>\n",
       "      <td>-0.384809</td>\n",
       "      <td>0.233047</td>\n",
       "      <td>-1.242678</td>\n",
       "      <td>0.686546</td>\n",
       "      <td>-0.321697</td>\n",
       "    </tr>\n",
       "    <tr>\n",
       "      <th>1</th>\n",
       "      <td>1.13169</td>\n",
       "      <td>0.386204</td>\n",
       "      <td>0.904084</td>\n",
       "      <td>1.501290</td>\n",
       "      <td>-1.230573</td>\n",
       "      <td>-1.250634</td>\n",
       "    </tr>\n",
       "    <tr>\n",
       "      <th>2</th>\n",
       "      <td>0.707479</td>\n",
       "      <td>-2.06251</td>\n",
       "      <td>-0.51226</td>\n",
       "      <td>-0.495379</td>\n",
       "      <td>1.333422</td>\n",
       "      <td>0.797557</td>\n",
       "    </tr>\n",
       "    <tr>\n",
       "      <th>3</th>\n",
       "      <td>-2.26392</td>\n",
       "      <td>2.64999</td>\n",
       "      <td>-0.748945</td>\n",
       "      <td>-0.133069</td>\n",
       "      <td>-0.638455</td>\n",
       "      <td>0.057737</td>\n",
       "    </tr>\n",
       "    <tr>\n",
       "      <th>4</th>\n",
       "      <td>0</td>\n",
       "      <td>0</td>\n",
       "      <td>0</td>\n",
       "      <td>0.044437</td>\n",
       "      <td>-0.045090</td>\n",
       "      <td>-0.145008</td>\n",
       "    </tr>\n",
       "  </tbody>\n",
       "</table>\n",
       "</div>"
      ],
      "text/plain": [
       "          A         B         C         A         B         C\n",
       "0  0.480074 -0.384809  0.233047 -1.242678  0.686546 -0.321697\n",
       "1   1.13169  0.386204  0.904084  1.501290 -1.230573 -1.250634\n",
       "2  0.707479  -2.06251  -0.51226 -0.495379  1.333422  0.797557\n",
       "3  -2.26392   2.64999 -0.748945 -0.133069 -0.638455  0.057737\n",
       "4         0         0         0  0.044437 -0.045090 -0.145008"
      ]
     },
     "execution_count": 106,
     "metadata": {},
     "output_type": "execute_result"
    }
   ],
   "source": [
    "df4=pd.concat([df1,df2],axis=1)\n",
    "df4=df4.fillna('0')\n",
    "df4"
   ]
  },
  {
   "cell_type": "code",
   "execution_count": 107,
   "metadata": {},
   "outputs": [
    {
     "data": {
      "text/html": [
       "<div>\n",
       "<style scoped>\n",
       "    .dataframe tbody tr th:only-of-type {\n",
       "        vertical-align: middle;\n",
       "    }\n",
       "\n",
       "    .dataframe tbody tr th {\n",
       "        vertical-align: top;\n",
       "    }\n",
       "\n",
       "    .dataframe thead th {\n",
       "        text-align: right;\n",
       "    }\n",
       "</style>\n",
       "<table border=\"1\" class=\"dataframe\">\n",
       "  <thead>\n",
       "    <tr style=\"text-align: right;\">\n",
       "      <th></th>\n",
       "      <th>A</th>\n",
       "      <th>A</th>\n",
       "    </tr>\n",
       "  </thead>\n",
       "  <tbody>\n",
       "    <tr>\n",
       "      <th>0</th>\n",
       "      <td>0.480074</td>\n",
       "      <td>-1.242678</td>\n",
       "    </tr>\n",
       "    <tr>\n",
       "      <th>1</th>\n",
       "      <td>1.13169</td>\n",
       "      <td>1.501290</td>\n",
       "    </tr>\n",
       "    <tr>\n",
       "      <th>2</th>\n",
       "      <td>0.707479</td>\n",
       "      <td>-0.495379</td>\n",
       "    </tr>\n",
       "    <tr>\n",
       "      <th>3</th>\n",
       "      <td>-2.26392</td>\n",
       "      <td>-0.133069</td>\n",
       "    </tr>\n",
       "    <tr>\n",
       "      <th>4</th>\n",
       "      <td>0</td>\n",
       "      <td>0.044437</td>\n",
       "    </tr>\n",
       "  </tbody>\n",
       "</table>\n",
       "</div>"
      ],
      "text/plain": [
       "          A         A\n",
       "0  0.480074 -1.242678\n",
       "1   1.13169  1.501290\n",
       "2  0.707479 -0.495379\n",
       "3  -2.26392 -0.133069\n",
       "4         0  0.044437"
      ]
     },
     "execution_count": 107,
     "metadata": {},
     "output_type": "execute_result"
    }
   ],
   "source": [
    "df4[\"A\"]"
   ]
  },
  {
   "cell_type": "code",
   "execution_count": 108,
   "metadata": {},
   "outputs": [
    {
     "data": {
      "text/plain": [
       "0   -1.242678\n",
       "1    1.501290\n",
       "Name: A, dtype: float64"
      ]
     },
     "execution_count": 108,
     "metadata": {},
     "output_type": "execute_result"
    }
   ],
   "source": [
    "df4[\"A\"].iloc[0:2,1]"
   ]
  },
  {
   "cell_type": "code",
   "execution_count": 113,
   "metadata": {},
   "outputs": [
    {
     "data": {
      "text/html": [
       "<div>\n",
       "<style scoped>\n",
       "    .dataframe tbody tr th:only-of-type {\n",
       "        vertical-align: middle;\n",
       "    }\n",
       "\n",
       "    .dataframe tbody tr th {\n",
       "        vertical-align: top;\n",
       "    }\n",
       "\n",
       "    .dataframe thead th {\n",
       "        text-align: right;\n",
       "    }\n",
       "</style>\n",
       "<table border=\"1\" class=\"dataframe\">\n",
       "  <thead>\n",
       "    <tr style=\"text-align: right;\">\n",
       "      <th></th>\n",
       "      <th>A</th>\n",
       "      <th>B</th>\n",
       "      <th>C</th>\n",
       "      <th>B</th>\n",
       "      <th>C</th>\n",
       "    </tr>\n",
       "  </thead>\n",
       "  <tbody>\n",
       "    <tr>\n",
       "      <th>0</th>\n",
       "      <td>0.480074</td>\n",
       "      <td>-0.384809</td>\n",
       "      <td>0.233047</td>\n",
       "      <td>0.686546</td>\n",
       "      <td>-0.321697</td>\n",
       "    </tr>\n",
       "    <tr>\n",
       "      <th>1</th>\n",
       "      <td>1.13169</td>\n",
       "      <td>0.386204</td>\n",
       "      <td>0.904084</td>\n",
       "      <td>-1.230573</td>\n",
       "      <td>-1.250634</td>\n",
       "    </tr>\n",
       "    <tr>\n",
       "      <th>2</th>\n",
       "      <td>0.707479</td>\n",
       "      <td>-2.06251</td>\n",
       "      <td>-0.51226</td>\n",
       "      <td>1.333422</td>\n",
       "      <td>0.797557</td>\n",
       "    </tr>\n",
       "    <tr>\n",
       "      <th>3</th>\n",
       "      <td>-2.26392</td>\n",
       "      <td>2.64999</td>\n",
       "      <td>-0.748945</td>\n",
       "      <td>-0.638455</td>\n",
       "      <td>0.057737</td>\n",
       "    </tr>\n",
       "    <tr>\n",
       "      <th>4</th>\n",
       "      <td>0</td>\n",
       "      <td>0</td>\n",
       "      <td>0</td>\n",
       "      <td>-0.045090</td>\n",
       "      <td>-0.145008</td>\n",
       "    </tr>\n",
       "  </tbody>\n",
       "</table>\n",
       "</div>"
      ],
      "text/plain": [
       "          A         B         C         B         C\n",
       "0  0.480074 -0.384809  0.233047  0.686546 -0.321697\n",
       "1   1.13169  0.386204  0.904084 -1.230573 -1.250634\n",
       "2  0.707479  -2.06251  -0.51226  1.333422  0.797557\n",
       "3  -2.26392   2.64999 -0.748945 -0.638455  0.057737\n",
       "4         0         0         0 -0.045090 -0.145008"
      ]
     },
     "execution_count": 113,
     "metadata": {},
     "output_type": "execute_result"
    }
   ],
   "source": [
    "df5=df4.copy()\n",
    "df5.columns=list(\"ABC\")+[\"AA\"]+list(\"BC\")\n",
    "# df5[\"A\"].columns=[\"A\",\"AA\"]\n",
    "df5.drop(\"AA\",axis=1,inplace=True)\n",
    "df5"
   ]
  },
  {
   "cell_type": "markdown",
   "metadata": {},
   "source": [
    "## UCI machine learning repository\n",
    "\n",
    "[UCI machine learning repository](https://archive.ics.uci.edu/ml/index.php)\n",
    "\n",
    "現成資料"
   ]
  },
  {
   "cell_type": "markdown",
   "metadata": {},
   "source": [
    "## Pandas 小補充"
   ]
  },
  {
   "cell_type": "code",
   "execution_count": null,
   "metadata": {},
   "outputs": [],
   "source": [
    "df=pd.read_csv(\"https://archive.ics.uci.edu/ml/machine-learning-databases/iris/iris.data\"\n",
    "               names=list('ABCDE')\n",
    "               ,header=None)\n",
    "# df.columns=list('ABCDE')\n",
    "df.head()"
   ]
  }
 ],
 "metadata": {
  "kernelspec": {
   "display_name": "Python 3",
   "language": "python",
   "name": "python3"
  },
  "language_info": {
   "codemirror_mode": {
    "name": "ipython",
    "version": 3
   },
   "file_extension": ".py",
   "mimetype": "text/x-python",
   "name": "python",
   "nbconvert_exporter": "python",
   "pygments_lexer": "ipython3",
   "version": "3.6.8"
  }
 },
 "nbformat": 4,
 "nbformat_minor": 2
}
