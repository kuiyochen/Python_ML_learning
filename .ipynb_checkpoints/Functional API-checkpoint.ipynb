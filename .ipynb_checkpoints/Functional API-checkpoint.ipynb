{
 "cells": [
  {
   "cell_type": "code",
   "execution_count": 1,
   "metadata": {},
   "outputs": [
    {
     "name": "stdout",
     "output_type": "stream",
     "text": [
      "env: KERAS_BACKEND=tensorflow\n"
     ]
    },
    {
     "name": "stderr",
     "output_type": "stream",
     "text": [
      "Using TensorFlow backend.\n"
     ]
    }
   ],
   "source": [
    "%matplotlib inline\n",
    "%env KERAS_BACKEND=tensorflow\n",
    "import numpy as np\n",
    "import pandas as pd\n",
    "import matplotlib.pyplot as plt\n",
    "import matplotlib as mpl\n",
    "from ipywidgets import interact, IntSlider, Button\n",
    "from ipywidgets import interact_manual\n",
    "# import sympy as sym\n",
    "# from sympy import S,N\n",
    "# import locale\n",
    "# from sklearn.linear_model import LinearRegression\n",
    "from keras.utils import np_utils #one hot encoding\n",
    "# from keras.models import Sequential #神經網路的框架keras.models\n",
    "from keras.layers import Dense, Activation\n",
    "from keras.layers import Flatten # 將資料展平\n",
    "from keras.layers import Conv2D, MaxPool2D, MaxPooling2D\n",
    "from keras.optimizers import SGD, Adadelta\n",
    "from keras.models import model_from_json\n",
    "from keras.datasets import mnist # mnist內 包含手寫測試資料\n",
    "\n",
    "#for Functional API\n",
    "from keras.models import Model\n",
    "from keras.layers import Input\n",
    "from keras.layers import concatenate, add\n",
    "#for Functional API transfer learning\n",
    "\n",
    "from keras.layers.core import Lambda\n",
    "from keras import backend as K\n",
    "\n",
    "# from keras.preprocessing.image import ImageDataGenerator\n",
    "# from keras.layers import Dropout\n",
    "\n",
    "import matplotlib.image as mpimg #import image file\n",
    "# from sklearn.model_selection import train_test_split"
   ]
  },
  {
   "cell_type": "code",
   "execution_count": 2,
   "metadata": {},
   "outputs": [
    {
     "name": "stdout",
     "output_type": "stream",
     "text": [
      "x =  Tensor(\"input_1:0\", shape=(?, 784), dtype=float32)\n",
      "f_1 =  <keras.layers.core.Dense object at 0x000002BF070A6B38>\n",
      "f_1.get_weights() =  []\n"
     ]
    }
   ],
   "source": [
    "x = Input(shape=(784,)) # Tensor object\n",
    "print(\"x = \", x)\n",
    "f_1 = Dense(500, activation='relu') # 之前是[Dense(500, input_dim=784), Activation('relu')]\n",
    "# f_1.trainable = False\n",
    "f_2 = Dense(200, activation='relu')\n",
    "f_3 = Dense(50, activation='relu')\n",
    "f_4 = Dense(10, activation='softmax')\n",
    "print(\"f_1 = \", f_1) # keras.layers.core.Dense object\n",
    "print(\"f_1.get_weights() = \", f_1.get_weights()) # the layer does not have weights yet"
   ]
  },
  {
   "cell_type": "markdown",
   "metadata": {},
   "source": [
    "就像數學函數一樣，照著打！！\n",
    "\n",
    "$$h_1 = f_1(x), h_2 = f_2(h_1), h_3 = f_3(h_2), y = f_4(h_3)$$"
   ]
  },
  {
   "cell_type": "code",
   "execution_count": 3,
   "metadata": {},
   "outputs": [
    {
     "name": "stdout",
     "output_type": "stream",
     "text": [
      "WARNING:tensorflow:From c:\\users\\奎佑\\appdata\\local\\programs\\python\\python36\\lib\\site-packages\\tensorflow\\python\\framework\\op_def_library.py:263: colocate_with (from tensorflow.python.framework.ops) is deprecated and will be removed in a future version.\n",
      "Instructions for updating:\n",
      "Colocations handled automatically by placer.\n",
      "h_1 =  Tensor(\"dense_1/Relu:0\", shape=(?, 500), dtype=float32)\n"
     ]
    }
   ],
   "source": [
    "h_1 = f_1(x) # h_1 is Tensor object\n",
    "h_2 = f_2(h_1)\n",
    "h_3 = f_3(h_2)\n",
    "y = f_4(h_3)\n",
    "print(\"h_1 = \", h_1)"
   ]
  },
  {
   "cell_type": "markdown",
   "metadata": {},
   "source": [
    "# get_weights & set_weights!!\n",
    "\n",
    "可以用來轉移學習"
   ]
  },
  {
   "cell_type": "code",
   "execution_count": 4,
   "metadata": {
    "scrolled": true
   },
   "outputs": [
    {
     "name": "stdout",
     "output_type": "stream",
     "text": [
      "[array([[-0.6988745 , -0.7043233 ],\n",
      "       [ 0.5306593 ,  0.13142383],\n",
      "       [-0.9677951 , -0.26953208]], dtype=float32), array([0., 0.], dtype=float32)]\n"
     ]
    }
   ],
   "source": [
    "xx = Input(shape=(3,))\n",
    "f = Dense(2, activation='relu')\n",
    "yy = f(xx)\n",
    "print(f.get_weights())\n",
    "# 前面是3x2個weight，後面是2個bios!"
   ]
  },
  {
   "cell_type": "code",
   "execution_count": 5,
   "metadata": {},
   "outputs": [
    {
     "name": "stdout",
     "output_type": "stream",
     "text": [
      "[array([[1., 1.],\n",
      "       [1., 1.],\n",
      "       [1., 1.]], dtype=float32), array([2.02, 2.02], dtype=float32)]\n"
     ]
    }
   ],
   "source": [
    "A = np.zeros((3, 2))+1\n",
    "B = np.zeros(2)+2.02\n",
    "f.set_weights([A, B])\n",
    "\n",
    "print(f.get_weights())"
   ]
  },
  {
   "cell_type": "markdown",
   "metadata": {},
   "source": [
    "## 回到定義模型"
   ]
  },
  {
   "cell_type": "code",
   "execution_count": 6,
   "metadata": {},
   "outputs": [],
   "source": [
    "model = Model(x, y)"
   ]
  },
  {
   "cell_type": "code",
   "execution_count": 7,
   "metadata": {},
   "outputs": [
    {
     "name": "stdout",
     "output_type": "stream",
     "text": [
      "_________________________________________________________________\n",
      "Layer (type)                 Output Shape              Param #   \n",
      "=================================================================\n",
      "input_1 (InputLayer)         (None, 784)               0         \n",
      "_________________________________________________________________\n",
      "dense_1 (Dense)              (None, 500)               392500    \n",
      "_________________________________________________________________\n",
      "dense_2 (Dense)              (None, 200)               100200    \n",
      "_________________________________________________________________\n",
      "dense_3 (Dense)              (None, 50)                10050     \n",
      "_________________________________________________________________\n",
      "dense_4 (Dense)              (None, 10)                510       \n",
      "=================================================================\n",
      "Total params: 503,260\n",
      "Trainable params: 503,260\n",
      "Non-trainable params: 0\n",
      "_________________________________________________________________\n"
     ]
    }
   ],
   "source": [
    "model.summary()\n",
    "# Trainable 的問題可以在定義f_i的時候加上 \" f_i.trainable = False \""
   ]
  },
  {
   "cell_type": "code",
   "execution_count": 8,
   "metadata": {},
   "outputs": [],
   "source": [
    "model.compile(loss='categorical_crossentropy', optimizer=Adadelta(), metrics=['accuracy'])"
   ]
  },
  {
   "cell_type": "code",
   "execution_count": 9,
   "metadata": {},
   "outputs": [
    {
     "name": "stdout",
     "output_type": "stream",
     "text": [
      "There are 60000 training data with size 28 x 28\n",
      "There are 10000 testing  data with size 28 x 28\n",
      "x_train.max =  1.0 \n",
      "x_train.min =  0.0 \n",
      "y_test[0] =  [0. 0. 0. 0. 0. 0. 0. 1. 0. 0.]\n"
     ]
    }
   ],
   "source": [
    "(x_train0, y_train0), (x_test0, y_test0) = mnist.load_data()\n",
    "print(\"There are %d training data with size %d x %d\" %x_train0.shape)\n",
    "print(\"There are %d testing  data with size %d x %d\" %x_test0.shape)\n",
    "# y_test0.shape\n",
    "\n",
    "x_train = x_train0.reshape(x_train0.shape[0], -1)\n",
    "x_test = x_test0.reshape(x_test0.shape[0], -1)\n",
    "x_train -= x_train.min()\n",
    "x_train = x_train/x_train.max()\n",
    "y_train = np_utils.to_categorical(y_train0, 10)\n",
    "y_test = np_utils.to_categorical(y_test0, 10)\n",
    "\n",
    "print(\"x_train.max = \", x_train.max(), \"\\nx_train.min = \", x_train.min(), \"\\ny_test[0] = \", y_test[0])"
   ]
  },
  {
   "cell_type": "code",
   "execution_count": 10,
   "metadata": {},
   "outputs": [
    {
     "name": "stdout",
     "output_type": "stream",
     "text": [
      "WARNING:tensorflow:From c:\\users\\奎佑\\appdata\\local\\programs\\python\\python36\\lib\\site-packages\\tensorflow\\python\\ops\\math_ops.py:3066: to_int32 (from tensorflow.python.ops.math_ops) is deprecated and will be removed in a future version.\n",
      "Instructions for updating:\n",
      "Use tf.cast instead.\n",
      "Epoch 1/3\n",
      "60000/60000 [==============================] - 10s 162us/step - loss: 0.2633 - acc: 0.9186\n",
      "Epoch 2/3\n",
      "60000/60000 [==============================] - 10s 160us/step - loss: 0.0910 - acc: 0.9719\n",
      "Epoch 3/3\n",
      "60000/60000 [==============================] - 9s 157us/step - loss: 0.0577 - acc: 0.9813\n"
     ]
    },
    {
     "data": {
      "text/plain": [
       "<keras.callbacks.History at 0x2344ee9d048>"
      ]
     },
     "execution_count": 10,
     "metadata": {},
     "output_type": "execute_result"
    }
   ],
   "source": [
    "model.fit(x_train, y_train, batch_size=100, epochs=3)"
   ]
  },
  {
   "cell_type": "code",
   "execution_count": 11,
   "metadata": {},
   "outputs": [
    {
     "name": "stdout",
     "output_type": "stream",
     "text": [
      "10000/10000 [==============================] - 0s 25us/step\n",
      "Loss: 0.357169\n",
      "準確率: 97.759998\n"
     ]
    }
   ],
   "source": [
    "score = model.evaluate(x_test, y_test, batch_size=10000)\n",
    "print(\"Loss: %f\" %score[0])\n",
    "print(\"準確率: %f\" %(score[1]*100))"
   ]
  },
  {
   "cell_type": "code",
   "execution_count": 17,
   "metadata": {},
   "outputs": [],
   "source": [
    "model_json = model.to_json() # 將神經網路變成json格式\n",
    "open('json_h5/Functional_API.json','w').write(model_json)\n",
    "model.save_weights('json_h5/Functional_API.h5') # 將整個model存起來"
   ]
  },
  {
   "cell_type": "markdown",
   "metadata": {},
   "source": [
    "## 讀入"
   ]
  },
  {
   "cell_type": "code",
   "execution_count": 18,
   "metadata": {},
   "outputs": [],
   "source": [
    "new_model = model_from_json(open('json_h5/Functional_API.json').read())\n",
    "new_model.load_weights('json_h5/Functional_API.h5')\n",
    "new_model.compile(loss='categorical_crossentropy', optimizer=Adadelta(), metrics=['accuracy'])"
   ]
  },
  {
   "cell_type": "code",
   "execution_count": 19,
   "metadata": {},
   "outputs": [
    {
     "name": "stdout",
     "output_type": "stream",
     "text": [
      "10000/10000 [==============================] - 0s 36us/step\n",
      "Loss: 0.357169\n",
      "準確率: 97.759998\n"
     ]
    }
   ],
   "source": [
    "score = new_model.evaluate(x_test, y_test, batch_size=10000)\n",
    "print(\"Loss: %f\" %score[0])\n",
    "print(\"準確率: %f\" %(score[1]*100))"
   ]
  },
  {
   "cell_type": "markdown",
   "metadata": {},
   "source": [
    "# 分歧及合併\n",
    "\n",
    "concatenate"
   ]
  },
  {
   "cell_type": "markdown",
   "metadata": {},
   "source": [
    "<pre>\n",
    "                                     hh_3_1  \n",
    "    g_1       g_2          g_3_1 ↗            ↘  concatenate         g_4  \n",
    "xxx －>  hh_1 －>  hh_2                               －>        ccc  －>  yyy  \n",
    "                           g_3_2 ↘            ↗  \n",
    "                                     hh_3_2\n",
    "</pre>"
   ]
  },
  {
   "cell_type": "code",
   "execution_count": 2,
   "metadata": {},
   "outputs": [
    {
     "name": "stdout",
     "output_type": "stream",
     "text": [
      "WARNING:tensorflow:From c:\\users\\奎佑\\appdata\\local\\programs\\python\\python36\\lib\\site-packages\\tensorflow\\python\\framework\\op_def_library.py:263: colocate_with (from tensorflow.python.framework.ops) is deprecated and will be removed in a future version.\n",
      "Instructions for updating:\n",
      "Colocations handled automatically by placer.\n",
      "__________________________________________________________________________________________________\n",
      "Layer (type)                    Output Shape         Param #     Connected to                     \n",
      "==================================================================================================\n",
      "input_1 (InputLayer)            (None, 784)          0                                            \n",
      "__________________________________________________________________________________________________\n",
      "dense_1 (Dense)                 (None, 500)          392500      input_1[0][0]                    \n",
      "__________________________________________________________________________________________________\n",
      "dense_2 (Dense)                 (None, 200)          100200      dense_1[0][0]                    \n",
      "__________________________________________________________________________________________________\n",
      "dense_3 (Dense)                 (None, 70)           14070       dense_2[0][0]                    \n",
      "__________________________________________________________________________________________________\n",
      "dense_4 (Dense)                 (None, 50)           10050       dense_2[0][0]                    \n",
      "__________________________________________________________________________________________________\n",
      "concatenate_1 (Concatenate)     (None, 120)          0           dense_3[0][0]                    \n",
      "                                                                 dense_4[0][0]                    \n",
      "__________________________________________________________________________________________________\n",
      "dense_5 (Dense)                 (None, 10)           1210        concatenate_1[0][0]              \n",
      "==================================================================================================\n",
      "Total params: 518,030\n",
      "Trainable params: 518,030\n",
      "Non-trainable params: 0\n",
      "__________________________________________________________________________________________________\n"
     ]
    }
   ],
   "source": [
    "xxx = Input(shape=(784,))\n",
    "g_1 = Dense(500, activation='relu')\n",
    "g_2 = Dense(200, activation='relu')\n",
    "#分歧\n",
    "g_3_1 = Dense(70, activation='relu')\n",
    "g_3_2 = Dense(50, activation='relu')\n",
    "#合併\n",
    "g_4 = Dense(10, activation='softmax')\n",
    "\n",
    "hh_1 = g_1(xxx)\n",
    "hh_2 = g_2(hh_1)\n",
    "#分歧\n",
    "hh_3_1 = g_3_1(hh_2)\n",
    "hh_3_2 = g_3_2(hh_2)\n",
    "#合併\n",
    "ccc = concatenate([hh_3_1, hh_3_2])\n",
    "yyy = g_4(ccc)\n",
    "\n",
    "special_model = Model(xxx, yyy)\n",
    "special_model.summary()"
   ]
  },
  {
   "cell_type": "markdown",
   "metadata": {},
   "source": [
    "# 自定義的不具可訓練權重之神經網路層"
   ]
  },
  {
   "cell_type": "markdown",
   "metadata": {},
   "source": [
    "當你需要幫神經網路中間做某些特別的運算時，比如中間某一層想要刻意的做個\"加總(sum)\"，再繼續向後層傳遞，\n",
    "\n",
    "這看似容易~~\n",
    "\n",
    "但要在fit這個模型的時候，沒有用keras給的\"加總\"，他可能不知道怎麼做back propagation  \n",
    "因此backend裡面給了很多，比如sum, prod, mean, var...等的函數  \n",
    "see [keras Backend functions](https://keras.io/backend/#backend-functions)  \n",
    "其輸入輸出都是以Tensor object 或 layer為主\n",
    "\n",
    "\n",
    "2:20:00 [2019/04/26_Python機器學習與深度學習入門_L8](https://www.youtube.com/watch?v=9dubisskn2M)"
   ]
  },
  {
   "cell_type": "code",
   "execution_count": 2,
   "metadata": {},
   "outputs": [],
   "source": [
    "from keras.layers.core import Lambda\n",
    "from keras import backend as K"
   ]
  },
  {
   "cell_type": "code",
   "execution_count": 3,
   "metadata": {},
   "outputs": [
    {
     "name": "stdout",
     "output_type": "stream",
     "text": [
      "a =  Tensor(\"input_1:0\", shape=(?, 3), dtype=float32)\n",
      "b =  Tensor(\"Mean:0\", shape=(), dtype=float32)\n"
     ]
    }
   ],
   "source": [
    "#比如 a 是個 tensor object\n",
    "a = Input(shape=(3,)) # Tensor object\n",
    "print(\"a = \", a)\n",
    "b = K.mean(a)\n",
    "print(\"b = \", b) # 那麼 這個也會是 tensor object\n",
    "\n",
    "# model1=Model(a,b) # <----Output tensors to a Model must be the output of a Keras `Layer`\n",
    "# 意思是說 b 不能只是單純的 tensor，必須是一個 layer 所 output 的 tensor"
   ]
  },
  {
   "cell_type": "code",
   "execution_count": 28,
   "metadata": {},
   "outputs": [
    {
     "name": "stdout",
     "output_type": "stream",
     "text": [
      "func1 =  <keras.layers.core.Lambda object at 0x0000021503782E80>\n",
      "y1 =  Tensor(\"lambda_31/Mean:0\", shape=(?,), dtype=float32)\n",
      "__________________________________________________________________________________________________\n",
      "Layer (type)                    Output Shape         Param #     Connected to                     \n",
      "==================================================================================================\n",
      "input_1 (InputLayer)            (None, 3)            0                                            \n",
      "__________________________________________________________________________________________________\n",
      "lambda_31 (Lambda)              (None, 1)            0           input_1[0][0]                    \n",
      "__________________________________________________________________________________________________\n",
      "lambda_32 (Lambda)              (None, 1)            0           input_1[0][0]                    \n",
      "__________________________________________________________________________________________________\n",
      "lambda_33 (Lambda)              (None, 1)            0           input_1[0][0]                    \n",
      "__________________________________________________________________________________________________\n",
      "reshape_27 (Reshape)            (None, 1)            0           lambda_31[0][0]                  \n",
      "__________________________________________________________________________________________________\n",
      "reshape_28 (Reshape)            (None, 1)            0           lambda_32[0][0]                  \n",
      "__________________________________________________________________________________________________\n",
      "reshape_29 (Reshape)            (None, 1)            0           lambda_33[0][0]                  \n",
      "__________________________________________________________________________________________________\n",
      "concatenate_17 (Concatenate)    (None, 3)            0           reshape_27[0][0]                 \n",
      "                                                                 reshape_28[0][0]                 \n",
      "                                                                 reshape_29[0][0]                 \n",
      "__________________________________________________________________________________________________\n",
      "dense_11 (Dense)                (None, 3)            12          concatenate_17[0][0]             \n",
      "==================================================================================================\n",
      "Total params: 12\n",
      "Trainable params: 12\n",
      "Non-trainable params: 0\n",
      "__________________________________________________________________________________________________\n"
     ]
    }
   ],
   "source": [
    "# 所以我們需要這樣的修正\n",
    "func1 = Lambda(lambda z:K.mean(z, axis=1), output_shape=(1,))\n",
    "# func = Lambda(K.mean, output_shape=(1,))<----執行後會把所有數字平均，而並非3筆3筆平均，~~有待考究原因\n",
    "# 注意!! output_shape要填，雖然他不會出錯~但他的預設output_shape為none\n",
    "print(\"func1 = \", func1)\n",
    "func2 = Lambda(lambda z:K.sum(z, axis=1), output_shape=(1,))\n",
    "func3 = Lambda(lambda z:K.max(z, axis=1), output_shape=(1,))\n",
    "tt = Dense(3, activation='relu')\n",
    "\n",
    "y1 = func1(a)\n",
    "print(\"y1 = \", y1)\n",
    "y2 = func2(a)\n",
    "y3 = func3(a)\n",
    "\n",
    "from keras.layers.core import Reshape\n",
    "y1 = Reshape((1,))(y1) # 有加這三行就沒事@@??\n",
    "y2 = Reshape((1,))(y2) # 有加這三行就沒事@@??\n",
    "y3 = Reshape((1,))(y3) # 有加這三行就沒事@@??\n",
    "\n",
    "u = concatenate([y1, y2, y3])\n",
    "b = tt(u)\n",
    "\n",
    "A = np.array([1, 0, 0, 0, 1, 0, 0, 0, 1]).reshape(3, 3)\n",
    "B = np.zeros(3)\n",
    "# A = np.array([1, 0, 0, 1, 0, 0]).reshape(2, 3)\n",
    "# B = np.zeros(3)\n",
    "tt.set_weights([A, B])\n",
    "\n",
    "model1 = Model(a,b)\n",
    "model1.summary()"
   ]
  },
  {
   "cell_type": "code",
   "execution_count": 30,
   "metadata": {},
   "outputs": [
    {
     "name": "stdout",
     "output_type": "stream",
     "text": [
      "15.5\n",
      "186\n"
     ]
    },
    {
     "data": {
      "text/plain": [
       "array([[ 17.666666,  53.      ,  50.      ],\n",
       "       [  2.      ,   6.      ,   3.      ],\n",
       "       [  5.      ,  15.      ,  10.      ],\n",
       "       [ 37.333332, 112.      , 100.      ]], dtype=float32)"
      ]
     },
     "execution_count": 30,
     "metadata": {},
     "output_type": "execute_result"
    }
   ],
   "source": [
    "model1.compile(loss='categorical_crossentropy', optimizer=Adadelta(), metrics=['accuracy'])\n",
    "\n",
    "data = np.array([[1, 2, 50], [1, 3, 2], [10, 3, 2], [100, 10, 2]]).reshape(4,-1)\n",
    "print(data.reshape(-1).mean())\n",
    "print(data.reshape(-1).sum())\n",
    "model1.predict(data)"
   ]
  },
  {
   "cell_type": "markdown",
   "metadata": {},
   "source": [
    "## 這裡還有keras抽樣的範例\n",
    "2:39:00 [2019/04/26_Python機器學習與深度學習入門_L8](https://www.youtube.com/watch?v=9dubisskn2M)"
   ]
  },
  {
   "cell_type": "code",
   "execution_count": null,
   "metadata": {},
   "outputs": [],
   "source": []
  }
 ],
 "metadata": {
  "kernelspec": {
   "display_name": "Python 3",
   "language": "python",
   "name": "python3"
  },
  "language_info": {
   "codemirror_mode": {
    "name": "ipython",
    "version": 3
   },
   "file_extension": ".py",
   "mimetype": "text/x-python",
   "name": "python",
   "nbconvert_exporter": "python",
   "pygments_lexer": "ipython3",
   "version": "3.6.8"
  }
 },
 "nbformat": 4,
 "nbformat_minor": 2
}
