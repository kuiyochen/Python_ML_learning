{
 "cells": [
  {
   "cell_type": "code",
   "execution_count": 1,
   "metadata": {},
   "outputs": [
    {
     "ename": "ModuleNotFoundError",
     "evalue": "No module named 'flask'",
     "output_type": "error",
     "traceback": [
      "\u001b[1;31m---------------------------------------------------------------------------\u001b[0m",
      "\u001b[1;31mModuleNotFoundError\u001b[0m                       Traceback (most recent call last)",
      "\u001b[1;32m<ipython-input-1-94d375c72b2a>\u001b[0m in \u001b[0;36m<module>\u001b[1;34m\u001b[0m\n\u001b[1;32m----> 1\u001b[1;33m \u001b[1;32mfrom\u001b[0m \u001b[0mflask\u001b[0m \u001b[1;32mimport\u001b[0m \u001b[0mFlask\u001b[0m\u001b[1;33m,\u001b[0m \u001b[0mrequest\u001b[0m\u001b[1;33m,\u001b[0m \u001b[0mjsonify\u001b[0m\u001b[1;33m\u001b[0m\u001b[1;33m\u001b[0m\u001b[0m\n\u001b[0m\u001b[0;32m      2\u001b[0m \u001b[1;33m\u001b[0m\u001b[0m\n\u001b[0;32m      3\u001b[0m \u001b[1;33m\u001b[0m\u001b[0m\n\u001b[0;32m      4\u001b[0m \u001b[0mapp\u001b[0m \u001b[1;33m=\u001b[0m \u001b[0mFlask\u001b[0m\u001b[1;33m(\u001b[0m\u001b[0m__name__\u001b[0m\u001b[1;33m)\u001b[0m\u001b[1;33m\u001b[0m\u001b[1;33m\u001b[0m\u001b[0m\n\u001b[0;32m      5\u001b[0m \u001b[1;33m\u001b[0m\u001b[0m\n",
      "\u001b[1;31mModuleNotFoundError\u001b[0m: No module named 'flask'"
     ]
    }
   ],
   "source": [
    "from flask import Flask, request, jsonify \n",
    "\n",
    "\n",
    "app = Flask(__name__)\n",
    "\n",
    "# Init session cache\n",
    "session_next = {}\n",
    "session_restaurant = {}\n",
    "\n",
    "@app.route('/', methods=['POST'])\n",
    "def webhook():\n",
    "    \"\"\"This method handles the http requests for the Dialogflow webhook\n",
    "    This is meant to be used in conjunction with the weather Dialogflow agent\n",
    "    \"\"\"\n",
    "    req = request.get_json(silent=True, force=True)\n",
    "    if req['queryResult']['intent']['displayName'] == 'Greeting':\n",
    "        \n",
    "        if req['queryResult']['parameters']['Cat'] == '小貓':\n",
    "            return jsonify({\"fulfillmentText\":\" 我們一起學貓叫~ 喵喵! 你好\"})\n",
    "        else :\n",
    "            return jsonify({\"fulfillmentText\":\" 哈囉 請問你想找哪隻動物 目前在線的可愛動物有 小豬 小狗 小貓\"})\n",
    "            \n",
    "    if req['queryResult']['intent']['displayName'] == 'ask math':\n",
    "        \n",
    "        if req['queryResult']['parameters']['operator'] == \"+\" :\n",
    "            number = req['queryResult']['parameters']['number'] + req['queryResult']['parameters']['number1']\n",
    "            \n",
    "                \n",
    "            if req['queryResult']['parameters']['Cat'] == '小貓':\n",
    "                if number <= 20:\n",
    "                    ans = \"喵!\" * int(number)\n",
    "                    return jsonify({\"fulfillmentText\":\"{}。喵了{}次，我要罐罐~\".format(ans, int(number))})\n",
    "                elif number >20:\n",
    "                    return jsonify({\"fulfillmentText\":\"喵!喵!喵! 大膽奴才，竟然要我喵{}次。\".format(int(number))})\n",
    "            else:\n",
    "                return jsonify({\"fulfillmentText\":\"你請教的動物不對歐\"})\n",
    "            \n",
    "        \n",
    "    else:\n",
    "        return jsonify({\"fulfillmentText\":\"你請教的動物不對歐\"})\n",
    "    \n",
    "if __name__ == '__main__':\n",
    "    app.run(host='0.0.0.0', port=8080, threaded=True)"
   ]
  },
  {
   "cell_type": "code",
   "execution_count": null,
   "metadata": {},
   "outputs": [],
   "source": []
  }
 ],
 "metadata": {
  "kernelspec": {
   "display_name": "Python 3",
   "language": "python",
   "name": "python3"
  },
  "language_info": {
   "codemirror_mode": {
    "name": "ipython",
    "version": 3
   },
   "file_extension": ".py",
   "mimetype": "text/x-python",
   "name": "python",
   "nbconvert_exporter": "python",
   "pygments_lexer": "ipython3",
   "version": "3.6.8"
  }
 },
 "nbformat": 4,
 "nbformat_minor": 2
}
