{
 "cells": [
  {
   "cell_type": "code",
   "execution_count": 53,
   "metadata": {},
   "outputs": [
    {
     "name": "stdout",
     "output_type": "stream",
     "text": [
      "env: KERAS_BACKEND=tensorflow\n"
     ]
    }
   ],
   "source": [
    "%matplotlib inline\n",
    "%env KERAS_BACKEND=tensorflow\n",
    "import numpy as np\n",
    "import pandas as pd\n",
    "import matplotlib.pyplot as plt\n",
    "import matplotlib as mpl\n",
    "import sympy as sym\n",
    "from sympy import S,N\n",
    "import locale"
   ]
  },
  {
   "cell_type": "code",
   "execution_count": 15,
   "metadata": {},
   "outputs": [
    {
     "name": "stdout",
     "output_type": "stream",
     "text": [
      "[]\n",
      "{(2, 'two'), (3, 'three'), (1, 'one')}\n"
     ]
    }
   ],
   "source": [
    "numberList = [1, 2, 3]\n",
    "strList = ['one', 'two', 'three']\n",
    "\n",
    "# No iterables are passed\n",
    "result = zip()\n",
    "\n",
    "# Converting itertor to list\n",
    "resultList = list(result)\n",
    "print(resultList)\n",
    "\n",
    "# Two iterables are passed\n",
    "result = zip(numberList, strList)\n",
    "\n",
    "# Converting itertor to set\n",
    "resultSet = set(result)\n",
    "print(resultSet)"
   ]
  },
  {
   "cell_type": "code",
   "execution_count": 18,
   "metadata": {},
   "outputs": [
    {
     "name": "stdout",
     "output_type": "stream",
     "text": [
      "[(1, 2, 3), ('one', 'two', 'three')]\n"
     ]
    }
   ],
   "source": [
    "result = zip(numberList, strList)\n",
    "\n",
    "aa=zip(*result)\n",
    "print(list(aa))"
   ]
  },
  {
   "cell_type": "code",
   "execution_count": 4,
   "metadata": {},
   "outputs": [],
   "source": [
    "X=np.array([1,2,3,4,5])"
   ]
  },
  {
   "cell_type": "code",
   "execution_count": 8,
   "metadata": {},
   "outputs": [],
   "source": [
    "s=np.arange(5)\n",
    "s=np.random.permutation(s)"
   ]
  },
  {
   "cell_type": "code",
   "execution_count": 9,
   "metadata": {},
   "outputs": [],
   "source": [
    "X=X[s]"
   ]
  },
  {
   "cell_type": "code",
   "execution_count": 10,
   "metadata": {},
   "outputs": [
    {
     "name": "stdout",
     "output_type": "stream",
     "text": [
      "[1 5 2 3 4]\n"
     ]
    }
   ],
   "source": [
    "print(X)"
   ]
  },
  {
   "cell_type": "code",
   "execution_count": 5,
   "metadata": {},
   "outputs": [
    {
     "name": "stdout",
     "output_type": "stream",
     "text": [
      "777\n",
      "\n",
      "777\n",
      "\n"
     ]
    }
   ],
   "source": [
    "a=777\n",
    "print(f\"{a}\\n\")\n",
    "print(\"{}\\n\".format(a))"
   ]
  },
  {
   "cell_type": "code",
   "execution_count": 106,
   "metadata": {},
   "outputs": [
    {
     "data": {
      "text/plain": [
       "(1+1j)"
      ]
     },
     "execution_count": 106,
     "metadata": {},
     "output_type": "execute_result"
    }
   ],
   "source": [
    "1+1j"
   ]
  },
  {
   "cell_type": "code",
   "execution_count": 107,
   "metadata": {},
   "outputs": [
    {
     "data": {
      "text/plain": [
       "(-1+5j)"
      ]
     },
     "execution_count": 107,
     "metadata": {},
     "output_type": "execute_result"
    }
   ],
   "source": [
    "(1+1j)*(2+3j)"
   ]
  },
  {
   "cell_type": "code",
   "execution_count": 28,
   "metadata": {},
   "outputs": [],
   "source": [
    "layer_sizes=[2,3,4,5]\n",
    "weight_shapes=[(a,b) for a,b in zip(layer_sizes[:-1],layer_sizes[1:])]\n",
    "weights=[np.random.standard_normal(s)/s[0]**.5 for s in weight_shapes]\n",
    "biases=[np.zeros((s,1)) for s in layer_sizes[1:]]\n",
    "neurals_outputs=[np.zeros((s,1)) for s in layer_sizes[0:]]"
   ]
  },
  {
   "cell_type": "code",
   "execution_count": 133,
   "metadata": {},
   "outputs": [
    {
     "data": {
      "text/plain": [
       "[(2, 3), (3, 4), (4, 5)]"
      ]
     },
     "execution_count": 133,
     "metadata": {},
     "output_type": "execute_result"
    }
   ],
   "source": [
    "weight_shapes"
   ]
  },
  {
   "cell_type": "code",
   "execution_count": 29,
   "metadata": {},
   "outputs": [
    {
     "data": {
      "text/plain": [
       "[array([[ 0.58551536, -0.73224492,  0.01158558],\n",
       "        [ 1.13354609,  0.35818887,  0.47743818]]),\n",
       " array([[ 1.23904384, -0.35505757, -0.56657495,  0.34855201],\n",
       "        [ 1.04171585, -0.40168592,  0.75692632, -0.09791432],\n",
       "        [ 0.09713811, -0.23545934,  1.47199594,  0.83778739]]),\n",
       " array([[-0.39707627,  0.48939351,  0.27729745, -0.18447112, -0.12593471],\n",
       "        [ 0.60972889,  0.39114768,  0.29611014,  0.22379605, -0.44514727],\n",
       "        [ 0.2171658 ,  0.23104076, -0.12191543, -0.17856241, -0.6448353 ],\n",
       "        [-0.39771126,  0.25176202,  0.64634667,  0.08932379,  0.21677208]])]"
      ]
     },
     "execution_count": 29,
     "metadata": {},
     "output_type": "execute_result"
    }
   ],
   "source": [
    "weights"
   ]
  },
  {
   "cell_type": "code",
   "execution_count": 135,
   "metadata": {},
   "outputs": [
    {
     "data": {
      "text/plain": [
       "[array([[0.],\n",
       "        [0.],\n",
       "        [0.]]), array([[0.],\n",
       "        [0.],\n",
       "        [0.],\n",
       "        [0.]]), array([[0.],\n",
       "        [0.],\n",
       "        [0.],\n",
       "        [0.],\n",
       "        [0.]])]"
      ]
     },
     "execution_count": 135,
     "metadata": {},
     "output_type": "execute_result"
    }
   ],
   "source": [
    "biases"
   ]
  },
  {
   "cell_type": "code",
   "execution_count": 30,
   "metadata": {},
   "outputs": [
    {
     "data": {
      "text/plain": [
       "[array([[0.],\n",
       "        [0.]]), array([[0.],\n",
       "        [0.],\n",
       "        [0.]]), array([[0.],\n",
       "        [0.],\n",
       "        [0.],\n",
       "        [0.]]), array([[0.],\n",
       "        [0.],\n",
       "        [0.],\n",
       "        [0.],\n",
       "        [0.]])]"
      ]
     },
     "execution_count": 30,
     "metadata": {},
     "output_type": "execute_result"
    }
   ],
   "source": [
    "neurals_outputs"
   ]
  },
  {
   "cell_type": "code",
   "execution_count": 2,
   "metadata": {},
   "outputs": [],
   "source": [
    "def activation_function(x):\n",
    "    return x if x>0 else 0\n",
    "def activation_function_derivation(x):\n",
    "    return x if 1 else 0"
   ]
  },
  {
   "cell_type": "code",
   "execution_count": 45,
   "metadata": {},
   "outputs": [],
   "source": [
    "def single_neural(layer_index, index):\n",
    "    if layer_index<=0:\n",
    "        return neurals_outputs[layer_index][index]\n",
    "    else:\n",
    "        return activation_function(weights[layer_index-1].T[index]\n",
    "                                   @ neurals_outputs[layer_index-1].ravel()\n",
    "                                   + biases[layer_index][index])"
   ]
  },
  {
   "cell_type": "code",
   "execution_count": 19,
   "metadata": {},
   "outputs": [
    {
     "data": {
      "text/plain": [
       "0.9993197"
      ]
     },
     "execution_count": 19,
     "metadata": {},
     "output_type": "execute_result"
    }
   ],
   "source": [
    "K=np.array([[ 1.17820575,  0.9993197 ,  0.01211692],\n",
    "        [ 0.55105871, -0.06608075, -0.56188732]])\n",
    "K[0][1]"
   ]
  },
  {
   "cell_type": "code",
   "execution_count": 32,
   "metadata": {},
   "outputs": [
    {
     "data": {
      "text/plain": [
       "array([0., 0.])"
      ]
     },
     "execution_count": 32,
     "metadata": {},
     "output_type": "execute_result"
    }
   ],
   "source": [
    "weights[0].T[0] * neurals_outputs[0][0]"
   ]
  },
  {
   "cell_type": "code",
   "execution_count": 33,
   "metadata": {},
   "outputs": [
    {
     "data": {
      "text/plain": [
       "array([0.58551536, 1.13354609])"
      ]
     },
     "execution_count": 33,
     "metadata": {},
     "output_type": "execute_result"
    }
   ],
   "source": [
    "weights[0].T[0]"
   ]
  },
  {
   "cell_type": "code",
   "execution_count": 40,
   "metadata": {},
   "outputs": [
    {
     "data": {
      "text/plain": [
       "0.0"
      ]
     },
     "execution_count": 40,
     "metadata": {},
     "output_type": "execute_result"
    }
   ],
   "source": [
    "weights[0].T[0] @ neurals_outputs[0].ravel()"
   ]
  },
  {
   "cell_type": "code",
   "execution_count": 47,
   "metadata": {},
   "outputs": [
    {
     "data": {
      "text/plain": [
       "0"
      ]
     },
     "execution_count": 47,
     "metadata": {},
     "output_type": "execute_result"
    }
   ],
   "source": [
    "single_neural(1,2)"
   ]
  },
  {
   "cell_type": "code",
   "execution_count": 87,
   "metadata": {},
   "outputs": [
    {
     "data": {
      "text/plain": [
       "array([ 6, 10,  2])"
      ]
     },
     "execution_count": 87,
     "metadata": {},
     "output_type": "execute_result"
    }
   ],
   "source": [
    "zz=np.array([[1,2],[3,4],[0,-1]]).T\n",
    "zz1=np.array([5,6])\n",
    "def addddd(x,y,z=0):\n",
    "    return x+y+z\n",
    "\n",
    "addddd(*zz,z=3)\n",
    "#addddd(*zip(*zz))\n",
    "#list(zip(*zz))"
   ]
  },
  {
   "cell_type": "code",
   "execution_count": 32,
   "metadata": {},
   "outputs": [
    {
     "name": "stdout",
     "output_type": "stream",
     "text": [
      "[5, 7, 3, 4] type= <class 'list'> len= 4\n",
      "5 type= <class 'int'>\n"
     ]
    }
   ],
   "source": [
    "list1=[5,7,3,4]\n",
    "print(list1,'type=',type(list1),'len=',len(list1))\n",
    "print(list1[0],'type=',type(list1[0]))"
   ]
  },
  {
   "cell_type": "code",
   "execution_count": 33,
   "metadata": {},
   "outputs": [
    {
     "name": "stdout",
     "output_type": "stream",
     "text": [
      "[5, 38, 7, 3, 4]\n",
      "None\n",
      "[5, 38, 7, 3, 4]\n"
     ]
    }
   ],
   "source": [
    "list2=list1.insert(1,38) #list1依然會\n",
    "print(list1)\n",
    "print(list2)\n",
    "list2=list1.copy()\n",
    "print(list2)"
   ]
  },
  {
   "cell_type": "code",
   "execution_count": 34,
   "metadata": {},
   "outputs": [
    {
     "name": "stdout",
     "output_type": "stream",
     "text": [
      "[5, 7, 3, [33, 34], 4] len= 5\n",
      "[5 7 3 list([33, 34]) 4]\n",
      "[5, 7, 3, [33, 34], 4] len= 5\n",
      "[5, 7, 3, 4, 33, 34] len= 6\n"
     ]
    }
   ],
   "source": [
    "list1=[5,7,3,4]\n",
    "list2=[33,34]\n",
    "list1.insert(3,list2)\n",
    "print(list1,'len=',len(list1))\n",
    "print(np.array(list1))\n",
    "list1=list(np.array(list1).ravel())\n",
    "print(list1,'len=',len(list1))\n",
    "list1=[5,7,3,4]\n",
    "list1.extend(list2)\n",
    "print(list1,'len=',len(list1))"
   ]
  },
  {
   "cell_type": "code",
   "execution_count": 35,
   "metadata": {},
   "outputs": [
    {
     "name": "stdout",
     "output_type": "stream",
     "text": [
      "[5, 7, 3, 7, 4, 33, 34]\n"
     ]
    },
    {
     "data": {
      "text/plain": [
       "1"
      ]
     },
     "execution_count": 35,
     "metadata": {},
     "output_type": "execute_result"
    }
   ],
   "source": [
    "list1.insert(3,7)\n",
    "print(list1)\n",
    "list1.index(7) #尋找元素"
   ]
  },
  {
   "cell_type": "code",
   "execution_count": 5,
   "metadata": {
    "scrolled": true
   },
   "outputs": [
    {
     "name": "stdout",
     "output_type": "stream",
     "text": [
      "{3, 4, 5, 7}\n",
      "[3, 4, 5, 7]\n"
     ]
    }
   ],
   "source": [
    "list1=[5,7,7,3,4]\n",
    "print(set(list1))\n",
    "print(list(set(list1)))"
   ]
  },
  {
   "cell_type": "code",
   "execution_count": 7,
   "metadata": {
    "scrolled": true
   },
   "outputs": [
    {
     "name": "stdout",
     "output_type": "stream",
     "text": [
      "True\n",
      "False\n"
     ]
    }
   ],
   "source": [
    "print({2,2,4}<={3,4,5,6,7,7,2,4,7})#inclusion in set\n",
    "print({2,2,1}<={3,4,5,6,7,7,2,4,7})"
   ]
  },
  {
   "cell_type": "code",
   "execution_count": 4,
   "metadata": {
    "scrolled": true
   },
   "outputs": [
    {
     "data": {
      "text/plain": [
       "matrix([[ 1,  9],\n",
       "        [ 3, 19]])"
      ]
     },
     "execution_count": 4,
     "metadata": {},
     "output_type": "execute_result"
    }
   ],
   "source": [
    "np.mat('1 2;3 4')*np.mat('1 1;0 4')"
   ]
  },
  {
   "cell_type": "code",
   "execution_count": 50,
   "metadata": {},
   "outputs": [
    {
     "name": "stdout",
     "output_type": "stream",
     "text": [
      "[1 2 2]\n",
      "[      1.  2324908.        2.5]\n",
      "[      2.  2324909.        3.5]\n"
     ]
    }
   ],
   "source": [
    "np.set_printoptions(suppress=True)#使float不以科學記號表示，suppress=ˇ3表示flaot顯示小數點後3位\n",
    "x=np.array([1, 2, 2.5])\n",
    "y=[\"1\", \"2,324,908\", \"2.5\"]\n",
    "y=list(map(lambda z:z.replace(',',''),y))\n",
    "print(x.astype(int))\n",
    "print(np.array(y).astype(float))\n",
    "y=np.array(y).astype(float)\n",
    "print(y+1)"
   ]
  },
  {
   "cell_type": "code",
   "execution_count": null,
   "metadata": {},
   "outputs": [],
   "source": [
    "#C:\\\\Windows\\\\Fonts\\\\kaiu.ttf"
   ]
  },
  {
   "cell_type": "code",
   "execution_count": 52,
   "metadata": {},
   "outputs": [
    {
     "name": "stdout",
     "output_type": "stream",
     "text": [
      "c:\\users\\奎佑\\appdata\\local\\programs\\python\\python36\\lib\\site-packages\\matplotlib\\__init__.py\n"
     ]
    }
   ],
   "source": [
    "print(mpl.__file__)"
   ]
  },
  {
   "cell_type": "markdown",
   "metadata": {},
   "source": [
    "git test"
   ]
  }
 ],
 "metadata": {
  "kernelspec": {
   "display_name": "Python 3",
   "language": "python",
   "name": "python3"
  },
  "language_info": {
   "codemirror_mode": {
    "name": "ipython",
    "version": 3
   },
   "file_extension": ".py",
   "mimetype": "text/x-python",
   "name": "python",
   "nbconvert_exporter": "python",
   "pygments_lexer": "ipython3",
   "version": "3.6.8"
  }
 },
 "nbformat": 4,
 "nbformat_minor": 2
}
