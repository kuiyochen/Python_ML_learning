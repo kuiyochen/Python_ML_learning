{
 "cells": [
  {
   "cell_type": "code",
   "execution_count": 1,
   "metadata": {},
   "outputs": [],
   "source": [
    "%matplotlib inline\n",
    "# %matplotlib widget\n",
    "import numpy as np\n",
    "# import pandas as pd\n",
    "import matplotlib.pyplot as plt\n",
    "# import matplotlib as mpl\n",
    "# from ipywidgets import interact, IntSlider, Button\n",
    "# from ipywidgets import interact_manual"
   ]
  },
  {
   "cell_type": "code",
   "execution_count": 2,
   "metadata": {},
   "outputs": [],
   "source": [
    "def Graph_Partition_to_two(len_of_data, edge):\n",
    "    if len_of_data <= 0 or not edge:\n",
    "        return None, None\n",
    "    graph = np.arange(len_of_data)\n",
    "    \n",
    "    # ensure it is connected\n",
    "    nbhd = {k: [] for k in range(len_of_data)}\n",
    "    for k in range(len_of_data):\n",
    "        for i,j in edge:\n",
    "            if k == i:\n",
    "                nbhd[k].append(j)\n",
    "            elif k == j:\n",
    "                nbhd[k].append(i)\n",
    "\n",
    "    used = [False] * len_of_data\n",
    "    def dfs(v):\n",
    "        used[v] = True\n",
    "        for to in nbhd[v]:\n",
    "            if not used[to]:\n",
    "                dfs(to)\n",
    "        return used\n",
    "    component = graph[dfs(0)]\n",
    "    if len(component) != len_of_data:\n",
    "        print(\"the graph is not connected!\")\n",
    "        return component, None\n",
    "\n",
    "    Adjacency = np.array([[1. if [i,j] in edge or [j,i] in edge else 0. for i in range(len_of_data)] for j in range(len_of_data)])\n",
    "    Laplacian = np.diag(np.sum(Adjacency, axis=0)) - Adjacency\n",
    "    w, v = np.linalg.eigh(Laplacian)\n",
    "    for i in range(len(w)):\n",
    "        if round(w[i], 8) != 0:\n",
    "            # print(i, w[i], v[:,i])\n",
    "            break\n",
    "    c = v[:, i]\n",
    "    return graph[c>=0], graph[c<0]"
   ]
  },
  {
   "cell_type": "code",
   "execution_count": 27,
   "metadata": {},
   "outputs": [
    {
     "name": "stdout",
     "output_type": "stream",
     "text": [
      "the graph is not connected!\n",
      "[0 1 4 5 6 7 8 9]\n",
      "None\n"
     ]
    }
   ],
   "source": [
    "len_of_data = 10\n",
    "\n",
    "edge_rate = 0.33\n",
    "from random import shuffle\n",
    "edge = [[i,j] for j in range(len_of_data) for i in range(j)] # complete graph\n",
    "X = np.array([True] * int(len(edge) * edge_rate) + [False] * (len(edge) - int(len(edge) * edge_rate)))\n",
    "shuffle(X)\n",
    "shuffle(X)\n",
    "edge = list(np.array(edge)[X]) # delete some edge\n",
    "for i in range(len(edge)):\n",
    "    edge[i] = list(edge[i])\n",
    "\n",
    "# edge = edge + [[i,i+1] for i in range(len_of_data-1)] # ensure the graph is connected\n",
    "def duplicate(items):\n",
    "    unique = []\n",
    "    for item in items:\n",
    "        if item not in unique:\n",
    "            unique.append(item)\n",
    "    return unique\n",
    "edge = duplicate(edge)\n",
    "# print(edge)\n",
    "\n",
    "# a, b = Graph_Partition_to_two(len_of_data, [{1,2}])\n",
    "a, b = Graph_Partition_to_two(len_of_data, edge)\n",
    "print(a)\n",
    "print(b)"
   ]
  },
  {
   "cell_type": "code",
   "execution_count": 28,
   "metadata": {},
   "outputs": [
    {
     "data": {
      "text/plain": [
       "tuple"
      ]
     },
     "execution_count": 28,
     "metadata": {},
     "output_type": "execute_result"
    }
   ],
   "source": [
    "type((1,2))"
   ]
  },
  {
   "cell_type": "code",
   "execution_count": 29,
   "metadata": {},
   "outputs": [
    {
     "data": {
      "text/plain": [
       "(1, 2)"
      ]
     },
     "execution_count": 29,
     "metadata": {},
     "output_type": "execute_result"
    }
   ],
   "source": [
    "tuple([1,2])"
   ]
  }
 ],
 "metadata": {
  "kernelspec": {
   "display_name": "Python 3",
   "language": "python",
   "name": "python3"
  },
  "language_info": {
   "codemirror_mode": {
    "name": "ipython",
    "version": 3
   },
   "file_extension": ".py",
   "mimetype": "text/x-python",
   "name": "python",
   "nbconvert_exporter": "python",
   "pygments_lexer": "ipython3",
   "version": "3.6.8"
  }
 },
 "nbformat": 4,
 "nbformat_minor": 2
}
