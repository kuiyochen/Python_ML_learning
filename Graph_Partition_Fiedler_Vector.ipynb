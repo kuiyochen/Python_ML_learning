{
 "cells": [
  {
   "cell_type": "code",
   "execution_count": 1,
   "metadata": {},
   "outputs": [],
   "source": [
    "%matplotlib inline\n",
    "# %matplotlib widget\n",
    "import numpy as np\n",
    "# import pandas as pd\n",
    "import matplotlib.pyplot as plt\n",
    "# import matplotlib as mpl\n",
    "# from ipywidgets import interact, IntSlider, Button\n",
    "# from ipywidgets import interact_manual"
   ]
  },
  {
   "cell_type": "code",
   "execution_count": 2,
   "metadata": {},
   "outputs": [],
   "source": [
    "def Graph_Partition_to_two(len_of_data, edge):\n",
    "    graph = np.arange(len_of_data)\n",
    "    Adjacency = np.array([[1. if {i,j} in edge else 0. for i in range(len_of_data)] for j in range(len_of_data)])\n",
    "    Laplacian = np.diag(np.sum(Adjacency, axis=0)) - Adjacency\n",
    "    w, v = np.linalg.eigh(Laplacian)\n",
    "    c = v[:, 2]\n",
    "    return graph[c>=0], graph[c<0]"
   ]
  },
  {
   "cell_type": "code",
   "execution_count": 3,
   "metadata": {},
   "outputs": [
    {
     "name": "stdout",
     "output_type": "stream",
     "text": [
      "[0 2 3 6 7]\n",
      "[1 4 5 8 9]\n"
     ]
    }
   ],
   "source": [
    "len_of_data = 10\n",
    "\n",
    "edge_rate = 0.33\n",
    "from random import shuffle\n",
    "edge = [{i,j} for i in range(len_of_data) for j in range(len_of_data) if i>j]\n",
    "X = np.array([True] * int(len(edge) * edge_rate) + [False] * (len(edge) - int(len(edge) * edge_rate)))\n",
    "shuffle(X)\n",
    "shuffle(X)\n",
    "edge = list(np.array(edge)[X])\n",
    "# len(edge)\n",
    "\n",
    "a, b = Graph_Partition_to_two(len_of_data, edge)\n",
    "print(a)\n",
    "print(b)"
   ]
  },
  {
   "cell_type": "code",
   "execution_count": null,
   "metadata": {},
   "outputs": [],
   "source": []
  }
 ],
 "metadata": {
  "kernelspec": {
   "display_name": "Python 3",
   "language": "python",
   "name": "python3"
  },
  "language_info": {
   "codemirror_mode": {
    "name": "ipython",
    "version": 3
   },
   "file_extension": ".py",
   "mimetype": "text/x-python",
   "name": "python",
   "nbconvert_exporter": "python",
   "pygments_lexer": "ipython3",
   "version": "3.6.8"
  }
 },
 "nbformat": 4,
 "nbformat_minor": 2
}
