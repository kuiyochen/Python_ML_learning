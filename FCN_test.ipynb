{
 "cells": [
  {
   "cell_type": "code",
   "execution_count": 1,
   "metadata": {},
   "outputs": [
    {
     "name": "stdout",
     "output_type": "stream",
     "text": [
      "env: KERAS_BACKEND=tensorflow\n"
     ]
    },
    {
     "name": "stderr",
     "output_type": "stream",
     "text": [
      "Using TensorFlow backend.\n"
     ]
    }
   ],
   "source": [
    "%matplotlib inline\n",
    "%env KERAS_BACKEND=tensorflow\n",
    "import numpy as np\n",
    "import pandas as pd\n",
    "import matplotlib.pyplot as plt\n",
    "import matplotlib as mpl\n",
    "import matplotlib.image as mpimg\n",
    "# from ipywidgets import interact\n",
    "from ipywidgets import interact_manual\n",
    "\n",
    "# import sympy as sym\n",
    "# from sympy import S,N\n",
    "# import locale\n",
    "# from sklearn.linear_model import LinearRegression\n",
    "\n",
    "# from keras.utils import np_utils #one hot encoding\n",
    "# from keras.models import Sequential #神經網路的框架keras.models\n",
    "from keras.layers import Dense, Activation\n",
    "from keras.layers import Flatten # 將資料展平\n",
    "from keras.layers import Conv2D, MaxPool2D, MaxPooling2D\n",
    "from keras.optimizers import SGD, Adadelta\n",
    "# from keras.models import model_from_json\n",
    "# from keras.datasets import mnist # mnist內 包含手寫測試資料\n",
    "\n",
    "#for Functional API\n",
    "from keras.models import Model\n",
    "from keras.layers import Input\n",
    "from keras.layers import concatenate, add\n",
    "#for Functional API transfer learning\n",
    "\n",
    "from keras.layers.core import Lambda\n",
    "from keras import backend as K\n",
    "\n",
    "# from keras.preprocessing.image import ImageDataGenerator\n",
    "# from keras.layers import Dropout\n",
    "\n",
    "# import matplotlib.image as mpimg #import image file\n",
    "# from sklearn.model_selection import train_test_split"
   ]
  },
  {
   "cell_type": "code",
   "execution_count": 4,
   "metadata": {},
   "outputs": [
    {
     "name": "stdout",
     "output_type": "stream",
     "text": [
      "_________________________________________________________________\n",
      "Layer (type)                 Output Shape              Param #   \n",
      "=================================================================\n",
      "x (InputLayer)               (None, None, None, 3)     0         \n",
      "_________________________________________________________________\n",
      "c1 (Conv2D)                  (None, None, None, 4)     1204      \n",
      "_________________________________________________________________\n",
      "m1 (MaxPooling2D)            (None, None, None, 4)     0         \n",
      "_________________________________________________________________\n",
      "c2 (Conv2D)                  (None, None, None, 8)     2056      \n",
      "_________________________________________________________________\n",
      "m2 (MaxPooling2D)            (None, None, None, 8)     0         \n",
      "_________________________________________________________________\n",
      "c4 (Conv2D)                  (None, None, None, 16)    2064      \n",
      "_________________________________________________________________\n",
      "m4 (MaxPooling2D)            (None, None, None, 16)    0         \n",
      "_________________________________________________________________\n",
      "c8 (Conv2D)                  (None, None, None, 8)     520       \n",
      "_________________________________________________________________\n",
      "m8 (MaxPooling2D)            (None, None, None, 8)     0         \n",
      "_________________________________________________________________\n",
      "y (Conv2D)                   (None, None, None, 4)     36        \n",
      "=================================================================\n",
      "Total params: 5,880\n",
      "Trainable params: 5,880\n",
      "Non-trainable params: 0\n",
      "_________________________________________________________________\n"
     ]
    }
   ],
   "source": [
    "x = Input(shape = (None, None, 3), name='x')\n",
    "z = Conv2D(4,(10, 10), padding = 'same', activation = 'relu', name='c1')(x)\n",
    "z = MaxPool2D(pool_size = (2, 2), name='m1')(z)\n",
    "z = Conv2D(8,(8, 8), padding = 'same', activation = 'relu', name='c2')(z)\n",
    "z = MaxPool2D(pool_size = (2, 2), name='m2')(z)\n",
    "# z = Conv2D(8,(2, 2), padding = 'same', activation = 'relu', name='c3')(z)\n",
    "# z = MaxPool2D(pool_size = (2, 2), name='m3')(z)\n",
    "z = Conv2D(16,(4, 4), padding = 'same', activation = 'relu', name='c4')(z)\n",
    "z = MaxPool2D(pool_size = (2, 2), name='m4')(z)\n",
    "# z = Conv2D(32,(2, 2), padding = 'same', activation = 'relu', name='c5')(z)\n",
    "# z = MaxPool2D(pool_size = (2, 2), name='m5')(z)\n",
    "# z = Conv2D(16,(2, 2), padding = 'same', activation = 'relu', name='c6')(z)\n",
    "# z = MaxPool2D(pool_size = (2, 2), name='m6')(z)\n",
    "# z = Conv2D(8,(2, 2), padding = 'same', activation = 'relu', name='c7')(z)\n",
    "# z = MaxPool2D(pool_size = (2, 2), name='m7')(z)\n",
    "z = Conv2D(8,(2, 2), padding = 'same', activation = 'relu', name='c8')(z)\n",
    "z = MaxPool2D(pool_size = (2, 2), name='m8')(z)\n",
    "y = Conv2D(4,(1, 1), padding = 'same', activation = 'softmax', name='y')(z)\n",
    "# Conv2D(..,(1, 1)..可想成是變動 input_dim 的 Dense層 \n",
    "model = Model(x, y)\n",
    "\n",
    "model.compile(loss='categorical_crossentropy', optimizer=Adadelta(), metrics=['accuracy'])\n",
    "model.summary()"
   ]
  },
  {
   "cell_type": "code",
   "execution_count": 5,
   "metadata": {},
   "outputs": [
    {
     "name": "stdout",
     "output_type": "stream",
     "text": [
      "\n",
      " [[[0.25908515 0.24692355 0.2767561  0.21723515]\n",
      "  [0.25700065 0.25039825 0.27026942 0.22233167]\n",
      "  [0.2445995  0.25383618 0.2829804  0.21858388]]\n",
      "\n",
      " [[0.28400254 0.24606533 0.30233887 0.16759321]\n",
      "  [0.2840219  0.23247199 0.3164772  0.16702881]\n",
      "  [0.21679573 0.27671152 0.34471795 0.16177475]]\n",
      "\n",
      " [[0.33335227 0.21120487 0.30114597 0.15429688]\n",
      "  [0.33326173 0.20948923 0.29842737 0.15882167]\n",
      "  [0.24167177 0.2644988  0.35306337 0.14076604]]]\n",
      "\n",
      " [[[0.2988988  0.23032184 0.27014017 0.20063916]\n",
      "  [0.297962   0.22970201 0.26923227 0.20310372]\n",
      "  [0.28010133 0.23439965 0.27446365 0.21103542]]\n",
      "\n",
      " [[0.28619185 0.23840693 0.2715595  0.20384167]\n",
      "  [0.28994507 0.23767911 0.26172915 0.21064672]\n",
      "  [0.273386   0.24802831 0.26862714 0.20995858]]\n",
      "\n",
      " [[0.2912907  0.23354284 0.28475255 0.19041395]\n",
      "  [0.2849583  0.2372537  0.28416634 0.19362174]\n",
      "  [0.25618076 0.25674593 0.2866379  0.20043536]]]\n",
      "\n",
      " [[[0.2609917  0.2568414  0.35824773 0.12391917]]]\n",
      "\n",
      " [[[0.2497941  0.27558336 0.31684974 0.15777281]]]\n",
      "\n",
      " [[[0.29539475 0.23888953 0.32486683 0.14084893]]]\n",
      "\n",
      " [[[0.24811277 0.25833613 0.38100797 0.11254322]]]\n"
     ]
    }
   ],
   "source": [
    "for idx in range(1,7):\n",
    "    img = mpimg.imread(F\"image_test/test ({idx}).png\")\n",
    "    img = img[:,:,0:3]\n",
    "    imgs = img.reshape(1,*img.shape)\n",
    "    predict = model.predict(imgs)\n",
    "    print('\\n',predict[0])\n",
    "#     print(predict.shape)"
   ]
  },
  {
   "cell_type": "code",
   "execution_count": null,
   "metadata": {},
   "outputs": [],
   "source": []
  }
 ],
 "metadata": {
  "kernelspec": {
   "display_name": "Python 3",
   "language": "python",
   "name": "python3"
  },
  "language_info": {
   "codemirror_mode": {
    "name": "ipython",
    "version": 3
   },
   "file_extension": ".py",
   "mimetype": "text/x-python",
   "name": "python",
   "nbconvert_exporter": "python",
   "pygments_lexer": "ipython3",
   "version": "3.6.8"
  }
 },
 "nbformat": 4,
 "nbformat_minor": 2
}
