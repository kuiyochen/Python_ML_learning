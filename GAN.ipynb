{
 "cells": [
  {
   "cell_type": "code",
   "execution_count": 23,
   "metadata": {},
   "outputs": [
    {
     "name": "stdout",
     "output_type": "stream",
     "text": [
      "env: KERAS_BACKEND=tensorflow\n"
     ]
    }
   ],
   "source": [
    "%matplotlib inline\n",
    "# %matplotlib widget # 跟圖互動，可以用點選圖片中的某位置觸發程式\n",
    "%env KERAS_BACKEND=tensorflow\n",
    "import numpy as np\n",
    "import pandas as pd\n",
    "import matplotlib.pyplot as plt\n",
    "import matplotlib as mpl\n",
    "# from matplotlib.widgets import Cursor, Button\n",
    "from ipywidgets import interact, IntSlider, Button\n",
    "from ipywidgets import interact_manual\n",
    "import IPython.display as ipd\n",
    "import networkx as nx # draw graph vertex & edge\n",
    "import pydub # audio\n",
    "from numpy.fft import fft, ifft # , irfft, rfft # fourier transform\n",
    "# import sympy as sym\n",
    "# from sympy import S,N\n",
    "# import locale # 資料處理 轉換數字格式\n",
    "\n",
    "# from sklearn.linear_model import LinearRegression\n",
    "# from keras.utils import np_utils #one hot encoding\n",
    "# from keras.models import Sequential #神經網路的框架keras.models\n",
    "from keras.layers import Dense, Activation, Embedding\n",
    "# from keras.layers import LSTM\n",
    "from keras.layers import Flatten # 將資料展平\n",
    "# from keras.layers import Conv2D, MaxPool2D, MaxPooling2D\n",
    "from keras.layers import Conv1D, MaxPool1D, MaxPooling1D\n",
    "from keras.optimizers import SGD, Adadelta, Adam\n",
    "from keras.models import model_from_json\n",
    "# from keras.datasets import mnist # mnist內 包含手寫測試資料\n",
    "# from keras.datasets import imdb # imdb內 包含電影評論資料\n",
    "# from keras.preprocessing import sequence # 用來同整不同長度的電影評論，多的擷掉，少的補 0\n",
    "# from keras.preprocessing.text import Tokenizer # 轉換文字成數字\n",
    "# from sklearn.model_selection import train_test_split\n",
    "\n",
    "#for Functional API\n",
    "from keras.models import Model\n",
    "from keras.layers import Input\n",
    "from keras.layers import concatenate, add\n",
    "# #for Functional API transfer learning\n",
    "from keras.layers.core import Lambda\n",
    "from keras import backend as K\n",
    "\n",
    "# from keras.preprocessing.image import ImageDataGenerator\n",
    "from keras.layers import Dropout\n",
    "\n",
    "# import matplotlib.image as mpimg #import image file"
   ]
  },
  {
   "cell_type": "code",
   "execution_count": 2,
   "metadata": {},
   "outputs": [],
   "source": [
    "# import IPython.display as ipd\n",
    "def playAudio(x, rate = 0):\n",
    "    if type(x)!=np.ndarray:\n",
    "        ipd.display(ipd.Audio(x))\n",
    "    elif rate == 0:\n",
    "        print(\"input rate!\")\n",
    "        return\n",
    "    elif len(x.shape) > 1:\n",
    "        ipd.display(ipd.Audio(x.T.astype(int), rate = rate))\n",
    "    else:\n",
    "        ipd.display(ipd.Audio(x.astype(int), rate = rate))\n",
    "\n",
    "def read(f, normalized=False):\n",
    "    \"\"\"MP3 to numpy array\"\"\"\n",
    "    a = pydub.AudioSegment.from_mp3(f)\n",
    "    y = np.array(a.get_array_of_samples())\n",
    "    if a.channels == 2:\n",
    "        y = y.reshape((-1, 2))\n",
    "    if normalized:\n",
    "        return a.frame_rate, np.float32(y) / 2**15\n",
    "    else:\n",
    "        return a.frame_rate, y\n",
    "\n",
    "def write(f, sr, x, normalized=False):\n",
    "    \"\"\"numpy array to MP3\"\"\"\n",
    "    channels = 2 if (x.ndim == 2 and x.shape[1] == 2) else 1\n",
    "    if normalized:  # normalized array - each item should be a float in [-1, 1)\n",
    "        y = np.int16(x * 2 ** 15)\n",
    "    else:\n",
    "        y = np.int16(x)\n",
    "    song = pydub.AudioSegment(y.tobytes(), frame_rate=sr, sample_width=2, channels=channels)\n",
    "    song.export(f, format=\"mp3\", bitrate=\"320k\")"
   ]
  },
  {
   "cell_type": "code",
   "execution_count": 3,
   "metadata": {},
   "outputs": [],
   "source": [
    "###################### skip ######################\n",
    "# import pydub\n",
    "# from pydub.playback import play\n",
    "# pydub.AudioSegment.converter = \"C:\\\\FFmpeg\\\\ffmpeg-20190604-d81913e-win64-static\\\\bin\\\\ffmpeg.exe\"\n",
    "\n",
    "# song = pydub.AudioSegment.from_mp3(\"jazz.mp3\")\n",
    "\n",
    "# play(song)\n",
    "# pydub.playback(song)\n",
    "###################### skip ######################"
   ]
  },
  {
   "cell_type": "code",
   "execution_count": 4,
   "metadata": {},
   "outputs": [],
   "source": [
    "# out_array = song_array[:int(len(song_array)/10)]/100\n",
    "# write('out.mp3', rate, out_array, normalized=False)"
   ]
  },
  {
   "cell_type": "code",
   "execution_count": 5,
   "metadata": {},
   "outputs": [],
   "source": [
    "# playAudio('out.mp3') # ipd.Audio('out.mp3')\n",
    "# playAudio(out_array, rate = rate) # ipd.Audio(out_array.T, rate = rate) # ipd.Audio(out_array[:,1], rate = rate)"
   ]
  },
  {
   "cell_type": "code",
   "execution_count": 6,
   "metadata": {},
   "outputs": [],
   "source": [
    "# sr = 22050 # sample rate\n",
    "# T = 2.0    # seconds\n",
    "# t = np.linspace(0, T, int(T*sr), endpoint=False) # time variable\n",
    "# x = 0.5 * np.sin(2*np.pi*440*t)\n",
    "# playAudio(x, rate=sr) # ipd.Audio(x, rate = sr)"
   ]
  },
  {
   "cell_type": "markdown",
   "metadata": {},
   "source": [
    "#### setting training data"
   ]
  },
  {
   "cell_type": "code",
   "execution_count": 7,
   "metadata": {},
   "outputs": [
    {
     "name": "stdout",
     "output_type": "stream",
     "text": [
      "frame_rate =  48000 (每秒鐘會產生 48000 長度的陣列)\n",
      "song_array = \n",
      " [[  0   0]\n",
      " [  0   0]\n",
      " [  0   0]\n",
      " ...\n",
      " [-40 -62]\n",
      " [-24 -54]\n",
      " [  1 -20]]\n",
      "song_array.shape =  (86401152, 2)\n",
      "There are 900 segements in train0.\n",
      "\n",
      "train0[87] =  [[0.49777981 0.46565957]\n",
      " [0.48760204 0.46366064]\n",
      " [0.42873274 0.4152285 ]\n",
      " ...\n",
      " [0.40015259 0.44693675]\n",
      " [0.41074235 0.47539483]\n",
      " [0.41205463 0.46970321]]\n"
     ]
    }
   ],
   "source": [
    "rate, song_array = read('jazz.mp3', normalized=False)\n",
    "print(\"frame_rate = \", rate, \"(每秒鐘會產生\", rate, \"長度的陣列)\\nsong_array = \\n\", song_array)\n",
    "print(\"song_array.shape = \", song_array.shape)\n",
    "chennel_length = 2\n",
    "segement_length_sec = 2\n",
    "segement_length = segement_length_sec * rate\n",
    "train0 = song_array[0:segement_length * (song_array.shape[0]//segement_length)].copy()\n",
    "train0 = train0.reshape(-1, segement_length, chennel_length).astype(float)\n",
    "max_value = np.max(train0.reshape(-1))\n",
    "min_value = np.min(train0.reshape(-1))\n",
    "def normalize(data, max_value, min_value):\n",
    "    data = data - min_value\n",
    "    data = data / (max_value - min_value)\n",
    "    return data\n",
    "def inverse_normalize(data, max_value, min_value):\n",
    "    data = data * (max_value - min_value)\n",
    "    data = data + min_value\n",
    "    return data\n",
    "train0 = normalize(train0, max_value, min_value)\n",
    "\n",
    "print(\"There are\", train0.shape[0], \"segements in train0.\")\n",
    "print(\"\\ntrain0[87] = \", train0[87])"
   ]
  },
  {
   "cell_type": "code",
   "execution_count": 9,
   "metadata": {},
   "outputs": [
    {
     "data": {
      "image/png": "[encoded data removed]",
      "text/plain": [
       "<Figure size 432x288 with 1 Axes>"
      ]
     },
     "metadata": {
      "needs_background": "light"
     },
     "output_type": "display_data"
    },
    {
     "data": {
      "image/png": "[encoded data removed]",
      "text/plain": [
       "<Figure size 432x288 with 1 Axes>"
      ]
     },
     "metadata": {
      "needs_background": "light"
     },
     "output_type": "display_data"
    }
   ],
   "source": [
    "aud_data = song_array[segement_length*23:segement_length*24, 0].copy()\n",
    "\n",
    "len_data = len(aud_data)\n",
    "channel_1 = np.zeros(2**(int(np.ceil(np.log2(len_data)))))\n",
    "channel_1[0:len_data] = aud_data\n",
    "fourier = fft(channel_1)\n",
    "t = np.linspace(0, segement_length_sec, len_data)\n",
    "w = np.linspace(0, rate, len(fourier)//2)\n",
    "fourier_to_plot = fourier[0:len(fourier)//2].real\n",
    "\n",
    "plt.figure(1)\n",
    "plt.plot(t, aud_data, label='aud_data')\n",
    "plt.xlabel('time')\n",
    "plt.ylabel('wave')\n",
    "plt.figure(2)\n",
    "plt.plot(w, fourier_to_plot, label='fourier_to_plot')\n",
    "plt.xlabel('frequency')\n",
    "plt.ylabel('amplitude')\n",
    "plt.show()"
   ]
  },
  {
   "cell_type": "markdown",
   "metadata": {},
   "source": [
    "#### modeling"
   ]
  },
  {
   "cell_type": "code",
   "execution_count": 8,
   "metadata": {},
   "outputs": [
    {
     "name": "stdout",
     "output_type": "stream",
     "text": [
      "WARNING:tensorflow:From c:\\users\\奎佑\\appdata\\local\\programs\\python\\python36\\lib\\site-packages\\tensorflow\\python\\framework\\op_def_library.py:263: colocate_with (from tensorflow.python.framework.ops) is deprecated and will be removed in a future version.\n",
      "Instructions for updating:\n",
      "Colocations handled automatically by placer.\n"
     ]
    }
   ],
   "source": [
    "rate = 48000\n",
    "chennel_length = 2\n",
    "segement_length_sec = 2\n",
    "segement_length = segement_length_sec * rate\n",
    "\n",
    "\n",
    "x = Input(shape = (3,), name='generator_x')\n",
    "# z = concatenate([x, z], name='concatenate1')\n",
    "# z = Flatten()(z)\n",
    "z = Dense(segement_length * chennel_length //10000, activation='selu', name='generator_d1')(x)\n",
    "z = Dense(segement_length * chennel_length //100, activation='selu', name='generator_d2')(z)\n",
    "fake = Dense(segement_length * chennel_length, activation='softmax', name='generator_fake')(z)"
   ]
  },
  {
   "cell_type": "code",
   "execution_count": 9,
   "metadata": {},
   "outputs": [
    {
     "name": "stdout",
     "output_type": "stream",
     "text": [
      "_________________________________________________________________\n",
      "Layer (type)                 Output Shape              Param #   \n",
      "=================================================================\n",
      "generator_x (InputLayer)     (None, 3)                 0         \n",
      "_________________________________________________________________\n",
      "generator_d1 (Dense)         (None, 19)                76        \n",
      "_________________________________________________________________\n",
      "generator_d2 (Dense)         (None, 1920)              38400     \n",
      "_________________________________________________________________\n",
      "generator_fake (Dense)       (None, 192000)            368832000 \n",
      "=================================================================\n",
      "Total params: 368,870,476\n",
      "Trainable params: 368,870,476\n",
      "Non-trainable params: 0\n",
      "_________________________________________________________________\n"
     ]
    }
   ],
   "source": [
    "generator = Model(x, fake)\n",
    "generator.summary()"
   ]
  },
  {
   "cell_type": "code",
   "execution_count": 10,
   "metadata": {},
   "outputs": [],
   "source": [
    "data_input = Input(shape = (segement_length, chennel_length), name='discriminator_data_input')\n",
    "z = Conv1D(4, rate//1000, padding = 'same', activation = 'selu', name='discriminator_c1')(data_input)\n",
    "z = Conv1D(8, rate//1000, padding = 'same', activation = 'selu', name='discriminator_c2')(z)\n",
    "z = Conv1D(16, rate//1000, padding = 'same', activation = 'selu', name='discriminator_c3')(z)\n",
    "z = MaxPool1D(pool_size = rate//100, padding = 'same', name='discriminator_p1')(z)\n",
    "z = Conv1D(4, rate//1000, padding = 'same', activation = 'selu', name='discriminator_c4')(z)\n",
    "z = MaxPool1D(pool_size = rate//10000, padding = 'same', name='discriminator_p2')(z)\n",
    "z = Conv1D(8, rate//1000, padding = 'same', activation = 'selu', name='discriminator_c5')(z)\n",
    "z = MaxPool1D(pool_size = rate//10000, padding = 'same', name='discriminator_p3')(z)\n",
    "z = Conv1D(4, rate//1000, padding = 'same', activation = 'selu', name='discriminator_c6')(z)\n",
    "z = MaxPool1D(pool_size = rate//10000, padding = 'same', name='discriminator_p4')(z)\n",
    "z = Flatten()(z)\n",
    "solution = Dense(1, activation='softmax', name='discriminator_fake')(z)"
   ]
  },
  {
   "cell_type": "code",
   "execution_count": 11,
   "metadata": {},
   "outputs": [
    {
     "name": "stdout",
     "output_type": "stream",
     "text": [
      "_________________________________________________________________\n",
      "Layer (type)                 Output Shape              Param #   \n",
      "=================================================================\n",
      "discriminator_data_input (In (None, 96000, 2)          0         \n",
      "_________________________________________________________________\n",
      "discriminator_c1 (Conv1D)    (None, 96000, 4)          388       \n",
      "_________________________________________________________________\n",
      "discriminator_c2 (Conv1D)    (None, 96000, 8)          1544      \n",
      "_________________________________________________________________\n",
      "discriminator_c3 (Conv1D)    (None, 96000, 16)         6160      \n",
      "_________________________________________________________________\n",
      "discriminator_p1 (MaxPooling (None, 200, 16)           0         \n",
      "_________________________________________________________________\n",
      "discriminator_c4 (Conv1D)    (None, 200, 4)            3076      \n",
      "_________________________________________________________________\n",
      "discriminator_p2 (MaxPooling (None, 50, 4)             0         \n",
      "_________________________________________________________________\n",
      "discriminator_c5 (Conv1D)    (None, 50, 8)             1544      \n",
      "_________________________________________________________________\n",
      "discriminator_p3 (MaxPooling (None, 13, 8)             0         \n",
      "_________________________________________________________________\n",
      "discriminator_c6 (Conv1D)    (None, 13, 4)             1540      \n",
      "_________________________________________________________________\n",
      "discriminator_p4 (MaxPooling (None, 4, 4)              0         \n",
      "_________________________________________________________________\n",
      "flatten_1 (Flatten)          (None, 16)                0         \n",
      "_________________________________________________________________\n",
      "discriminator_fake (Dense)   (None, 1)                 17        \n",
      "=================================================================\n",
      "Total params: 14,269\n",
      "Trainable params: 14,269\n",
      "Non-trainable params: 0\n",
      "_________________________________________________________________\n"
     ]
    }
   ],
   "source": [
    "discriminator = Model(data_input, solution)\n",
    "discriminator.summary()"
   ]
  },
  {
   "cell_type": "code",
   "execution_count": 12,
   "metadata": {},
   "outputs": [],
   "source": [
    "def sampling(mean = 0, std = 1, batch = 1, dim = 3):\n",
    "    return (np.random.normal(size = dim * batch) * std + mean).reshape(batch, dim)"
   ]
  },
  {
   "cell_type": "code",
   "execution_count": 24,
   "metadata": {},
   "outputs": [],
   "source": [
    "# generator.compile(loss='categorical_crossentropy', optimizer=Adam(), metrics=['accuracy'])\n",
    "discriminator.compile(loss='categorical_crossentropy', optimizer=Adam(), metrics=['accuracy'])"
   ]
  },
  {
   "cell_type": "code",
   "execution_count": 20,
   "metadata": {},
   "outputs": [],
   "source": [
    "batch = 1\n",
    "samples = sampling(mean = 0, std = 10, batch = batch)\n",
    "predicts = generator.predict(samples)\n",
    "# play_predicts = inverse_normalize(predicts.reshape(-1, chennel_length), max_value, min_value)\n",
    "# playAudio(play_predicts, rate = rate)"
   ]
  },
  {
   "cell_type": "code",
   "execution_count": 25,
   "metadata": {},
   "outputs": [
    {
     "ename": "ValueError",
     "evalue": "You are passing a target array of shape (2, 1) while using as loss `categorical_crossentropy`. `categorical_crossentropy` expects targets to be binary matrices (1s and 0s) of shape (samples, classes). If your targets are integer classes, you can convert them to the expected format via:\n```\nfrom keras.utils import to_categorical\ny_binary = to_categorical(y_int)\n```\n\nAlternatively, you can use the loss function `sparse_categorical_crossentropy` instead, which does expect integer targets.",
     "output_type": "error",
     "traceback": [
      "\u001b[1;31m---------------------------------------------------------------------------\u001b[0m",
      "\u001b[1;31mValueError\u001b[0m                                Traceback (most recent call last)",
      "\u001b[1;32m<ipython-input-25-7e3eebba17f1>\u001b[0m in \u001b[0;36m<module>\u001b[1;34m\u001b[0m\n\u001b[0;32m      3\u001b[0m \u001b[0mx_train\u001b[0m\u001b[1;33m[\u001b[0m\u001b[0mbatch\u001b[0m\u001b[1;33m:\u001b[0m\u001b[1;33m]\u001b[0m \u001b[1;33m=\u001b[0m \u001b[0mpredicts\u001b[0m\u001b[1;33m.\u001b[0m\u001b[0mreshape\u001b[0m\u001b[1;33m(\u001b[0m\u001b[1;33m-\u001b[0m\u001b[1;36m1\u001b[0m\u001b[1;33m,\u001b[0m\u001b[1;36m2\u001b[0m\u001b[1;33m)\u001b[0m\u001b[1;33m.\u001b[0m\u001b[0mcopy\u001b[0m\u001b[1;33m(\u001b[0m\u001b[1;33m)\u001b[0m\u001b[1;33m\u001b[0m\u001b[1;33m\u001b[0m\u001b[0m\n\u001b[0;32m      4\u001b[0m \u001b[0my_train\u001b[0m \u001b[1;33m=\u001b[0m \u001b[1;33m[\u001b[0m\u001b[1;36m1\u001b[0m\u001b[1;33m]\u001b[0m \u001b[1;33m*\u001b[0m \u001b[0mbatch\u001b[0m \u001b[1;33m+\u001b[0m \u001b[1;33m[\u001b[0m\u001b[1;36m0\u001b[0m\u001b[1;33m]\u001b[0m \u001b[1;33m*\u001b[0m \u001b[0mbatch\u001b[0m\u001b[1;33m\u001b[0m\u001b[1;33m\u001b[0m\u001b[0m\n\u001b[1;32m----> 5\u001b[1;33m \u001b[0mdiscriminator\u001b[0m\u001b[1;33m.\u001b[0m\u001b[0mfit\u001b[0m\u001b[1;33m(\u001b[0m\u001b[0mx_train\u001b[0m\u001b[1;33m,\u001b[0m \u001b[0my_train\u001b[0m\u001b[1;33m,\u001b[0m \u001b[0mbatch_size\u001b[0m\u001b[1;33m=\u001b[0m\u001b[1;36m1\u001b[0m\u001b[1;33m,\u001b[0m \u001b[0mshuffle\u001b[0m\u001b[1;33m=\u001b[0m\u001b[1;32mTrue\u001b[0m\u001b[1;33m,\u001b[0m \u001b[0mepochs\u001b[0m\u001b[1;33m=\u001b[0m\u001b[1;36m1\u001b[0m\u001b[1;33m)\u001b[0m\u001b[1;33m\u001b[0m\u001b[1;33m\u001b[0m\u001b[0m\n\u001b[0m",
      "\u001b[1;32mc:\\users\\奎佑\\appdata\\local\\programs\\python\\python36\\lib\\site-packages\\keras\\engine\\training.py\u001b[0m in \u001b[0;36mfit\u001b[1;34m(self, x, y, batch_size, epochs, verbose, callbacks, validation_split, validation_data, shuffle, class_weight, sample_weight, initial_epoch, steps_per_epoch, validation_steps, **kwargs)\u001b[0m\n\u001b[0;32m    950\u001b[0m             \u001b[0msample_weight\u001b[0m\u001b[1;33m=\u001b[0m\u001b[0msample_weight\u001b[0m\u001b[1;33m,\u001b[0m\u001b[1;33m\u001b[0m\u001b[1;33m\u001b[0m\u001b[0m\n\u001b[0;32m    951\u001b[0m             \u001b[0mclass_weight\u001b[0m\u001b[1;33m=\u001b[0m\u001b[0mclass_weight\u001b[0m\u001b[1;33m,\u001b[0m\u001b[1;33m\u001b[0m\u001b[1;33m\u001b[0m\u001b[0m\n\u001b[1;32m--> 952\u001b[1;33m             batch_size=batch_size)\n\u001b[0m\u001b[0;32m    953\u001b[0m         \u001b[1;31m# Prepare validation data.\u001b[0m\u001b[1;33m\u001b[0m\u001b[1;33m\u001b[0m\u001b[1;33m\u001b[0m\u001b[0m\n\u001b[0;32m    954\u001b[0m         \u001b[0mdo_validation\u001b[0m \u001b[1;33m=\u001b[0m \u001b[1;32mFalse\u001b[0m\u001b[1;33m\u001b[0m\u001b[1;33m\u001b[0m\u001b[0m\n",
      "\u001b[1;32mc:\\users\\奎佑\\appdata\\local\\programs\\python\\python36\\lib\\site-packages\\keras\\engine\\training.py\u001b[0m in \u001b[0;36m_standardize_user_data\u001b[1;34m(self, x, y, sample_weight, class_weight, check_array_lengths, batch_size)\u001b[0m\n\u001b[0;32m    807\u001b[0m                 \u001b[1;31m# using improper loss fns.\u001b[0m\u001b[1;33m\u001b[0m\u001b[1;33m\u001b[0m\u001b[1;33m\u001b[0m\u001b[0m\n\u001b[0;32m    808\u001b[0m                 check_loss_and_target_compatibility(\n\u001b[1;32m--> 809\u001b[1;33m                     y, self._feed_loss_fns, feed_output_shapes)\n\u001b[0m\u001b[0;32m    810\u001b[0m         \u001b[1;32melse\u001b[0m\u001b[1;33m:\u001b[0m\u001b[1;33m\u001b[0m\u001b[1;33m\u001b[0m\u001b[0m\n\u001b[0;32m    811\u001b[0m             \u001b[0my\u001b[0m \u001b[1;33m=\u001b[0m \u001b[1;33m[\u001b[0m\u001b[1;33m]\u001b[0m\u001b[1;33m\u001b[0m\u001b[1;33m\u001b[0m\u001b[0m\n",
      "\u001b[1;32mc:\\users\\奎佑\\appdata\\local\\programs\\python\\python36\\lib\\site-packages\\keras\\engine\\training_utils.py\u001b[0m in \u001b[0;36mcheck_loss_and_target_compatibility\u001b[1;34m(targets, loss_fns, output_shapes)\u001b[0m\n\u001b[0;32m    271\u001b[0m                 raise ValueError(\n\u001b[0;32m    272\u001b[0m                     \u001b[1;34m'You are passing a target array of shape '\u001b[0m \u001b[1;33m+\u001b[0m \u001b[0mstr\u001b[0m\u001b[1;33m(\u001b[0m\u001b[0my\u001b[0m\u001b[1;33m.\u001b[0m\u001b[0mshape\u001b[0m\u001b[1;33m)\u001b[0m \u001b[1;33m+\u001b[0m\u001b[1;33m\u001b[0m\u001b[1;33m\u001b[0m\u001b[0m\n\u001b[1;32m--> 273\u001b[1;33m                     \u001b[1;34m' while using as loss `categorical_crossentropy`. '\u001b[0m\u001b[1;33m\u001b[0m\u001b[1;33m\u001b[0m\u001b[0m\n\u001b[0m\u001b[0;32m    274\u001b[0m                     \u001b[1;34m'`categorical_crossentropy` expects '\u001b[0m\u001b[1;33m\u001b[0m\u001b[1;33m\u001b[0m\u001b[0m\n\u001b[0;32m    275\u001b[0m                     \u001b[1;34m'targets to be binary matrices (1s and 0s) '\u001b[0m\u001b[1;33m\u001b[0m\u001b[1;33m\u001b[0m\u001b[0m\n",
      "\u001b[1;31mValueError\u001b[0m: You are passing a target array of shape (2, 1) while using as loss `categorical_crossentropy`. `categorical_crossentropy` expects targets to be binary matrices (1s and 0s) of shape (samples, classes). If your targets are integer classes, you can convert them to the expected format via:\n```\nfrom keras.utils import to_categorical\ny_binary = to_categorical(y_int)\n```\n\nAlternatively, you can use the loss function `sparse_categorical_crossentropy` instead, which does expect integer targets."
     ]
    }
   ],
   "source": [
    "x_train = np.zeros((batch * 2, segement_length, chennel_length))\n",
    "x_train[0:batch] = train0[0:batch].copy()\n",
    "x_train[batch:] = predicts.reshape(-1,2).copy()\n",
    "y_train = [1] * batch + [0] * batch\n",
    "discriminator.fit(x_train, y_train, batch_size=1, shuffle=True, epochs=1)"
   ]
  },
  {
   "cell_type": "code",
   "execution_count": null,
   "metadata": {},
   "outputs": [],
   "source": []
  }
 ],
 "metadata": {
  "kernelspec": {
   "display_name": "Python 3",
   "language": "python",
   "name": "python3"
  },
  "language_info": {
   "codemirror_mode": {
    "name": "ipython",
    "version": 3
   },
   "file_extension": ".py",
   "mimetype": "text/x-python",
   "name": "python",
   "nbconvert_exporter": "python",
   "pygments_lexer": "ipython3",
   "version": "3.6.8"
  }
 },
 "nbformat": 4,
 "nbformat_minor": 2
}
