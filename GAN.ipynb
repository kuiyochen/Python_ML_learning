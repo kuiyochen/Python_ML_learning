{
 "cells": [
  {
   "cell_type": "code",
   "execution_count": 14,
   "metadata": {},
   "outputs": [
    {
     "name": "stdout",
     "output_type": "stream",
     "text": [
      "env: KERAS_BACKEND=tensorflow\n"
     ]
    }
   ],
   "source": [
    "%matplotlib inline\n",
    "# %matplotlib widget # 跟圖互動，可以用點選圖片中的某位置觸發程式\n",
    "%env KERAS_BACKEND=tensorflow\n",
    "import numpy as np\n",
    "import pandas as pd\n",
    "import matplotlib.pyplot as plt\n",
    "import matplotlib as mpl\n",
    "from random import shuffle\n",
    "# from matplotlib.widgets import Cursor, Button\n",
    "from ipywidgets import interact, IntSlider, Button\n",
    "from ipywidgets import interact_manual\n",
    "import IPython.display as ipd\n",
    "import networkx as nx # draw graph vertex & edge\n",
    "import pydub # audio\n",
    "from numpy.fft import fft, ifft # , irfft, rfft # fourier transform\n",
    "# import sympy as sym\n",
    "# from sympy import S,N\n",
    "# import locale # 資料處理 轉換數字格式\n",
    "\n",
    "# from sklearn.linear_model import LinearRegression\n",
    "# from keras.utils import np_utils #one hot encoding\n",
    "# from keras.models import Sequential #神經網路的框架keras.models\n",
    "from keras.layers import Dense, Activation, Embedding\n",
    "# from keras.layers import LSTM\n",
    "from keras.layers import Flatten # 將資料展平\n",
    "# from keras.layers import Conv2D, MaxPool2D, MaxPooling2D\n",
    "from keras.layers import Conv1D, MaxPool1D, MaxPooling1D\n",
    "from keras.optimizers import SGD, Adadelta, Adam\n",
    "from keras.models import model_from_json\n",
    "# from keras.datasets import mnist # mnist內 包含手寫測試資料\n",
    "# from keras.datasets import imdb # imdb內 包含電影評論資料\n",
    "# from keras.preprocessing import sequence # 用來同整不同長度的電影評論，多的擷掉，少的補 0\n",
    "# from keras.preprocessing.text import Tokenizer # 轉換文字成數字\n",
    "# from sklearn.model_selection import train_test_split\n",
    "\n",
    "#for Functional API\n",
    "from keras.models import Model\n",
    "from keras.layers import Input\n",
    "from keras.layers import concatenate, add\n",
    "from keras.layers import Reshape\n",
    "# #for Functional API transfer learning\n",
    "from keras.layers.core import Lambda\n",
    "from keras import backend as K\n",
    "from keras import metrics\n",
    "\n",
    "# from keras.preprocessing.image import ImageDataGenerator\n",
    "from keras.layers import Dropout\n",
    "\n",
    "# import matplotlib.image as mpimg #import image file"
   ]
  },
  {
   "cell_type": "code",
   "execution_count": 2,
   "metadata": {},
   "outputs": [],
   "source": [
    "# import IPython.display as ipd\n",
    "def playAudio(x, rate = 0):\n",
    "    if type(x)!=np.ndarray:\n",
    "        ipd.display(ipd.Audio(x))\n",
    "    elif rate == 0:\n",
    "        print(\"input rate!\")\n",
    "        return\n",
    "    elif len(x.shape) > 1:\n",
    "        ipd.display(ipd.Audio(x.T.astype(int), rate = rate))\n",
    "    else:\n",
    "        ipd.display(ipd.Audio(x.astype(int), rate = rate))\n",
    "\n",
    "def read(f, normalized=False):\n",
    "    \"\"\"MP3 to numpy array\"\"\"\n",
    "    a = pydub.AudioSegment.from_mp3(f)\n",
    "    y = np.array(a.get_array_of_samples())\n",
    "    if a.channels == 2:\n",
    "        y = y.reshape((-1, 2))\n",
    "    if normalized:\n",
    "        return a.frame_rate, np.float32(y) / 2**15\n",
    "    else:\n",
    "        return a.frame_rate, y\n",
    "\n",
    "def write(f, sr, x, normalized=False):\n",
    "    \"\"\"numpy array to MP3\"\"\"\n",
    "    channels = 2 if (x.ndim == 2 and x.shape[1] == 2) else 1\n",
    "    if normalized:  # normalized array - each item should be a float in [-1, 1)\n",
    "        y = np.int16(x * 2 ** 15)\n",
    "    else:\n",
    "        y = np.int16(x)\n",
    "    song = pydub.AudioSegment(y.tobytes(), frame_rate=sr, sample_width=2, channels=channels)\n",
    "    song.export(f, format=\"mp3\", bitrate=\"320k\")"
   ]
  },
  {
   "cell_type": "code",
   "execution_count": 3,
   "metadata": {},
   "outputs": [],
   "source": [
    "###################### skip ######################\n",
    "# import pydub\n",
    "# from pydub.playback import play\n",
    "# pydub.AudioSegment.converter = \"C:\\\\FFmpeg\\\\ffmpeg-20190604-d81913e-win64-static\\\\bin\\\\ffmpeg.exe\"\n",
    "\n",
    "# song = pydub.AudioSegment.from_mp3(\"jazz.mp3\")\n",
    "\n",
    "# play(song)\n",
    "# pydub.playback(song)\n",
    "###################### skip ######################"
   ]
  },
  {
   "cell_type": "code",
   "execution_count": 4,
   "metadata": {},
   "outputs": [],
   "source": [
    "# out_array = song_array[:int(len(song_array)/10)]/100\n",
    "# write('out.mp3', rate, out_array, normalized=False)"
   ]
  },
  {
   "cell_type": "code",
   "execution_count": 5,
   "metadata": {},
   "outputs": [],
   "source": [
    "# playAudio('out.mp3') # ipd.Audio('out.mp3')\n",
    "# playAudio(out_array, rate = rate) # ipd.Audio(out_array.T, rate = rate) # ipd.Audio(out_array[:,1], rate = rate)"
   ]
  },
  {
   "cell_type": "code",
   "execution_count": 6,
   "metadata": {},
   "outputs": [],
   "source": [
    "# sr = 22050 # sample rate\n",
    "# T = 2.0    # seconds\n",
    "# t = np.linspace(0, T, int(T*sr), endpoint=False) # time variable\n",
    "# x = 0.5 * np.sin(2*np.pi*440*t)\n",
    "# playAudio(x, rate=sr) # ipd.Audio(x, rate = sr)"
   ]
  },
  {
   "cell_type": "markdown",
   "metadata": {},
   "source": [
    "#### setting training data"
   ]
  },
  {
   "cell_type": "code",
   "execution_count": 3,
   "metadata": {},
   "outputs": [
    {
     "name": "stdout",
     "output_type": "stream",
     "text": [
      "frame_rate =  48000 (每秒鐘會產生 48000 長度的陣列)\n",
      "song_array = \n",
      " [[  0   0]\n",
      " [  0   0]\n",
      " [  0   0]\n",
      " ...\n",
      " [-40 -62]\n",
      " [-24 -54]\n",
      " [  1 -20]]\n",
      "song_array.shape =  (86401152, 2)\n",
      "There are 900 segements in train0.\n",
      "\n",
      "train0[87] =  [[0.49777981 0.46565957]\n",
      " [0.48760204 0.46366064]\n",
      " [0.42873274 0.4152285 ]\n",
      " ...\n",
      " [0.40015259 0.44693675]\n",
      " [0.41074235 0.47539483]\n",
      " [0.41205463 0.46970321]]\n"
     ]
    }
   ],
   "source": [
    "rate, song_array = read('jazz.mp3', normalized=False)\n",
    "print(\"frame_rate = \", rate, \"(每秒鐘會產生\", rate, \"長度的陣列)\\nsong_array = \\n\", song_array)\n",
    "print(\"song_array.shape = \", song_array.shape)\n",
    "chennel_length = 2\n",
    "segement_length_sec = 2\n",
    "segement_length = segement_length_sec * rate\n",
    "train0 = song_array[0:segement_length * (song_array.shape[0]//segement_length)].copy()\n",
    "train0 = train0.reshape(-1, segement_length, chennel_length).astype(float)\n",
    "max_value = np.max(train0.reshape(-1))\n",
    "min_value = np.min(train0.reshape(-1))\n",
    "def normalize(data, max_value, min_value):\n",
    "    data = data - min_value\n",
    "    data = data / (max_value - min_value)\n",
    "    return data\n",
    "def inverse_normalize(data, max_value, min_value):\n",
    "    data = data * (max_value - min_value)\n",
    "    data = data + min_value\n",
    "    return data\n",
    "train0 = normalize(train0, max_value, min_value)\n",
    "\n",
    "print(\"There are\", train0.shape[0], \"segements in train0.\")\n",
    "print(\"\\ntrain0[87] = \", train0[87])"
   ]
  },
  {
   "cell_type": "markdown",
   "metadata": {},
   "source": [
    "#### Show data"
   ]
  },
  {
   "cell_type": "code",
   "execution_count": 4,
   "metadata": {},
   "outputs": [
    {
     "data": {
      "image/png": "[encoded data removed]",
      "text/plain": [
       "<Figure size 432x288 with 1 Axes>"
      ]
     },
     "metadata": {
      "needs_background": "light"
     },
     "output_type": "display_data"
    },
    {
     "data": {
      "image/png": "[encoded data removed]",
      "text/plain": [
       "<Figure size 432x288 with 1 Axes>"
      ]
     },
     "metadata": {
      "needs_background": "light"
     },
     "output_type": "display_data"
    }
   ],
   "source": [
    "aud_data = song_array[segement_length*23:segement_length*24, 0].copy()\n",
    "\n",
    "len_data = len(aud_data)\n",
    "channel_1 = np.zeros(2**(int(np.ceil(np.log2(len_data)))))\n",
    "channel_1[0:len_data] = aud_data\n",
    "fourier = fft(channel_1)\n",
    "t = np.linspace(0, segement_length_sec, len_data)\n",
    "w = np.linspace(0, rate, len(fourier)//2)\n",
    "fourier_to_plot = fourier[0:len(fourier)//2].real\n",
    "\n",
    "plt.figure(1)\n",
    "plt.plot(t, aud_data, label='aud_data')\n",
    "plt.xlabel('time')\n",
    "plt.ylabel('wave')\n",
    "plt.figure(2)\n",
    "plt.plot(w, fourier_to_plot, label='fourier_to_plot')\n",
    "plt.xlabel('frequency')\n",
    "plt.ylabel('amplitude')\n",
    "plt.show()"
   ]
  },
  {
   "cell_type": "markdown",
   "metadata": {},
   "source": [
    "#### modeling"
   ]
  },
  {
   "cell_type": "code",
   "execution_count": 22,
   "metadata": {},
   "outputs": [
    {
     "name": "stdout",
     "output_type": "stream",
     "text": [
      "_________________________________________________________________\n",
      "Layer (type)                 Output Shape              Param #   \n",
      "=================================================================\n",
      "generator_x (InputLayer)     (None, 10)                0         \n",
      "_________________________________________________________________\n",
      "generator_d1 (Dense)         (None, 10)                110       \n",
      "_________________________________________________________________\n",
      "generator_d2 (Dense)         (None, 10)                110       \n",
      "_________________________________________________________________\n",
      "generator_d3 (Dense)         (None, 10)                110       \n",
      "_________________________________________________________________\n",
      "generator_d7 (Dense)         (None, 192000)            2112000   \n",
      "_________________________________________________________________\n",
      "generator_fake (Reshape)     (None, 96000, 2)          0         \n",
      "=================================================================\n",
      "Total params: 2,112,330\n",
      "Trainable params: 2,112,330\n",
      "Non-trainable params: 0\n",
      "_________________________________________________________________\n",
      "None\n",
      "_________________________________________________________________\n",
      "Layer (type)                 Output Shape              Param #   \n",
      "=================================================================\n",
      "discriminator_data_input (In (None, 96000, 2)          0         \n",
      "_________________________________________________________________\n",
      "discriminator_c1 (Conv1D)    (None, 96000, 4)          388       \n",
      "_________________________________________________________________\n",
      "discriminator_c2 (Conv1D)    (None, 96000, 8)          1544      \n",
      "_________________________________________________________________\n",
      "discriminator_c3 (Conv1D)    (None, 96000, 16)         6160      \n",
      "_________________________________________________________________\n",
      "discriminator_p1 (MaxPooling (None, 200, 16)           0         \n",
      "_________________________________________________________________\n",
      "discriminator_c4 (Conv1D)    (None, 200, 4)            3076      \n",
      "_________________________________________________________________\n",
      "discriminator_p2 (MaxPooling (None, 50, 4)             0         \n",
      "_________________________________________________________________\n",
      "discriminator_c5 (Conv1D)    (None, 50, 8)             1544      \n",
      "_________________________________________________________________\n",
      "discriminator_p3 (MaxPooling (None, 13, 8)             0         \n",
      "_________________________________________________________________\n",
      "discriminator_c6 (Conv1D)    (None, 13, 4)             1540      \n",
      "_________________________________________________________________\n",
      "discriminator_p4 (MaxPooling (None, 4, 4)              0         \n",
      "_________________________________________________________________\n",
      "discriminator_f1 (Flatten)   (None, 16)                0         \n",
      "_________________________________________________________________\n",
      "discriminator_solution (Dens (None, 2)                 34        \n",
      "=================================================================\n",
      "Total params: 14,286\n",
      "Trainable params: 14,286\n",
      "Non-trainable params: 0\n",
      "_________________________________________________________________\n",
      "None\n",
      "_________________________________________________________________\n",
      "Layer (type)                 Output Shape              Param #   \n",
      "=================================================================\n",
      "combined_input (InputLayer)  (None, 10)                0         \n",
      "_________________________________________________________________\n",
      "generator (Model)            (None, 96000, 2)          2112330   \n",
      "_________________________________________________________________\n",
      "discriminator (Model)        (None, 2)                 14286     \n",
      "=================================================================\n",
      "Total params: 2,126,616\n",
      "Trainable params: 2,112,330\n",
      "Non-trainable params: 14,286\n",
      "_________________________________________________________________\n",
      "None\n"
     ]
    }
   ],
   "source": [
    "# rate = 48000\n",
    "chennel_length = 2\n",
    "segement_length_sec = 2\n",
    "segement_length = segement_length_sec * rate\n",
    "input_dim = 10\n",
    "\n",
    "x = Input(shape = (input_dim,), name='generator_x')\n",
    "z = Dense(input_dim, activation='selu', name='generator_d1')(x)\n",
    "z = Dense(input_dim, activation='selu', name='generator_d2')(z)\n",
    "z = Dense(input_dim, activation='selu', name='generator_d3')(z)\n",
    "# z = Dense(input_dim, activation='selu', name='generator_d4')(z)\n",
    "# z = Dense(segement_length * chennel_length //10000, activation='selu', name='generator_d5')(z)\n",
    "# z = Dense(segement_length * chennel_length //100, activation='selu', name='generator_d6')(z)\n",
    "z = Dense(segement_length * chennel_length, activation='softmax', name='generator_d7')(z)\n",
    "fake = Reshape((-1, chennel_length), name='generator_fake')(z)\n",
    "generator = Model(x, fake, name='generator')\n",
    "print(generator.summary())\n",
    "\n",
    "data_input = Input(shape = (segement_length, chennel_length), name='discriminator_data_input')\n",
    "z = Conv1D(4, rate//1000, padding = 'same', activation = 'selu', name='discriminator_c1')(data_input)\n",
    "z = Conv1D(8, rate//1000, padding = 'same', activation = 'selu', name='discriminator_c2')(z)\n",
    "z = Conv1D(16, rate//1000, padding = 'same', activation = 'selu', name='discriminator_c3')(z)\n",
    "z = MaxPool1D(pool_size = rate//100, padding = 'same', name='discriminator_p1')(z)\n",
    "z = Conv1D(4, rate//1000, padding = 'same', activation = 'selu', name='discriminator_c4')(z)\n",
    "z = MaxPool1D(pool_size = rate//10000, padding = 'same', name='discriminator_p2')(z)\n",
    "z = Conv1D(8, rate//1000, padding = 'same', activation = 'selu', name='discriminator_c5')(z)\n",
    "z = MaxPool1D(pool_size = rate//10000, padding = 'same', name='discriminator_p3')(z)\n",
    "z = Conv1D(4, rate//1000, padding = 'same', activation = 'selu', name='discriminator_c6')(z)\n",
    "z = MaxPool1D(pool_size = rate//10000, padding = 'same', name='discriminator_p4')(z)\n",
    "z = Flatten(name='discriminator_f1')(z)\n",
    "solution = Dense(2, activation='softmax', name='discriminator_solution')(z)\n",
    "discriminator = Model(data_input, solution, name='discriminator')\n",
    "discriminator.compile(loss='categorical_crossentropy', optimizer=Adam(), metrics=['accuracy'])\n",
    "print(discriminator.summary())\n",
    "\n",
    "combined_input = Input(shape=(input_dim,), name='combined_input')\n",
    "z = generator(combined_input)\n",
    "discriminator.trainable = False\n",
    "val = discriminator(z)\n",
    "combined = Model(combined_input, val, name='combined')\n",
    "combined.compile(loss='categorical_crossentropy', optimizer=Adam(), metrics=['accuracy'])\n",
    "print(combined.summary())"
   ]
  },
  {
   "cell_type": "code",
   "execution_count": null,
   "metadata": {},
   "outputs": [],
   "source": [
    "generator = model_from_json(open('json_h5/GAN_generator.json').read())\n",
    "discriminator = model_from_json(open('json_h5/GAN_discriminator.json').read())\n",
    "combined = model_from_json(open('json_h5/GAN_combined.json').read())\n",
    "\n",
    "generator.load_weights('json_h5/GAN_generator.h5')\n",
    "discriminator.load_weights('json_h5/GAN_discriminator.h5')\n",
    "\n",
    "generator.compile(loss='categorical_crossentropy', optimizer=Adam(), metrics=['accuracy'])\n",
    "discriminator.compile(loss='categorical_crossentropy', optimizer=Adam(), metrics=['accuracy'])\n",
    "combined.compile(loss='categorical_crossentropy', optimizer=Adam(), metrics=['accuracy'])"
   ]
  },
  {
   "cell_type": "code",
   "execution_count": 24,
   "metadata": {},
   "outputs": [
    {
     "name": "stdout",
     "output_type": "stream",
     "text": [
      "__________________________________________________________________________________________________\n",
      "Layer (type)                    Output Shape         Param #     Connected to                     \n",
      "==================================================================================================\n",
      "VAE_input (InputLayer)          (None, 96000, 2)     0                                            \n",
      "__________________________________________________________________________________________________\n",
      "encoder_c1 (Conv1D)             (None, 96000, 4)     388         VAE_input[0][0]                  \n",
      "__________________________________________________________________________________________________\n",
      "encoder_c2 (Conv1D)             (None, 96000, 8)     1544        encoder_c1[0][0]                 \n",
      "__________________________________________________________________________________________________\n",
      "encoder_c3 (Conv1D)             (None, 96000, 16)    6160        encoder_c2[0][0]                 \n",
      "__________________________________________________________________________________________________\n",
      "encoder_p1 (MaxPooling1D)       (None, 200, 16)      0           encoder_c3[0][0]                 \n",
      "__________________________________________________________________________________________________\n",
      "encoder_f1 (Flatten)            (None, 3200)         0           encoder_p1[0][0]                 \n",
      "__________________________________________________________________________________________________\n",
      "encoder_d1 (Dense)              (None, 10)           32010       encoder_f1[0][0]                 \n",
      "__________________________________________________________________________________________________\n",
      "encoder_d2 (Dense)              (None, 10)           110         encoder_d1[0][0]                 \n",
      "__________________________________________________________________________________________________\n",
      "encoder_mean (Dense)            (None, 10)           110         encoder_d2[0][0]                 \n",
      "__________________________________________________________________________________________________\n",
      "encoder_log_var (Dense)         (None, 10)           110         encoder_d2[0][0]                 \n",
      "__________________________________________________________________________________________________\n",
      "encoder_L1 (Lambda)             (None, 10)           0           encoder_mean[0][0]               \n",
      "                                                                 encoder_log_var[0][0]            \n",
      "__________________________________________________________________________________________________\n",
      "generator (Model)               (None, 96000, 2)     2112330     encoder_L1[0][0]                 \n",
      "==================================================================================================\n",
      "Total params: 2,152,762\n",
      "Trainable params: 2,152,762\n",
      "Non-trainable params: 0\n",
      "__________________________________________________________________________________________________\n",
      "None\n"
     ]
    }
   ],
   "source": [
    "VAE_input = Input(shape=(segement_length, chennel_length), name='VAE_input')\n",
    "z = Conv1D(4, rate//1000, padding = 'same', activation = 'selu', name='encoder_c1')(VAE_input)\n",
    "z = Conv1D(8, rate//1000, padding = 'same', activation = 'selu', name='encoder_c2')(z)\n",
    "z = Conv1D(16, rate//1000, padding = 'same', activation = 'selu', name='encoder_c3')(z)\n",
    "z = MaxPool1D(pool_size = rate//100, padding = 'same', name='encoder_p1')(z)\n",
    "z = Flatten(name='encoder_f1')(z)\n",
    "z = Dense(input_dim, activation='selu', name='encoder_d1')(z)\n",
    "z = Dense(input_dim, activation='selu', name='encoder_d2')(z)\n",
    "# z = Dense(input_dim, activation='selu', name='encoder_d3')(z)\n",
    "encoder_mean = Dense(input_dim, activation='selu', name='encoder_mean')(z)\n",
    "encoder_log_var = Dense(input_dim, activation='selu', name='encoder_log_var')(z)\n",
    "\n",
    "def VAE_sampling(args):\n",
    "    z_mean, z_log_var = args\n",
    "    epsilon = K.random_normal(shape=(input_dim,), mean=0., stddev=1)\n",
    "    return z_mean + K.exp(z_log_var / 2) * epsilon\n",
    "# VAE_input = Input(shape=(segement_length, chennel_length), name='VAE_input')\n",
    "# z = encoder(VAE_input)\n",
    "z = Lambda(VAE_sampling, output_shape=(input_dim,), name='encoder_L1')([encoder_mean, encoder_log_var])\n",
    "VAE_output = generator(z)\n",
    "VAE = Model(VAE_input, VAE_output, name='VAE')\n",
    "def VAE_loss(x, x_recon):\n",
    "    recovery_loss = segement_length * chennel_length * metrics.binary_crossentropy(x, x_recon)\n",
    "    KL_loss = - 0.5 * K.sum(1 + encoder_log_var - K.square(encoder_mean) - K.exp(encoder_log_var), axis=-1)\n",
    "    return recovery_loss + KL_loss\n",
    "VAE.compile(loss=VAE_loss, optimizer=Adam(), metrics=['accuracy'])\n",
    "print(VAE.summary())"
   ]
  },
  {
   "cell_type": "code",
   "execution_count": 34,
   "metadata": {},
   "outputs": [
    {
     "name": "stdout",
     "output_type": "stream",
     "text": [
      "Epoch 1/10\n",
      "40/40 [==============================] - 13s 314ms/step - loss: 1167914.5094 - acc: 0.4986\n",
      "Epoch 2/10\n",
      "40/40 [==============================] - 12s 310ms/step - loss: 1167883.8594 - acc: 0.5112\n",
      "Epoch 3/10\n",
      "40/40 [==============================] - 13s 320ms/step - loss: 1167867.6656 - acc: 0.5259\n",
      "Epoch 4/10\n",
      "40/40 [==============================] - 13s 322ms/step - loss: 1167860.6219 - acc: 0.5302\n",
      "Epoch 5/10\n",
      "40/40 [==============================] - 13s 337ms/step - loss: 1167858.5781 - acc: 0.5318\n",
      "Epoch 6/10\n",
      "40/40 [==============================] - 14s 346ms/step - loss: 1167855.5406 - acc: 0.5338\n",
      "Epoch 7/10\n",
      "40/40 [==============================] - 14s 354ms/step - loss: 1167855.5969 - acc: 0.5337\n",
      "Epoch 8/10\n",
      "40/40 [==============================] - 15s 374ms/step - loss: 1167856.5938 - acc: 0.5343\n",
      "Epoch 9/10\n",
      "40/40 [==============================] - 16s 405ms/step - loss: 1167855.6063 - acc: 0.5344\n",
      "Epoch 10/10\n",
      "40/40 [==============================] - 16s 405ms/step - loss: 1167847.3219 - acc: 0.5388\n"
     ]
    }
   ],
   "source": [
    "start = 150\n",
    "end = start + 40\n",
    "VAE.fit(train0[start:end], train0[start:end], batch_size = 1, epochs = 10);"
   ]
  },
  {
   "cell_type": "code",
   "execution_count": 35,
   "metadata": {},
   "outputs": [],
   "source": [
    "def sampling(mean = 0, std = 1, batch = 1, input_dim = 10):\n",
    "    return (np.random.normal(size = input_dim * batch) * std + mean).reshape(batch, input_dim)\n",
    "\n",
    "def GAN(epochs = 1, batch = 16, times = 3):\n",
    "    for i in range(epochs):\n",
    "        print(\"\\n****************************************\\n   Epoch = \", i+1, \"/\", epochs)\n",
    "\n",
    "        # batch = 16\n",
    "        print(\"prepare data for discriminator...\")\n",
    "        x_train = np.zeros((batch * 2, segement_length, chennel_length))\n",
    "        shu = np.arange(batch)\n",
    "        shuffle(shu)\n",
    "        for idx in range(batch):\n",
    "            x_train[idx] = train0[shu[idx]].copy()\n",
    "        samples = sampling(mean = 0, std = 10, batch = batch, input_dim = input_dim)\n",
    "        x_train[batch:] = generator.predict(samples)\n",
    "        y_train = np.zeros((batch * 2, 2))\n",
    "        y_train[0:batch, 0] = np.ones(batch)\n",
    "        y_train[batch:, 1] = np.ones(batch)\n",
    "        print(\"discriminator training...\")\n",
    "        discriminator.fit(x_train, y_train, batch_size = batch * 2, shuffle = True, epochs = 1);\n",
    "\n",
    "        print(\"prepare data for generator...\")\n",
    "        # times = 3\n",
    "        x_train_combined = sampling(mean = 0, std = 1, batch = batch * times, input_dim = input_dim)\n",
    "        y_train_combined = np.zeros((batch * times, 2))\n",
    "        y_train_combined[:, 0] = np.ones(batch * times)\n",
    "        print(\"generator training...\")\n",
    "        combined.fit(x_train_combined, y_train_combined, batch_size = batch, epochs = 1);"
   ]
  },
  {
   "cell_type": "code",
   "execution_count": 36,
   "metadata": {},
   "outputs": [
    {
     "name": "stdout",
     "output_type": "stream",
     "text": [
      "\n",
      "****************************************\n",
      "   Epoch =  1 / 2\n",
      "prepare data for discriminator...\n",
      "discriminator training...\n"
     ]
    },
    {
     "name": "stderr",
     "output_type": "stream",
     "text": [
      "c:\\users\\奎佑\\appdata\\local\\programs\\python\\python36\\lib\\site-packages\\keras\\engine\\training.py:490: UserWarning: Discrepancy between trainable weights and collected trainable weights, did you set `model.trainable` without calling `model.compile` after ?\n",
      "  'Discrepancy between trainable weights and collected trainable'\n"
     ]
    },
    {
     "name": "stdout",
     "output_type": "stream",
     "text": [
      "Epoch 1/1\n",
      "64/64 [==============================] - 27s 423ms/step - loss: 0.5815 - acc: 0.5000\n",
      "prepare data for generator...\n",
      "generator training...\n",
      "Epoch 1/1\n",
      "320/320 [==============================] - 76s 236ms/step - loss: 0.7077 - acc: 0.0000e+00\n",
      "\n",
      "****************************************\n",
      "   Epoch =  2 / 2\n",
      "prepare data for discriminator...\n",
      "discriminator training...\n",
      "Epoch 1/1\n",
      "64/64 [==============================] - 20s 314ms/step - loss: 0.4043 - acc: 1.0000\n",
      "prepare data for generator...\n",
      "generator training...\n",
      "Epoch 1/1\n",
      "320/320 [==============================] - 74s 232ms/step - loss: 0.7465 - acc: 0.0000e+00\n"
     ]
    }
   ],
   "source": [
    "GAN(epochs = 2, batch = 32, times = 10)"
   ]
  },
  {
   "cell_type": "code",
   "execution_count": 7,
   "metadata": {},
   "outputs": [],
   "source": [
    "open('json_h5/GAN_generator.json','w').write(generator.to_json())\n",
    "open('json_h5/GAN_discriminator.json','w').write(discriminator.to_json())\n",
    "open('json_h5/GAN_combined.json','w').write(combined.to_json())\n",
    "\n",
    "generator.save_weights('json_h5/GAN_generator.h5')\n",
    "discriminator.save_weights('json_h5/GAN_discriminator.h5')"
   ]
  },
  {
   "cell_type": "markdown",
   "metadata": {},
   "source": [
    "#### Let's generate some jazz"
   ]
  },
  {
   "cell_type": "code",
   "execution_count": 9,
   "metadata": {},
   "outputs": [],
   "source": [
    "# samples = sampling(mean = 0, std = 1, batch = 1, input_dim = input_dim)\n",
    "# predicts = generator.predict(samples)\n",
    "# play_predicts = inverse_normalize(predicts[0].reshape(-1, chennel_length), max_value, min_value)\n",
    "# playAudio(play_predicts, rate = rate)"
   ]
  },
  {
   "cell_type": "code",
   "execution_count": 10,
   "metadata": {},
   "outputs": [],
   "source": [
    "# playAudio(song_array[segement_length*23:segement_length*24, 0], rate = rate)"
   ]
  },
  {
   "cell_type": "code",
   "execution_count": null,
   "metadata": {},
   "outputs": [],
   "source": []
  }
 ],
 "metadata": {
  "kernelspec": {
   "display_name": "Python 3",
   "language": "python",
   "name": "python3"
  },
  "language_info": {
   "codemirror_mode": {
    "name": "ipython",
    "version": 3
   },
   "file_extension": ".py",
   "mimetype": "text/x-python",
   "name": "python",
   "nbconvert_exporter": "python",
   "pygments_lexer": "ipython3",
   "version": "3.6.8"
  }
 },
 "nbformat": 4,
 "nbformat_minor": 2
}
